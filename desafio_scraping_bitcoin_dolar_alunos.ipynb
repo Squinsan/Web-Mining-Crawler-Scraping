{
  "nbformat": 4,
  "nbformat_minor": 0,
  "metadata": {
    "colab": {
      "provenance": []
    },
    "kernelspec": {
      "name": "python3",
      "display_name": "Python 3"
    },
    "language_info": {
      "name": "python"
    }
  },
  "cells": [
    {
      "cell_type": "markdown",
      "source": [
        "PRÁTICA - BITCOIN & DOLAR"
      ],
      "metadata": {
        "id": "aryIlyfdaGt2"
      }
    },
    {
      "cell_type": "code",
      "source": [
        "#!pip install requests"
      ],
      "metadata": {
        "id": "TaWo2NIbaeam"
      },
      "execution_count": null,
      "outputs": []
    },
    {
      "cell_type": "code",
      "source": [
        "#!pip freeze"
      ],
      "metadata": {
        "id": "-ZlGidmZaYtR"
      },
      "execution_count": null,
      "outputs": []
    },
    {
      "cell_type": "code",
      "execution_count": null,
      "metadata": {
        "id": "RcXK5-WkaFo4"
      },
      "outputs": [],
      "source": [
        "import requests\n",
        "import re"
      ]
    },
    {
      "cell_type": "markdown",
      "source": [
        "### scraping da página bitcoin"
      ],
      "metadata": {
        "id": "k06dudUqgcP7"
      }
    },
    {
      "cell_type": "code",
      "source": [
        "x = requests.get('https://dolarhoje.com/bitcoin-hoje/')\n",
        "print(x.status_code)\n",
        "conteudo = x.content"
      ],
      "metadata": {
        "id": "cGUAnwHgbrpU"
      },
      "execution_count": null,
      "outputs": []
    },
    {
      "cell_type": "code",
      "source": [
        "#buscar ponto inicial"
      ],
      "metadata": {
        "id": "qZLsWDB3cGdc"
      },
      "execution_count": null,
      "outputs": []
    },
    {
      "cell_type": "code",
      "source": [
        "#buscar ponto final"
      ],
      "metadata": {
        "id": "OZvGvexDc8Rb"
      },
      "execution_count": null,
      "outputs": []
    },
    {
      "cell_type": "code",
      "source": [
        "#capturar trecho de interesse\n",
        "trecho = str(conteudo)[:]\n",
        "trecho"
      ],
      "metadata": {
        "id": "UMt9TDp1dZON"
      },
      "execution_count": null,
      "outputs": []
    },
    {
      "cell_type": "markdown",
      "source": [
        "### cotação bitcoin"
      ],
      "metadata": {
        "id": "t355rZ0EhNZx"
      }
    },
    {
      "cell_type": "code",
      "source": [
        "cotacao_btc = re.search(\"\", trecho)\n",
        "type(cotacao_btc)"
      ],
      "metadata": {
        "id": "vdPY4iMbfZpv"
      },
      "execution_count": null,
      "outputs": []
    },
    {
      "cell_type": "code",
      "source": [
        "cotacao_btc"
      ],
      "metadata": {
        "id": "3iyky4fahw6T"
      },
      "execution_count": null,
      "outputs": []
    },
    {
      "cell_type": "code",
      "source": [
        "cotacao_btc.group(1)"
      ],
      "metadata": {
        "id": "ja8hyLbAg2W3"
      },
      "execution_count": null,
      "outputs": []
    },
    {
      "cell_type": "code",
      "source": [
        "# substituição de vírgula para ponto\n",
        "valor_btc =\n",
        "# conversão da cotação bitcoin de string para numérica\n",
        "valor_btc =\n",
        "# definição das casas decimais\n",
        "valor_btc =\n",
        "# exibição da varíavel\n",
        "valor_btc"
      ],
      "metadata": {
        "id": "oWLhYcRWlpDO"
      },
      "execution_count": null,
      "outputs": []
    },
    {
      "cell_type": "markdown",
      "source": [
        "### scraping da página dolar"
      ],
      "metadata": {
        "id": "OSwLZbB2gjjd"
      }
    },
    {
      "cell_type": "code",
      "source": [
        "x = requests.get('')\n",
        "print(x.status_code)\n",
        "conteudo = x.content"
      ],
      "metadata": {
        "id": "hIqvvxRJgjje"
      },
      "execution_count": null,
      "outputs": []
    },
    {
      "cell_type": "code",
      "source": [
        "#buscar ponto inicial"
      ],
      "metadata": {
        "id": "uwz_eofygjje"
      },
      "execution_count": null,
      "outputs": []
    },
    {
      "cell_type": "code",
      "source": [
        "#buscar ponto final"
      ],
      "metadata": {
        "id": "9nMTOTT4gjje"
      },
      "execution_count": null,
      "outputs": []
    },
    {
      "cell_type": "code",
      "source": [
        "#capturar trecho de interesse\n",
        "trecho = str(conteudo)[:]\n",
        "trecho"
      ],
      "metadata": {
        "id": "dWwzkSWSgjjo"
      },
      "execution_count": null,
      "outputs": []
    },
    {
      "cell_type": "markdown",
      "source": [
        "### cotação dolar"
      ],
      "metadata": {
        "id": "tRk8OpUne1de"
      }
    },
    {
      "cell_type": "code",
      "source": [
        "cotacao_dol = re.search(\"\", trecho)\n",
        "type(cotacao_dol)"
      ],
      "metadata": {
        "id": "ivWStuDCe56x"
      },
      "execution_count": null,
      "outputs": []
    },
    {
      "cell_type": "code",
      "source": [
        "cotacao_dol"
      ],
      "metadata": {
        "id": "8kUth2rEe56x"
      },
      "execution_count": null,
      "outputs": []
    },
    {
      "cell_type": "code",
      "source": [
        "cotacao_dol.group(1)"
      ],
      "metadata": {
        "id": "bJnquAtEe56y"
      },
      "execution_count": null,
      "outputs": []
    },
    {
      "cell_type": "code",
      "source": [
        "# substituição de vírgula para ponto\n",
        "valor_dol =\n",
        "# conversão da cotação dolar de string para numérica\n",
        "valor_dol =\n",
        "# definição das casas decimais\n",
        "valor_dol =\n",
        "# exibição da varíavel\n",
        "valor_dol"
      ],
      "metadata": {
        "id": "mY9G8h3ke56y"
      },
      "execution_count": null,
      "outputs": []
    },
    {
      "cell_type": "markdown",
      "source": [
        "### conversão da cotação do bitcoin de reais para dolar"
      ],
      "metadata": {
        "id": "AKGrzJFbfKz1"
      }
    },
    {
      "cell_type": "code",
      "source": [
        "btc_dol ="
      ],
      "metadata": {
        "id": "33_2n8F6fQ5Z"
      },
      "execution_count": null,
      "outputs": []
    },
    {
      "cell_type": "code",
      "source": [
        "print('1 bitcoin vale USD {}'.)"
      ],
      "metadata": {
        "colab": {
          "base_uri": "https://localhost:8080/"
        },
        "id": "JORHHrnzfX62",
        "outputId": "846c6e9d-bfc1-4a99-ec28-faa13b94f3ed"
      },
      "execution_count": null,
      "outputs": [
        {
          "output_type": "stream",
          "name": "stdout",
          "text": [
            "1 bitcoin equivale a {}\n"
          ]
        }
      ]
    }
  ]
}