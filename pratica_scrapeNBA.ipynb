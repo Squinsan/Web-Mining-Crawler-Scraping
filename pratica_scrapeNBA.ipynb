{
  "nbformat": 4,
  "nbformat_minor": 0,
  "metadata": {
    "colab": {
      "provenance": []
    },
    "kernelspec": {
      "name": "python3",
      "display_name": "Python 3"
    },
    "language_info": {
      "name": "python"
    }
  },
  "cells": [
    {
      "cell_type": "markdown",
      "source": [
        "##Mapeamento do Google Drive"
      ],
      "metadata": {
        "id": "EeKGXC54Iort"
      }
    },
    {
      "cell_type": "code",
      "source": [
        "from google.colab import drive\n",
        "drive.mount('/content/aqui')"
      ],
      "metadata": {
        "id": "uUrFhEXPagQn",
        "colab": {
          "base_uri": "https://localhost:8080/"
        },
        "outputId": "55a9de6e-160a-4537-f360-60627c761fc1"
      },
      "execution_count": null,
      "outputs": [
        {
          "output_type": "stream",
          "name": "stdout",
          "text": [
            "Mounted at /content/aqui\n"
          ]
        }
      ]
    },
    {
      "cell_type": "markdown",
      "source": [
        "##instalação de Pacotes"
      ],
      "metadata": {
        "id": "wl5cK-B9u7YU"
      }
    },
    {
      "cell_type": "code",
      "execution_count": null,
      "metadata": {
        "id": "AML05w12qapG",
        "colab": {
          "base_uri": "https://localhost:8080/"
        },
        "outputId": "62fe72b5-13ae-48c8-9067-2dce49b543e8"
      },
      "outputs": [
        {
          "output_type": "stream",
          "name": "stdout",
          "text": [
            "Requirement already satisfied: playwright in /usr/local/lib/python3.10/dist-packages (1.44.0)\n",
            "Requirement already satisfied: greenlet==3.0.3 in /usr/local/lib/python3.10/dist-packages (from playwright) (3.0.3)\n",
            "Requirement already satisfied: pyee==11.1.0 in /usr/local/lib/python3.10/dist-packages (from playwright) (11.1.0)\n",
            "Requirement already satisfied: typing-extensions in /usr/local/lib/python3.10/dist-packages (from pyee==11.1.0->playwright) (4.12.2)\n"
          ]
        }
      ],
      "source": [
        "!pip install playwright --upgrade"
      ]
    },
    {
      "cell_type": "code",
      "source": [
        "!playwright install-deps"
      ],
      "metadata": {
        "id": "Le-GBlQgwoiI"
      },
      "execution_count": null,
      "outputs": []
    },
    {
      "cell_type": "code",
      "source": [
        "!playwright install"
      ],
      "metadata": {
        "id": "hSb-kM0cqnrd"
      },
      "execution_count": null,
      "outputs": []
    },
    {
      "cell_type": "markdown",
      "source": [
        "##Bibliotecas"
      ],
      "metadata": {
        "id": "fePRtWd1vAMI"
      }
    },
    {
      "cell_type": "code",
      "source": [
        "import os\n",
        "from bs4 import BeautifulSoup\n",
        "from playwright.async_api import async_playwright, TimeoutError as PlaywrightTimeout\n",
        "import time\n",
        "import re"
      ],
      "metadata": {
        "id": "fthZxOnRq03s"
      },
      "execution_count": null,
      "outputs": []
    },
    {
      "cell_type": "code",
      "source": [
        "SEASONS = list(range(2018, 2025))\n",
        "SEASONS"
      ],
      "metadata": {
        "id": "gDUb7LYurDeE",
        "colab": {
          "base_uri": "https://localhost:8080/"
        },
        "outputId": "70aaa162-c683-40b1-d85f-f249c3ec57c0"
      },
      "execution_count": null,
      "outputs": [
        {
          "output_type": "execute_result",
          "data": {
            "text/plain": [
              "[2018, 2019, 2020, 2021, 2022, 2023, 2024]"
            ]
          },
          "metadata": {},
          "execution_count": 17
        }
      ]
    },
    {
      "cell_type": "code",
      "source": [
        "DATA_DIR = '/content/aqui/MyDrive/WebMining_Scraping_DE05/AULA2'\n",
        "CLASSIFICACAO_DIR = os.path.join(DATA_DIR, 'classificacao')\n",
        "PONTUACAO_DIR = os.path.join(DATA_DIR, 'pontuacao')"
      ],
      "metadata": {
        "id": "N0uRX_tFrJ2f"
      },
      "execution_count": null,
      "outputs": []
    },
    {
      "cell_type": "code",
      "source": [
        "!mkdir -p $CLASSIFICACAO_DIR\n",
        "!mkdir -p $PONTUACAO_DIR"
      ],
      "metadata": {
        "id": "LczSwW11Wm5X"
      },
      "execution_count": null,
      "outputs": []
    },
    {
      "cell_type": "markdown",
      "source": [
        "##ASYNC"
      ],
      "metadata": {
        "id": "wUcqngN7Cwb8"
      }
    },
    {
      "cell_type": "code",
      "source": [
        "#teste\n",
        "async def soma(x,y):\n",
        "  return (x + y)"
      ],
      "metadata": {
        "id": "Qy7rR3bHsXpr"
      },
      "execution_count": null,
      "outputs": []
    },
    {
      "cell_type": "code",
      "source": [
        "soma(12, 15)"
      ],
      "metadata": {
        "id": "r_K5yY7XseE_",
        "colab": {
          "base_uri": "https://localhost:8080/"
        },
        "outputId": "231791d0-94cc-4c31-8e03-28419c7c046d"
      },
      "execution_count": null,
      "outputs": [
        {
          "output_type": "execute_result",
          "data": {
            "text/plain": [
              "<coroutine object soma at 0x7ed39bc0d620>"
            ]
          },
          "metadata": {},
          "execution_count": 21
        }
      ]
    },
    {
      "cell_type": "markdown",
      "source": [
        "##CAPTURA HTML"
      ],
      "metadata": {
        "id": "a1QRdOhx3t3x"
      }
    },
    {
      "cell_type": "code",
      "source": [
        "async def get_html(url, selector, sleep=5, retries=3):\n",
        "  html = None\n",
        "  for i in range(1, retries+1):\n",
        "    # time.sleep(sleep * i)\n",
        "\n",
        "    try:\n",
        "      async with async_playwright() as p:\n",
        "        browser = await p.firefox.launch() #chromium\n",
        "        page = await browser.new_page()\n",
        "        await page.goto(url)\n",
        "        print(await page.title())\n",
        "        html = await page.inner_html(selector)\n",
        "    except PlaywrightTimeout:\n",
        "      print(f'Timeout em {url}')\n",
        "    else:\n",
        "      break\n",
        "\n",
        "  return html"
      ],
      "metadata": {
        "id": "KX0Kv4FeskNC"
      },
      "execution_count": null,
      "outputs": []
    },
    {
      "cell_type": "code",
      "source": [
        "season = 2024\n",
        "\n",
        "url = f'https://www.basketball-reference.com/leagues/NBA_{season}_games.html'"
      ],
      "metadata": {
        "id": "4sedV-6_to9b"
      },
      "execution_count": null,
      "outputs": []
    },
    {
      "cell_type": "code",
      "source": [
        "url"
      ],
      "metadata": {
        "id": "tDmp5PKUun2O",
        "colab": {
          "base_uri": "https://localhost:8080/",
          "height": 36
        },
        "outputId": "467067f8-6b87-4bc5-c5f9-9d5ec5fb546a"
      },
      "execution_count": null,
      "outputs": [
        {
          "output_type": "execute_result",
          "data": {
            "text/plain": [
              "'https://www.basketball-reference.com/leagues/NBA_2024_games.html'"
            ],
            "application/vnd.google.colaboratory.intrinsic+json": {
              "type": "string"
            }
          },
          "metadata": {},
          "execution_count": 24
        }
      ]
    },
    {
      "cell_type": "code",
      "source": [
        "html = await get_html(url, '#content .filter')"
      ],
      "metadata": {
        "id": "KYil8sEhuo43",
        "colab": {
          "base_uri": "https://localhost:8080/"
        },
        "outputId": "8da790c1-8568-40ce-92d8-3198532ee513"
      },
      "execution_count": null,
      "outputs": [
        {
          "output_type": "stream",
          "name": "stdout",
          "text": [
            "2023-24 NBA Schedule | Basketball-Reference.com\n"
          ]
        }
      ]
    },
    {
      "cell_type": "code",
      "source": [
        "html"
      ],
      "metadata": {
        "id": "P5hBNH1dvjSX",
        "colab": {
          "base_uri": "https://localhost:8080/",
          "height": 105
        },
        "outputId": "f7ea48ce-e4be-43b1-d643-e7995376dfc2"
      },
      "execution_count": null,
      "outputs": [
        {
          "output_type": "execute_result",
          "data": {
            "text/plain": [
              "'\\n\\n<div class=\"\">\\n\\t<a href=\"/leagues/NBA_2024_games-october.html\">October</a>\\n</div><div class=\"\">\\n\\t<a href=\"/leagues/NBA_2024_games-november.html\">November</a>\\n</div><div class=\"\">\\n\\t<a href=\"/leagues/NBA_2024_games-december.html\">December</a>\\n</div><div class=\"\">\\n\\t<a href=\"/leagues/NBA_2024_games-january.html\">January</a>\\n</div><div class=\"\">\\n\\t<a href=\"/leagues/NBA_2024_games-february.html\">February</a>\\n</div><div class=\"\">\\n\\t<a href=\"/leagues/NBA_2024_games-march.html\">March</a>\\n</div><div class=\"\">\\n\\t<a href=\"/leagues/NBA_2024_games-april.html\">April</a>\\n</div><div class=\"\">\\n\\t<a href=\"/leagues/NBA_2024_games-may.html\">May</a>\\n</div><div class=\"\">\\n\\t<a href=\"/leagues/NBA_2024_games-june.html\">June</a>\\n</div>'"
            ],
            "application/vnd.google.colaboratory.intrinsic+json": {
              "type": "string"
            }
          },
          "metadata": {},
          "execution_count": 14
        }
      ]
    },
    {
      "cell_type": "markdown",
      "source": [
        "##CAPTURA TEMPORADAS"
      ],
      "metadata": {
        "id": "kL-CeUER32dI"
      }
    },
    {
      "cell_type": "code",
      "source": [
        "async def scrape_season(season):\n",
        "  url = f'https://www.basketball-reference.com/leagues/NBA_{season}_games.html'\n",
        "  html = await get_html(url, '#content .filter')\n",
        "\n",
        "  soup = BeautifulSoup(html)\n",
        "  links = soup.find_all('a')\n",
        "  href = [l['href'] for l in links]\n",
        "  standings_pages = [f'https://www.basketball-reference.com{l}' for l in href]\n",
        "\n",
        "  for url in standings_pages:\n",
        "    save_path = os.path.join(CLASSIFICACAO_DIR, url.split('/')[-1])\n",
        "    if os.path.exists(save_path):\n",
        "      continue\n",
        "\n",
        "    html = await get_html(url, '#all_schedule')\n",
        "    with open(save_path, 'w+') as f:\n",
        "      f.write(html)"
      ],
      "metadata": {
        "id": "aFJiQCkav-MD"
      },
      "execution_count": null,
      "outputs": []
    },
    {
      "cell_type": "code",
      "source": [
        "for season in SEASONS:\n",
        "  await scrape_season(season)"
      ],
      "metadata": {
        "id": "fh5hoG-Wxb8d",
        "colab": {
          "base_uri": "https://localhost:8080/"
        },
        "outputId": "9c1ee675-18a8-4a16-d502-2d375a258603"
      },
      "execution_count": null,
      "outputs": [
        {
          "output_type": "stream",
          "name": "stdout",
          "text": [
            "2017-18 NBA Schedule | Basketball-Reference.com\n",
            "2018-19 NBA Schedule | Basketball-Reference.com\n",
            "2019-20 NBA Schedule | Basketball-Reference.com\n",
            "2019-20 NBA Schedule | Basketball-Reference.com\n",
            "2020-21 NBA Schedule | Basketball-Reference.com\n",
            "2021-22 NBA Schedule | Basketball-Reference.com\n",
            "2022-23 NBA Schedule | Basketball-Reference.com\n",
            "2023-24 NBA Schedule | Basketball-Reference.com\n",
            "2023-24 NBA Schedule | Basketball-Reference.com\n",
            "2023-24 NBA Schedule | Basketball-Reference.com\n"
          ]
        }
      ]
    },
    {
      "cell_type": "code",
      "source": [
        "classificacao_files = os.listdir(CLASSIFICACAO_DIR)\n",
        "classificacao_files"
      ],
      "metadata": {
        "id": "ISnBsztjXdfR",
        "colab": {
          "base_uri": "https://localhost:8080/"
        },
        "outputId": "46fe602c-a8a9-4d87-feb0-60f1e488f049"
      },
      "execution_count": null,
      "outputs": [
        {
          "output_type": "execute_result",
          "data": {
            "text/plain": [
              "['NBA_2024_games-october.html',\n",
              " 'NBA_2024_games-november.html',\n",
              " 'NBA_2024_games-december.html',\n",
              " 'NBA_2024_games-january.html',\n",
              " 'NBA_2024_games-february.html',\n",
              " 'NBA_2024_games-march.html',\n",
              " 'NBA_2024_games-april.html',\n",
              " 'NBA_2018_games-october.html',\n",
              " 'NBA_2018_games-november.html',\n",
              " 'NBA_2018_games-december.html',\n",
              " 'NBA_2018_games-january.html',\n",
              " 'NBA_2018_games-february.html',\n",
              " 'NBA_2018_games-march.html',\n",
              " 'NBA_2018_games-april.html',\n",
              " 'NBA_2018_games-may.html',\n",
              " 'NBA_2018_games-june.html',\n",
              " 'NBA_2019_games-october.html',\n",
              " 'NBA_2019_games-november.html',\n",
              " 'NBA_2019_games-december.html',\n",
              " 'NBA_2019_games-january.html',\n",
              " 'NBA_2019_games-february.html',\n",
              " 'NBA_2019_games-march.html',\n",
              " 'NBA_2019_games-april.html',\n",
              " 'NBA_2019_games-may.html',\n",
              " 'NBA_2019_games-june.html',\n",
              " 'NBA_2020_games-october-2019.html',\n",
              " 'NBA_2020_games-november.html',\n",
              " 'NBA_2020_games-december.html',\n",
              " 'NBA_2020_games-january.html',\n",
              " 'NBA_2020_games-february.html',\n",
              " 'NBA_2020_games-march.html',\n",
              " 'NBA_2020_games-july.html',\n",
              " 'NBA_2020_games-august.html',\n",
              " 'NBA_2020_games-september.html',\n",
              " 'NBA_2020_games-october-2020.html',\n",
              " 'NBA_2021_games-december.html',\n",
              " 'NBA_2021_games-january.html',\n",
              " 'NBA_2021_games-february.html',\n",
              " 'NBA_2021_games-march.html',\n",
              " 'NBA_2021_games-april.html',\n",
              " 'NBA_2021_games-may.html',\n",
              " 'NBA_2021_games-june.html',\n",
              " 'NBA_2021_games-july.html',\n",
              " 'NBA_2022_games-october.html',\n",
              " 'NBA_2022_games-november.html',\n",
              " 'NBA_2022_games-december.html',\n",
              " 'NBA_2022_games-january.html',\n",
              " 'NBA_2022_games-february.html',\n",
              " 'NBA_2022_games-march.html',\n",
              " 'NBA_2022_games-april.html',\n",
              " 'NBA_2022_games-may.html',\n",
              " 'NBA_2022_games-june.html',\n",
              " 'NBA_2023_games-october.html',\n",
              " 'NBA_2023_games-november.html',\n",
              " 'NBA_2023_games-december.html',\n",
              " 'NBA_2023_games-january.html',\n",
              " 'NBA_2023_games-february.html',\n",
              " 'NBA_2023_games-march.html',\n",
              " 'NBA_2023_games-april.html',\n",
              " 'NBA_2023_games-may.html',\n",
              " 'NBA_2023_games-june.html',\n",
              " 'NBA_2020_games-october.html',\n",
              " 'NBA_2024_games-may.html',\n",
              " 'NBA_2024_games-june.html']"
            ]
          },
          "metadata": {},
          "execution_count": 28
        }
      ]
    },
    {
      "cell_type": "markdown",
      "source": [
        "##CAPTURA PARTIDAS"
      ],
      "metadata": {
        "id": "5SmGFkEN391O"
      }
    },
    {
      "cell_type": "code",
      "source": [
        "async def scrape_game(classif_arq):\n",
        "  with open(classif_arq, 'r') as f:\n",
        "    html = f.read()\n",
        "\n",
        "  soup = BeautifulSoup(html)\n",
        "\n",
        "  links = soup.find_all('a')\n",
        "\n",
        "  boxscores = []\n",
        "  for l in links:\n",
        "    txt = re.search('\\/boxscores\\/.*\\.html', str(l))\n",
        "    if txt:\n",
        "      boxscores.append(txt.group())\n",
        "\n",
        "  boxscores = [f'https://www.basketball-reference.com{l}' for l in boxscores]\n",
        "\n",
        "  for url in boxscores:\n",
        "    save_path = os.path.join(PONTUACAO_DIR, url.split('/')[-1])\n",
        "    if os.path.exists(save_path):\n",
        "      continue\n",
        "\n",
        "    html = await get_html(url, '#content')\n",
        "    if not html:\n",
        "      continue\n",
        "\n",
        "    with open(save_path, 'w+') as f:\n",
        "      f.write(html)"
      ],
      "metadata": {
        "id": "uhK2VMzwYONd"
      },
      "execution_count": null,
      "outputs": []
    },
    {
      "cell_type": "code",
      "source": [
        "for c in classificacao_files:\n",
        "  c_file = os.path.join(CLASSIFICACAO_DIR, c)\n",
        "\n",
        "  await scrape_game(c_file)"
      ],
      "metadata": {
        "id": "niZxQw9Eekwk",
        "colab": {
          "base_uri": "https://localhost:8080/",
          "height": 477
        },
        "outputId": "ef82bf1f-cc44-4937-97ff-8f78d6e375cc"
      },
      "execution_count": null,
      "outputs": [
        {
          "output_type": "stream",
          "name": "stdout",
          "text": [
            "76ers vs Trail Blazers, February 11, 2021 | Basketball-Reference.com\n",
            "Timberwolves vs Hornets, February 12, 2021 | Basketball-Reference.com\n",
            "Knicks vs Wizards, February 12, 2021 | Basketball-Reference.com\n",
            "Spurs vs Hawks, February 12, 2021 | Basketball-Reference.com\n",
            "Pelicans vs Mavericks, February 12, 2021 | Basketball-Reference.com\n",
            "Pistons vs Celtics, February 12, 2021 | Basketball-Reference.com\n",
            "Clippers vs Bulls, February 12, 2021 | Basketball-Reference.com\n",
            "Thunder vs Nuggets, February 12, 2021 | Basketball-Reference.com\n",
            "Bucks vs Jazz, February 12, 2021 | Basketball-Reference.com\n"
          ]
        },
        {
          "output_type": "error",
          "ename": "CancelledError",
          "evalue": "",
          "traceback": [
            "\u001b[0;31m---------------------------------------------------------------------------\u001b[0m",
            "\u001b[0;31mCancelledError\u001b[0m                            Traceback (most recent call last)",
            "\u001b[0;32m<ipython-input-30-1a6e86403403>\u001b[0m in \u001b[0;36m<cell line: 1>\u001b[0;34m()\u001b[0m\n\u001b[1;32m      2\u001b[0m   \u001b[0mc_file\u001b[0m \u001b[0;34m=\u001b[0m \u001b[0mos\u001b[0m\u001b[0;34m.\u001b[0m\u001b[0mpath\u001b[0m\u001b[0;34m.\u001b[0m\u001b[0mjoin\u001b[0m\u001b[0;34m(\u001b[0m\u001b[0mCLASSIFICACAO_DIR\u001b[0m\u001b[0;34m,\u001b[0m \u001b[0mc\u001b[0m\u001b[0;34m)\u001b[0m\u001b[0;34m\u001b[0m\u001b[0;34m\u001b[0m\u001b[0m\n\u001b[1;32m      3\u001b[0m \u001b[0;34m\u001b[0m\u001b[0m\n\u001b[0;32m----> 4\u001b[0;31m   \u001b[0;32mawait\u001b[0m \u001b[0mscrape_game\u001b[0m\u001b[0;34m(\u001b[0m\u001b[0mc_file\u001b[0m\u001b[0;34m)\u001b[0m\u001b[0;34m\u001b[0m\u001b[0;34m\u001b[0m\u001b[0m\n\u001b[0m",
            "\u001b[0;32m<ipython-input-29-0a501cd70548>\u001b[0m in \u001b[0;36mscrape_game\u001b[0;34m(classif_arq)\u001b[0m\n\u001b[1;32m     20\u001b[0m       \u001b[0;32mcontinue\u001b[0m\u001b[0;34m\u001b[0m\u001b[0;34m\u001b[0m\u001b[0m\n\u001b[1;32m     21\u001b[0m \u001b[0;34m\u001b[0m\u001b[0m\n\u001b[0;32m---> 22\u001b[0;31m     \u001b[0mhtml\u001b[0m \u001b[0;34m=\u001b[0m \u001b[0;32mawait\u001b[0m \u001b[0mget_html\u001b[0m\u001b[0;34m(\u001b[0m\u001b[0murl\u001b[0m\u001b[0;34m,\u001b[0m \u001b[0;34m'#content'\u001b[0m\u001b[0;34m)\u001b[0m\u001b[0;34m\u001b[0m\u001b[0;34m\u001b[0m\u001b[0m\n\u001b[0m\u001b[1;32m     23\u001b[0m     \u001b[0;32mif\u001b[0m \u001b[0;32mnot\u001b[0m \u001b[0mhtml\u001b[0m\u001b[0;34m:\u001b[0m\u001b[0;34m\u001b[0m\u001b[0;34m\u001b[0m\u001b[0m\n\u001b[1;32m     24\u001b[0m       \u001b[0;32mcontinue\u001b[0m\u001b[0;34m\u001b[0m\u001b[0;34m\u001b[0m\u001b[0m\n",
            "\u001b[0;32m<ipython-input-22-06ba996c9692>\u001b[0m in \u001b[0;36mget_html\u001b[0;34m(url, selector, sleep, retries)\u001b[0m\n\u001b[1;32m      6\u001b[0m     \u001b[0;32mtry\u001b[0m\u001b[0;34m:\u001b[0m\u001b[0;34m\u001b[0m\u001b[0;34m\u001b[0m\u001b[0m\n\u001b[1;32m      7\u001b[0m       \u001b[0;32masync\u001b[0m \u001b[0;32mwith\u001b[0m \u001b[0masync_playwright\u001b[0m\u001b[0;34m(\u001b[0m\u001b[0;34m)\u001b[0m \u001b[0;32mas\u001b[0m \u001b[0mp\u001b[0m\u001b[0;34m:\u001b[0m\u001b[0;34m\u001b[0m\u001b[0;34m\u001b[0m\u001b[0m\n\u001b[0;32m----> 8\u001b[0;31m         \u001b[0mbrowser\u001b[0m \u001b[0;34m=\u001b[0m \u001b[0;32mawait\u001b[0m \u001b[0mp\u001b[0m\u001b[0;34m.\u001b[0m\u001b[0mfirefox\u001b[0m\u001b[0;34m.\u001b[0m\u001b[0mlaunch\u001b[0m\u001b[0;34m(\u001b[0m\u001b[0;34m)\u001b[0m \u001b[0;31m#chromium\u001b[0m\u001b[0;34m\u001b[0m\u001b[0;34m\u001b[0m\u001b[0m\n\u001b[0m\u001b[1;32m      9\u001b[0m         \u001b[0mpage\u001b[0m \u001b[0;34m=\u001b[0m \u001b[0;32mawait\u001b[0m \u001b[0mbrowser\u001b[0m\u001b[0;34m.\u001b[0m\u001b[0mnew_page\u001b[0m\u001b[0;34m(\u001b[0m\u001b[0;34m)\u001b[0m\u001b[0;34m\u001b[0m\u001b[0;34m\u001b[0m\u001b[0m\n\u001b[1;32m     10\u001b[0m         \u001b[0;32mawait\u001b[0m \u001b[0mpage\u001b[0m\u001b[0;34m.\u001b[0m\u001b[0mgoto\u001b[0m\u001b[0;34m(\u001b[0m\u001b[0murl\u001b[0m\u001b[0;34m)\u001b[0m\u001b[0;34m\u001b[0m\u001b[0;34m\u001b[0m\u001b[0m\n",
            "\u001b[0;32m/usr/local/lib/python3.10/dist-packages/playwright/async_api/_generated.py\u001b[0m in \u001b[0;36mlaunch\u001b[0;34m(self, executable_path, channel, args, ignore_default_args, handle_sigint, handle_sigterm, handle_sighup, timeout, env, headless, devtools, proxy, downloads_path, slow_mo, traces_dir, chromium_sandbox, firefox_user_prefs)\u001b[0m\n\u001b[1;32m  13955\u001b[0m \u001b[0;34m\u001b[0m\u001b[0m\n\u001b[1;32m  13956\u001b[0m         return mapping.from_impl(\n\u001b[0;32m> 13957\u001b[0;31m             await self._impl_obj.launch(\n\u001b[0m\u001b[1;32m  13958\u001b[0m                 \u001b[0mexecutablePath\u001b[0m\u001b[0;34m=\u001b[0m\u001b[0mexecutable_path\u001b[0m\u001b[0;34m,\u001b[0m\u001b[0;34m\u001b[0m\u001b[0;34m\u001b[0m\u001b[0m\n\u001b[1;32m  13959\u001b[0m                 \u001b[0mchannel\u001b[0m\u001b[0;34m=\u001b[0m\u001b[0mchannel\u001b[0m\u001b[0;34m,\u001b[0m\u001b[0;34m\u001b[0m\u001b[0;34m\u001b[0m\u001b[0m\n",
            "\u001b[0;32m/usr/local/lib/python3.10/dist-packages/playwright/_impl/_browser_type.py\u001b[0m in \u001b[0;36mlaunch\u001b[0;34m(self, executablePath, channel, args, ignoreDefaultArgs, handleSIGINT, handleSIGTERM, handleSIGHUP, timeout, env, headless, devtools, proxy, downloadsPath, slowMo, tracesDir, chromiumSandbox, firefoxUserPrefs)\u001b[0m\n\u001b[1;32m     92\u001b[0m         \u001b[0mnormalize_launch_params\u001b[0m\u001b[0;34m(\u001b[0m\u001b[0mparams\u001b[0m\u001b[0;34m)\u001b[0m\u001b[0;34m\u001b[0m\u001b[0;34m\u001b[0m\u001b[0m\n\u001b[1;32m     93\u001b[0m         browser = cast(\n\u001b[0;32m---> 94\u001b[0;31m             \u001b[0mBrowser\u001b[0m\u001b[0;34m,\u001b[0m \u001b[0mfrom_channel\u001b[0m\u001b[0;34m(\u001b[0m\u001b[0;32mawait\u001b[0m \u001b[0mself\u001b[0m\u001b[0;34m.\u001b[0m\u001b[0m_channel\u001b[0m\u001b[0;34m.\u001b[0m\u001b[0msend\u001b[0m\u001b[0;34m(\u001b[0m\u001b[0;34m\"launch\"\u001b[0m\u001b[0;34m,\u001b[0m \u001b[0mparams\u001b[0m\u001b[0;34m)\u001b[0m\u001b[0;34m)\u001b[0m\u001b[0;34m\u001b[0m\u001b[0;34m\u001b[0m\u001b[0m\n\u001b[0m\u001b[1;32m     95\u001b[0m         )\n\u001b[1;32m     96\u001b[0m         \u001b[0mself\u001b[0m\u001b[0;34m.\u001b[0m\u001b[0m_did_launch_browser\u001b[0m\u001b[0;34m(\u001b[0m\u001b[0mbrowser\u001b[0m\u001b[0;34m)\u001b[0m\u001b[0;34m\u001b[0m\u001b[0;34m\u001b[0m\u001b[0m\n",
            "\u001b[0;32m/usr/local/lib/python3.10/dist-packages/playwright/_impl/_connection.py\u001b[0m in \u001b[0;36msend\u001b[0;34m(self, method, params)\u001b[0m\n\u001b[1;32m     57\u001b[0m \u001b[0;34m\u001b[0m\u001b[0m\n\u001b[1;32m     58\u001b[0m     \u001b[0;32masync\u001b[0m \u001b[0;32mdef\u001b[0m \u001b[0msend\u001b[0m\u001b[0;34m(\u001b[0m\u001b[0mself\u001b[0m\u001b[0;34m,\u001b[0m \u001b[0mmethod\u001b[0m\u001b[0;34m:\u001b[0m \u001b[0mstr\u001b[0m\u001b[0;34m,\u001b[0m \u001b[0mparams\u001b[0m\u001b[0;34m:\u001b[0m \u001b[0mDict\u001b[0m \u001b[0;34m=\u001b[0m \u001b[0;32mNone\u001b[0m\u001b[0;34m)\u001b[0m \u001b[0;34m->\u001b[0m \u001b[0mAny\u001b[0m\u001b[0;34m:\u001b[0m\u001b[0;34m\u001b[0m\u001b[0;34m\u001b[0m\u001b[0m\n\u001b[0;32m---> 59\u001b[0;31m         return await self._connection.wrap_api_call(\n\u001b[0m\u001b[1;32m     60\u001b[0m             \u001b[0;32mlambda\u001b[0m\u001b[0;34m:\u001b[0m \u001b[0mself\u001b[0m\u001b[0;34m.\u001b[0m\u001b[0minner_send\u001b[0m\u001b[0;34m(\u001b[0m\u001b[0mmethod\u001b[0m\u001b[0;34m,\u001b[0m \u001b[0mparams\u001b[0m\u001b[0;34m,\u001b[0m \u001b[0;32mFalse\u001b[0m\u001b[0;34m)\u001b[0m\u001b[0;34m\u001b[0m\u001b[0;34m\u001b[0m\u001b[0m\n\u001b[1;32m     61\u001b[0m         )\n",
            "\u001b[0;32m/usr/local/lib/python3.10/dist-packages/playwright/_impl/_connection.py\u001b[0m in \u001b[0;36mwrap_api_call\u001b[0;34m(self, cb, is_internal)\u001b[0m\n\u001b[1;32m    510\u001b[0m         \u001b[0mself\u001b[0m\u001b[0;34m.\u001b[0m\u001b[0m_api_zone\u001b[0m\u001b[0;34m.\u001b[0m\u001b[0mset\u001b[0m\u001b[0;34m(\u001b[0m\u001b[0mparsed_st\u001b[0m\u001b[0;34m)\u001b[0m\u001b[0;34m\u001b[0m\u001b[0;34m\u001b[0m\u001b[0m\n\u001b[1;32m    511\u001b[0m         \u001b[0;32mtry\u001b[0m\u001b[0;34m:\u001b[0m\u001b[0;34m\u001b[0m\u001b[0;34m\u001b[0m\u001b[0m\n\u001b[0;32m--> 512\u001b[0;31m             \u001b[0;32mreturn\u001b[0m \u001b[0;32mawait\u001b[0m \u001b[0mcb\u001b[0m\u001b[0;34m(\u001b[0m\u001b[0;34m)\u001b[0m\u001b[0;34m\u001b[0m\u001b[0;34m\u001b[0m\u001b[0m\n\u001b[0m\u001b[1;32m    513\u001b[0m         \u001b[0;32mexcept\u001b[0m \u001b[0mException\u001b[0m \u001b[0;32mas\u001b[0m \u001b[0merror\u001b[0m\u001b[0;34m:\u001b[0m\u001b[0;34m\u001b[0m\u001b[0;34m\u001b[0m\u001b[0m\n\u001b[1;32m    514\u001b[0m             \u001b[0;32mraise\u001b[0m \u001b[0mrewrite_error\u001b[0m\u001b[0;34m(\u001b[0m\u001b[0merror\u001b[0m\u001b[0;34m,\u001b[0m \u001b[0;34mf\"{parsed_st['apiName']}: {error}\"\u001b[0m\u001b[0;34m)\u001b[0m \u001b[0;32mfrom\u001b[0m \u001b[0;32mNone\u001b[0m\u001b[0;34m\u001b[0m\u001b[0;34m\u001b[0m\u001b[0m\n",
            "\u001b[0;32m/usr/local/lib/python3.10/dist-packages/playwright/_impl/_connection.py\u001b[0m in \u001b[0;36minner_send\u001b[0;34m(self, method, params, return_as_dict)\u001b[0m\n\u001b[1;32m     86\u001b[0m             \u001b[0mself\u001b[0m\u001b[0;34m.\u001b[0m\u001b[0m_object\u001b[0m\u001b[0;34m,\u001b[0m \u001b[0mmethod\u001b[0m\u001b[0;34m,\u001b[0m \u001b[0m_filter_none\u001b[0m\u001b[0;34m(\u001b[0m\u001b[0mparams\u001b[0m\u001b[0;34m)\u001b[0m\u001b[0;34m\u001b[0m\u001b[0;34m\u001b[0m\u001b[0m\n\u001b[1;32m     87\u001b[0m         )\n\u001b[0;32m---> 88\u001b[0;31m         done, _ = await asyncio.wait(\n\u001b[0m\u001b[1;32m     89\u001b[0m             {\n\u001b[1;32m     90\u001b[0m                 \u001b[0mself\u001b[0m\u001b[0;34m.\u001b[0m\u001b[0m_connection\u001b[0m\u001b[0;34m.\u001b[0m\u001b[0m_transport\u001b[0m\u001b[0;34m.\u001b[0m\u001b[0mon_error_future\u001b[0m\u001b[0;34m,\u001b[0m\u001b[0;34m\u001b[0m\u001b[0;34m\u001b[0m\u001b[0m\n",
            "\u001b[0;32m/usr/lib/python3.10/asyncio/tasks.py\u001b[0m in \u001b[0;36mwait\u001b[0;34m(fs, timeout, return_when)\u001b[0m\n\u001b[1;32m    382\u001b[0m     \u001b[0mfs\u001b[0m \u001b[0;34m=\u001b[0m \u001b[0;34m{\u001b[0m\u001b[0mensure_future\u001b[0m\u001b[0;34m(\u001b[0m\u001b[0mf\u001b[0m\u001b[0;34m,\u001b[0m \u001b[0mloop\u001b[0m\u001b[0;34m=\u001b[0m\u001b[0mloop\u001b[0m\u001b[0;34m)\u001b[0m \u001b[0;32mfor\u001b[0m \u001b[0mf\u001b[0m \u001b[0;32min\u001b[0m \u001b[0mfs\u001b[0m\u001b[0;34m}\u001b[0m\u001b[0;34m\u001b[0m\u001b[0;34m\u001b[0m\u001b[0m\n\u001b[1;32m    383\u001b[0m \u001b[0;34m\u001b[0m\u001b[0m\n\u001b[0;32m--> 384\u001b[0;31m     \u001b[0;32mreturn\u001b[0m \u001b[0;32mawait\u001b[0m \u001b[0m_wait\u001b[0m\u001b[0;34m(\u001b[0m\u001b[0mfs\u001b[0m\u001b[0;34m,\u001b[0m \u001b[0mtimeout\u001b[0m\u001b[0;34m,\u001b[0m \u001b[0mreturn_when\u001b[0m\u001b[0;34m,\u001b[0m \u001b[0mloop\u001b[0m\u001b[0;34m)\u001b[0m\u001b[0;34m\u001b[0m\u001b[0;34m\u001b[0m\u001b[0m\n\u001b[0m\u001b[1;32m    385\u001b[0m \u001b[0;34m\u001b[0m\u001b[0m\n\u001b[1;32m    386\u001b[0m \u001b[0;34m\u001b[0m\u001b[0m\n",
            "\u001b[0;32m/usr/lib/python3.10/asyncio/tasks.py\u001b[0m in \u001b[0;36m_wait\u001b[0;34m(fs, timeout, return_when, loop)\u001b[0m\n\u001b[1;32m    489\u001b[0m \u001b[0;34m\u001b[0m\u001b[0m\n\u001b[1;32m    490\u001b[0m     \u001b[0;32mtry\u001b[0m\u001b[0;34m:\u001b[0m\u001b[0;34m\u001b[0m\u001b[0;34m\u001b[0m\u001b[0m\n\u001b[0;32m--> 491\u001b[0;31m         \u001b[0;32mawait\u001b[0m \u001b[0mwaiter\u001b[0m\u001b[0;34m\u001b[0m\u001b[0;34m\u001b[0m\u001b[0m\n\u001b[0m\u001b[1;32m    492\u001b[0m     \u001b[0;32mfinally\u001b[0m\u001b[0;34m:\u001b[0m\u001b[0;34m\u001b[0m\u001b[0;34m\u001b[0m\u001b[0m\n\u001b[1;32m    493\u001b[0m         \u001b[0;32mif\u001b[0m \u001b[0mtimeout_handle\u001b[0m \u001b[0;32mis\u001b[0m \u001b[0;32mnot\u001b[0m \u001b[0;32mNone\u001b[0m\u001b[0;34m:\u001b[0m\u001b[0;34m\u001b[0m\u001b[0;34m\u001b[0m\u001b[0m\n",
            "\u001b[0;31mCancelledError\u001b[0m: "
          ]
        }
      ]
    },
    {
      "cell_type": "code",
      "source": [
        "pontuacao_files = os.listdir(PONTUACAO_DIR)\n",
        "pontuacao_files"
      ],
      "metadata": {
        "colab": {
          "base_uri": "https://localhost:8080/",
          "height": 158
        },
        "id": "uF_tUPym61DM",
        "outputId": "980b71b8-c201-4c0a-f8bb-28e4317a4813"
      },
      "execution_count": null,
      "outputs": [
        {
          "output_type": "error",
          "ename": "FileNotFoundError",
          "evalue": "[Errno 2] No such file or directory: '/content/aqui/MyDrive/WebMining_Scraping_DE05/AULA2/pontuacao'",
          "traceback": [
            "\u001b[0;31m---------------------------------------------------------------------------\u001b[0m",
            "\u001b[0;31mFileNotFoundError\u001b[0m                         Traceback (most recent call last)",
            "\u001b[0;32m<ipython-input-35-7234c5d77ba3>\u001b[0m in \u001b[0;36m<cell line: 1>\u001b[0;34m()\u001b[0m\n\u001b[0;32m----> 1\u001b[0;31m \u001b[0mpontuacao_files\u001b[0m \u001b[0;34m=\u001b[0m \u001b[0mos\u001b[0m\u001b[0;34m.\u001b[0m\u001b[0mlistdir\u001b[0m\u001b[0;34m(\u001b[0m\u001b[0mPONTUACAO_DIR\u001b[0m\u001b[0;34m)\u001b[0m\u001b[0;34m\u001b[0m\u001b[0;34m\u001b[0m\u001b[0m\n\u001b[0m\u001b[1;32m      2\u001b[0m \u001b[0mpontuacao_files\u001b[0m\u001b[0;34m\u001b[0m\u001b[0;34m\u001b[0m\u001b[0m\n",
            "\u001b[0;31mFileNotFoundError\u001b[0m: [Errno 2] No such file or directory: '/content/aqui/MyDrive/WebMining_Scraping_DE05/AULA2/pontuacao'"
          ]
        }
      ]
    },
    {
      "cell_type": "markdown",
      "source": [
        "##Scraping Pontuação"
      ],
      "metadata": {
        "id": "dzANUXH6uwUc"
      }
    },
    {
      "cell_type": "code",
      "source": [
        "import pandas as pd\n",
        "from bs4 import BeautifulSoup"
      ],
      "metadata": {
        "id": "9rwCn-3nujAj"
      },
      "execution_count": null,
      "outputs": []
    },
    {
      "cell_type": "code",
      "source": [
        "boxscores = os.listdir(PONTUACAO_DIR)\n",
        "boxscores = [os.path.join(PONTUACAO_DIR, p) for p in boxscores]\n",
        "boxscores"
      ],
      "metadata": {
        "id": "nPVIH0l04gGa",
        "colab": {
          "base_uri": "https://localhost:8080/"
        },
        "outputId": "c6036cde-9c5c-40c7-8505-49b9850b7824"
      },
      "execution_count": null,
      "outputs": [
        {
          "output_type": "execute_result",
          "data": {
            "text/plain": [
              "['/content/aqui/MyDrive/WebMining_Scraping_DE04/AULA2/pontuacao/202001020LAC.html',\n",
              " '/content/aqui/MyDrive/WebMining_Scraping_DE04/AULA2/pontuacao/202001030BOS.html',\n",
              " '/content/aqui/MyDrive/WebMining_Scraping_DE04/AULA2/pontuacao/202001030ORL.html',\n",
              " '/content/aqui/MyDrive/WebMining_Scraping_DE04/AULA2/pontuacao/202001030WAS.html',\n",
              " '/content/aqui/MyDrive/WebMining_Scraping_DE04/AULA2/pontuacao/202001030HOU.html',\n",
              " '/content/aqui/MyDrive/WebMining_Scraping_DE04/AULA2/pontuacao/202001030PHO.html',\n",
              " '/content/aqui/MyDrive/WebMining_Scraping_DE04/AULA2/pontuacao/202001030LAL.html',\n",
              " '/content/aqui/MyDrive/WebMining_Scraping_DE04/AULA2/pontuacao/202001040LAC.html',\n",
              " '/content/aqui/MyDrive/WebMining_Scraping_DE04/AULA2/pontuacao/202001040BRK.html',\n",
              " '/content/aqui/MyDrive/WebMining_Scraping_DE04/AULA2/pontuacao/202001040ORL.html',\n",
              " '/content/aqui/MyDrive/WebMining_Scraping_DE04/AULA2/pontuacao/202001040ATL.html',\n",
              " '/content/aqui/MyDrive/WebMining_Scraping_DE04/AULA2/pontuacao/202001040CLE.html',\n",
              " '/content/aqui/MyDrive/WebMining_Scraping_DE04/AULA2/pontuacao/202001040CHI.html',\n",
              " '/content/aqui/MyDrive/WebMining_Scraping_DE04/AULA2/pontuacao/202001040WAS.html',\n",
              " '/content/aqui/MyDrive/WebMining_Scraping_DE04/AULA2/pontuacao/202001040DAL.html',\n",
              " '/content/aqui/MyDrive/WebMining_Scraping_DE04/AULA2/pontuacao/202001040GSW.html',\n",
              " '/content/aqui/MyDrive/WebMining_Scraping_DE04/AULA2/pontuacao/202001040MIL.html',\n",
              " '/content/aqui/MyDrive/WebMining_Scraping_DE04/AULA2/pontuacao/202001040SAC.html',\n",
              " '/content/aqui/MyDrive/WebMining_Scraping_DE04/AULA2/pontuacao/202001050LAC.html',\n",
              " '/content/aqui/MyDrive/WebMining_Scraping_DE04/AULA2/pontuacao/202001050MIA.html',\n",
              " '/content/aqui/MyDrive/WebMining_Scraping_DE04/AULA2/pontuacao/202001050CLE.html',\n",
              " '/content/aqui/MyDrive/WebMining_Scraping_DE04/AULA2/pontuacao/202001050PHO.html',\n",
              " '/content/aqui/MyDrive/WebMining_Scraping_DE04/AULA2/pontuacao/202001050LAL.html',\n",
              " '/content/aqui/MyDrive/WebMining_Scraping_DE04/AULA2/pontuacao/202001060CHO.html',\n",
              " '/content/aqui/MyDrive/WebMining_Scraping_DE04/AULA2/pontuacao/202001060ORL.html',\n",
              " '/content/aqui/MyDrive/WebMining_Scraping_DE04/AULA2/pontuacao/202001060PHI.html',\n",
              " '/content/aqui/MyDrive/WebMining_Scraping_DE04/AULA2/pontuacao/202001060WAS.html',\n",
              " '/content/aqui/MyDrive/WebMining_Scraping_DE04/AULA2/pontuacao/202001060ATL.html',\n",
              " '/content/aqui/MyDrive/WebMining_Scraping_DE04/AULA2/pontuacao/202001060NOP.html',\n",
              " '/content/aqui/MyDrive/WebMining_Scraping_DE04/AULA2/pontuacao/202001060DAL.html',\n",
              " '/content/aqui/MyDrive/WebMining_Scraping_DE04/AULA2/pontuacao/202001060SAS.html',\n",
              " '/content/aqui/MyDrive/WebMining_Scraping_DE04/AULA2/pontuacao/202001060SAC.html',\n",
              " '/content/aqui/MyDrive/WebMining_Scraping_DE04/AULA2/pontuacao/202001070CLE.html',\n",
              " '/content/aqui/MyDrive/WebMining_Scraping_DE04/AULA2/pontuacao/202001070TOR.html',\n",
              " '/content/aqui/MyDrive/WebMining_Scraping_DE04/AULA2/pontuacao/202001070BRK.html',\n",
              " '/content/aqui/MyDrive/WebMining_Scraping_DE04/AULA2/pontuacao/202001070MEM.html',\n",
              " '/content/aqui/MyDrive/WebMining_Scraping_DE04/AULA2/pontuacao/202001070PHO.html',\n",
              " '/content/aqui/MyDrive/WebMining_Scraping_DE04/AULA2/pontuacao/202001070LAL.html',\n",
              " '/content/aqui/MyDrive/WebMining_Scraping_DE04/AULA2/pontuacao/202001080BOS.html',\n",
              " '/content/aqui/MyDrive/WebMining_Scraping_DE04/AULA2/pontuacao/202001080CHO.html',\n",
              " '/content/aqui/MyDrive/WebMining_Scraping_DE04/AULA2/pontuacao/202001080IND.html',\n",
              " '/content/aqui/MyDrive/WebMining_Scraping_DE04/AULA2/pontuacao/202001080ORL.html',\n",
              " '/content/aqui/MyDrive/WebMining_Scraping_DE04/AULA2/pontuacao/202001080ATL.html',\n",
              " '/content/aqui/MyDrive/WebMining_Scraping_DE04/AULA2/pontuacao/202001080DAL.html',\n",
              " '/content/aqui/MyDrive/WebMining_Scraping_DE04/AULA2/pontuacao/202001080NOP.html',\n",
              " '/content/aqui/MyDrive/WebMining_Scraping_DE04/AULA2/pontuacao/202001080UTA.html',\n",
              " '/content/aqui/MyDrive/WebMining_Scraping_DE04/AULA2/pontuacao/202001080GSW.html',\n",
              " '/content/aqui/MyDrive/WebMining_Scraping_DE04/AULA2/pontuacao/202001090DET.html',\n",
              " '/content/aqui/MyDrive/WebMining_Scraping_DE04/AULA2/pontuacao/202001090PHI.html',\n",
              " '/content/aqui/MyDrive/WebMining_Scraping_DE04/AULA2/pontuacao/202001090MIN.html',\n",
              " '/content/aqui/MyDrive/WebMining_Scraping_DE04/AULA2/pontuacao/202001090OKC.html',\n",
              " '/content/aqui/MyDrive/WebMining_Scraping_DE04/AULA2/pontuacao/202001100WAS.html',\n",
              " '/content/aqui/MyDrive/WebMining_Scraping_DE04/AULA2/pontuacao/202001100NYK.html',\n",
              " '/content/aqui/MyDrive/WebMining_Scraping_DE04/AULA2/pontuacao/202001100BRK.html',\n",
              " '/content/aqui/MyDrive/WebMining_Scraping_DE04/AULA2/pontuacao/202001100CHI.html',\n",
              " '/content/aqui/MyDrive/WebMining_Scraping_DE04/AULA2/pontuacao/202001100MEM.html',\n",
              " '/content/aqui/MyDrive/WebMining_Scraping_DE04/AULA2/pontuacao/202001100PHO.html',\n",
              " '/content/aqui/MyDrive/WebMining_Scraping_DE04/AULA2/pontuacao/202001100UTA.html',\n",
              " '/content/aqui/MyDrive/WebMining_Scraping_DE04/AULA2/pontuacao/202001100DAL.html',\n",
              " '/content/aqui/MyDrive/WebMining_Scraping_DE04/AULA2/pontuacao/202001100SAC.html',\n",
              " '/content/aqui/MyDrive/WebMining_Scraping_DE04/AULA2/pontuacao/202001100LAC.html',\n",
              " '/content/aqui/MyDrive/WebMining_Scraping_DE04/AULA2/pontuacao/202001110HOU.html',\n",
              " '/content/aqui/MyDrive/WebMining_Scraping_DE04/AULA2/pontuacao/202001110BOS.html',\n",
              " '/content/aqui/MyDrive/WebMining_Scraping_DE04/AULA2/pontuacao/202001110DET.html',\n",
              " '/content/aqui/MyDrive/WebMining_Scraping_DE04/AULA2/pontuacao/202001110OKC.html',\n",
              " '/content/aqui/MyDrive/WebMining_Scraping_DE04/AULA2/pontuacao/202001110DAL.html',\n",
              " '/content/aqui/MyDrive/WebMining_Scraping_DE04/AULA2/pontuacao/202001110DEN.html',\n",
              " '/content/aqui/MyDrive/WebMining_Scraping_DE04/AULA2/pontuacao/202001110POR.html',\n",
              " '/content/aqui/MyDrive/WebMining_Scraping_DE04/AULA2/pontuacao/202001120NYK.html',\n",
              " '/content/aqui/MyDrive/WebMining_Scraping_DE04/AULA2/pontuacao/202001120WAS.html',\n",
              " '/content/aqui/MyDrive/WebMining_Scraping_DE04/AULA2/pontuacao/202001120BRK.html',\n",
              " '/content/aqui/MyDrive/WebMining_Scraping_DE04/AULA2/pontuacao/202001120MEM.html',\n",
              " '/content/aqui/MyDrive/WebMining_Scraping_DE04/AULA2/pontuacao/202001120TOR.html',\n",
              " '/content/aqui/MyDrive/WebMining_Scraping_DE04/AULA2/pontuacao/202001120DEN.html',\n",
              " '/content/aqui/MyDrive/WebMining_Scraping_DE04/AULA2/pontuacao/202001120PHO.html',\n",
              " '/content/aqui/MyDrive/WebMining_Scraping_DE04/AULA2/pontuacao/202001130DET.html',\n",
              " '/content/aqui/MyDrive/WebMining_Scraping_DE04/AULA2/pontuacao/202001130IND.html',\n",
              " '/content/aqui/MyDrive/WebMining_Scraping_DE04/AULA2/pontuacao/202001130BOS.html',\n",
              " '/content/aqui/MyDrive/WebMining_Scraping_DE04/AULA2/pontuacao/202001130MIN.html',\n",
              " '/content/aqui/MyDrive/WebMining_Scraping_DE04/AULA2/pontuacao/202001130POR.html',\n",
              " '/content/aqui/MyDrive/WebMining_Scraping_DE04/AULA2/pontuacao/202001130SAC.html',\n",
              " '/content/aqui/MyDrive/WebMining_Scraping_DE04/AULA2/pontuacao/202001130LAL.html',\n",
              " '/content/aqui/MyDrive/WebMining_Scraping_DE04/AULA2/pontuacao/202001140ATL.html',\n",
              " '/content/aqui/MyDrive/WebMining_Scraping_DE04/AULA2/pontuacao/202001140BRK.html',\n",
              " '/content/aqui/MyDrive/WebMining_Scraping_DE04/AULA2/pontuacao/202001140MEM.html',\n",
              " '/content/aqui/MyDrive/WebMining_Scraping_DE04/AULA2/pontuacao/202001140MIL.html',\n",
              " '/content/aqui/MyDrive/WebMining_Scraping_DE04/AULA2/pontuacao/202001140GSW.html',\n",
              " '/content/aqui/MyDrive/WebMining_Scraping_DE04/AULA2/pontuacao/202001140LAC.html',\n",
              " '/content/aqui/MyDrive/WebMining_Scraping_DE04/AULA2/pontuacao/202001150BOS.html',\n",
              " '/content/aqui/MyDrive/WebMining_Scraping_DE04/AULA2/pontuacao/202001150PHI.html',\n",
              " '/content/aqui/MyDrive/WebMining_Scraping_DE04/AULA2/pontuacao/202001150MIA.html',\n",
              " '/content/aqui/MyDrive/WebMining_Scraping_DE04/AULA2/pontuacao/202001150CHI.html',\n",
              " '/content/aqui/MyDrive/WebMining_Scraping_DE04/AULA2/pontuacao/202001150MIN.html',\n",
              " '/content/aqui/MyDrive/WebMining_Scraping_DE04/AULA2/pontuacao/202001150OKC.html',\n",
              " '/content/aqui/MyDrive/WebMining_Scraping_DE04/AULA2/pontuacao/202001150DEN.html',\n",
              " '/content/aqui/MyDrive/WebMining_Scraping_DE04/AULA2/pontuacao/202001150HOU.html',\n",
              " '/content/aqui/MyDrive/WebMining_Scraping_DE04/AULA2/pontuacao/202001150SAC.html',\n",
              " '/content/aqui/MyDrive/WebMining_Scraping_DE04/AULA2/pontuacao/202001150LAL.html',\n",
              " '/content/aqui/MyDrive/WebMining_Scraping_DE04/AULA2/pontuacao/202001160NYK.html',\n",
              " '/content/aqui/MyDrive/WebMining_Scraping_DE04/AULA2/pontuacao/202001160MIL.html',\n",
              " '/content/aqui/MyDrive/WebMining_Scraping_DE04/AULA2/pontuacao/202001160NOP.html',\n",
              " '/content/aqui/MyDrive/WebMining_Scraping_DE04/AULA2/pontuacao/202001160GSW.html',\n",
              " '/content/aqui/MyDrive/WebMining_Scraping_DE04/AULA2/pontuacao/202001160LAC.html',\n",
              " '/content/aqui/MyDrive/WebMining_Scraping_DE04/AULA2/pontuacao/202001170IND.html',\n",
              " '/content/aqui/MyDrive/WebMining_Scraping_DE04/AULA2/pontuacao/202001170PHI.html',\n",
              " '/content/aqui/MyDrive/WebMining_Scraping_DE04/AULA2/pontuacao/202001170TOR.html',\n",
              " '/content/aqui/MyDrive/WebMining_Scraping_DE04/AULA2/pontuacao/202001170MEM.html',\n",
              " '/content/aqui/MyDrive/WebMining_Scraping_DE04/AULA2/pontuacao/202001170OKC.html',\n",
              " '/content/aqui/MyDrive/WebMining_Scraping_DE04/AULA2/pontuacao/202001170SAS.html',\n",
              " '/content/aqui/MyDrive/WebMining_Scraping_DE04/AULA2/pontuacao/202001170DAL.html',\n",
              " '/content/aqui/MyDrive/WebMining_Scraping_DE04/AULA2/pontuacao/202001180NOP.html',\n",
              " '/content/aqui/MyDrive/WebMining_Scraping_DE04/AULA2/pontuacao/202001180BRK.html',\n",
              " '/content/aqui/MyDrive/WebMining_Scraping_DE04/AULA2/pontuacao/202001180BOS.html',\n",
              " '/content/aqui/MyDrive/WebMining_Scraping_DE04/AULA2/pontuacao/202001180ATL.html',\n",
              " '/content/aqui/MyDrive/WebMining_Scraping_DE04/AULA2/pontuacao/202001180NYK.html',\n",
              " '/content/aqui/MyDrive/WebMining_Scraping_DE04/AULA2/pontuacao/202001180CHI.html',\n",
              " '/content/aqui/MyDrive/WebMining_Scraping_DE04/AULA2/pontuacao/202001180MIN.html',\n",
              " '/content/aqui/MyDrive/WebMining_Scraping_DE04/AULA2/pontuacao/202001180GSW.html',\n",
              " '/content/aqui/MyDrive/WebMining_Scraping_DE04/AULA2/pontuacao/202001180HOU.html',\n",
              " '/content/aqui/MyDrive/WebMining_Scraping_DE04/AULA2/pontuacao/202001180OKC.html',\n",
              " '/content/aqui/MyDrive/WebMining_Scraping_DE04/AULA2/pontuacao/202001180UTA.html',\n",
              " '/content/aqui/MyDrive/WebMining_Scraping_DE04/AULA2/pontuacao/202001190SAS.html',\n",
              " '/content/aqui/MyDrive/WebMining_Scraping_DE04/AULA2/pontuacao/202001190DEN.html',\n",
              " '/content/aqui/MyDrive/WebMining_Scraping_DE04/AULA2/pontuacao/202001200WAS.html',\n",
              " '/content/aqui/MyDrive/WebMining_Scraping_DE04/AULA2/pontuacao/202001200ATL.html',\n",
              " '/content/aqui/MyDrive/WebMining_Scraping_DE04/AULA2/pontuacao/202001200BRK.html',\n",
              " '/content/aqui/MyDrive/WebMining_Scraping_DE04/AULA2/pontuacao/202001200CHO.html',\n",
              " '/content/aqui/MyDrive/WebMining_Scraping_DE04/AULA2/pontuacao/202001200CLE.html',\n",
              " '/content/aqui/MyDrive/WebMining_Scraping_DE04/AULA2/pontuacao/202001200HOU.html',\n",
              " '/content/aqui/MyDrive/WebMining_Scraping_DE04/AULA2/pontuacao/202001200MEM.html',\n",
              " '/content/aqui/MyDrive/WebMining_Scraping_DE04/AULA2/pontuacao/202001200MIA.html',\n",
              " '/content/aqui/MyDrive/WebMining_Scraping_DE04/AULA2/pontuacao/202001200MIL.html',\n",
              " '/content/aqui/MyDrive/WebMining_Scraping_DE04/AULA2/pontuacao/202001200BOS.html',\n",
              " '/content/aqui/MyDrive/WebMining_Scraping_DE04/AULA2/pontuacao/202001200MIN.html',\n",
              " '/content/aqui/MyDrive/WebMining_Scraping_DE04/AULA2/pontuacao/202001200PHO.html',\n",
              " '/content/aqui/MyDrive/WebMining_Scraping_DE04/AULA2/pontuacao/202001200UTA.html',\n",
              " '/content/aqui/MyDrive/WebMining_Scraping_DE04/AULA2/pontuacao/202001200POR.html',\n",
              " '/content/aqui/MyDrive/WebMining_Scraping_DE04/AULA2/pontuacao/202001210DAL.html',\n",
              " '/content/aqui/MyDrive/WebMining_Scraping_DE04/AULA2/pontuacao/202001220DET.html',\n",
              " '/content/aqui/MyDrive/WebMining_Scraping_DE04/AULA2/pontuacao/202001220ORL.html',\n",
              " '/content/aqui/MyDrive/WebMining_Scraping_DE04/AULA2/pontuacao/202001220TOR.html',\n",
              " '/content/aqui/MyDrive/WebMining_Scraping_DE04/AULA2/pontuacao/202001220ATL.html',\n",
              " '/content/aqui/MyDrive/WebMining_Scraping_DE04/AULA2/pontuacao/202001220BOS.html',\n",
              " '/content/aqui/MyDrive/WebMining_Scraping_DE04/AULA2/pontuacao/202001220MIA.html',\n",
              " '/content/aqui/MyDrive/WebMining_Scraping_DE04/AULA2/pontuacao/202001220NYK.html',\n",
              " '/content/aqui/MyDrive/WebMining_Scraping_DE04/AULA2/pontuacao/202001220CHI.html',\n",
              " '/content/aqui/MyDrive/WebMining_Scraping_DE04/AULA2/pontuacao/202001220HOU.html',\n",
              " '/content/aqui/MyDrive/WebMining_Scraping_DE04/AULA2/pontuacao/202001220PHO.html',\n",
              " '/content/aqui/MyDrive/WebMining_Scraping_DE04/AULA2/pontuacao/202001220NOP.html',\n",
              " '/content/aqui/MyDrive/WebMining_Scraping_DE04/AULA2/pontuacao/202001220GSW.html',\n",
              " '/content/aqui/MyDrive/WebMining_Scraping_DE04/AULA2/pontuacao/202001230CLE.html',\n",
              " '/content/aqui/MyDrive/WebMining_Scraping_DE04/AULA2/pontuacao/202001230BRK.html',\n",
              " '/content/aqui/MyDrive/WebMining_Scraping_DE04/AULA2/pontuacao/202001230POR.html',\n",
              " '/content/aqui/MyDrive/WebMining_Scraping_DE04/AULA2/pontuacao/202001240CHO.html',\n",
              " '/content/aqui/MyDrive/WebMining_Scraping_DE04/AULA2/pontuacao/202001240DET.html',\n",
              " '/content/aqui/MyDrive/WebMining_Scraping_DE04/AULA2/pontuacao/202001240ORL.html',\n",
              " '/content/aqui/MyDrive/WebMining_Scraping_DE04/AULA2/pontuacao/202001240NYK.html',\n",
              " '/content/aqui/MyDrive/WebMining_Scraping_DE04/AULA2/pontuacao/202001240CHI.html',\n",
              " '/content/aqui/MyDrive/WebMining_Scraping_DE04/AULA2/pontuacao/202001240MIA.html',\n",
              " '/content/aqui/MyDrive/WebMining_Scraping_DE04/AULA2/pontuacao/202001240MIN.html',\n",
              " '/content/aqui/MyDrive/WebMining_Scraping_DE04/AULA2/pontuacao/202001240NOP.html',\n",
              " '/content/aqui/MyDrive/WebMining_Scraping_DE04/AULA2/pontuacao/202001240OKC.html',\n",
              " '/content/aqui/MyDrive/WebMining_Scraping_DE04/AULA2/pontuacao/202001240SAS.html',\n",
              " '/content/aqui/MyDrive/WebMining_Scraping_DE04/AULA2/pontuacao/202001240GSW.html',\n",
              " '/content/aqui/MyDrive/WebMining_Scraping_DE04/AULA2/pontuacao/202001250UTA.html',\n",
              " '/content/aqui/MyDrive/WebMining_Scraping_DE04/AULA2/pontuacao/202001250DET.html',\n",
              " '/content/aqui/MyDrive/WebMining_Scraping_DE04/AULA2/pontuacao/202001250CLE.html',\n",
              " '/content/aqui/MyDrive/WebMining_Scraping_DE04/AULA2/pontuacao/202001250MIN.html',\n",
              " '/content/aqui/MyDrive/WebMining_Scraping_DE04/AULA2/pontuacao/202001250PHI.html',\n",
              " '/content/aqui/MyDrive/WebMining_Scraping_DE04/AULA2/pontuacao/202001260DEN.html',\n",
              " '/content/aqui/MyDrive/WebMining_Scraping_DE04/AULA2/pontuacao/202001260SAS.html',\n",
              " '/content/aqui/MyDrive/WebMining_Scraping_DE04/AULA2/pontuacao/202001260ATL.html',\n",
              " '/content/aqui/MyDrive/WebMining_Scraping_DE04/AULA2/pontuacao/202001260MEM.html',\n",
              " '/content/aqui/MyDrive/WebMining_Scraping_DE04/AULA2/pontuacao/202001260NOP.html',\n",
              " '/content/aqui/MyDrive/WebMining_Scraping_DE04/AULA2/pontuacao/202001260NYK.html',\n",
              " '/content/aqui/MyDrive/WebMining_Scraping_DE04/AULA2/pontuacao/202001260ORL.html',\n",
              " '/content/aqui/MyDrive/WebMining_Scraping_DE04/AULA2/pontuacao/202001260POR.html',\n",
              " '/content/aqui/MyDrive/WebMining_Scraping_DE04/AULA2/pontuacao/202001270DET.html',\n",
              " '/content/aqui/MyDrive/WebMining_Scraping_DE04/AULA2/pontuacao/202001270MIA.html',\n",
              " '/content/aqui/MyDrive/WebMining_Scraping_DE04/AULA2/pontuacao/202001270CHI.html',\n",
              " '/content/aqui/MyDrive/WebMining_Scraping_DE04/AULA2/pontuacao/202001270MIN.html',\n",
              " '/content/aqui/MyDrive/WebMining_Scraping_DE04/AULA2/pontuacao/202001270OKC.html',\n",
              " '/content/aqui/MyDrive/WebMining_Scraping_DE04/AULA2/pontuacao/202001270UTA.html',\n",
              " '/content/aqui/MyDrive/WebMining_Scraping_DE04/AULA2/pontuacao/202001280CHO.html',\n",
              " '/content/aqui/MyDrive/WebMining_Scraping_DE04/AULA2/pontuacao/202001280PHI.html',\n",
              " '/content/aqui/MyDrive/WebMining_Scraping_DE04/AULA2/pontuacao/202001280CLE.html',\n",
              " '/content/aqui/MyDrive/WebMining_Scraping_DE04/AULA2/pontuacao/202001280TOR.html',\n",
              " '/content/aqui/MyDrive/WebMining_Scraping_DE04/AULA2/pontuacao/202001280MEM.html',\n",
              " '/content/aqui/MyDrive/WebMining_Scraping_DE04/AULA2/pontuacao/202001280MIA.html',\n",
              " '/content/aqui/MyDrive/WebMining_Scraping_DE04/AULA2/pontuacao/202001280MIL.html',\n",
              " '/content/aqui/MyDrive/WebMining_Scraping_DE04/AULA2/pontuacao/202001280DAL.html',\n",
              " '/content/aqui/MyDrive/WebMining_Scraping_DE04/AULA2/pontuacao/202001290IND.html',\n",
              " '/content/aqui/MyDrive/WebMining_Scraping_DE04/AULA2/pontuacao/202001290BRK.html',\n",
              " '/content/aqui/MyDrive/WebMining_Scraping_DE04/AULA2/pontuacao/202001290NYK.html',\n",
              " '/content/aqui/MyDrive/WebMining_Scraping_DE04/AULA2/pontuacao/202001290SAS.html',\n",
              " '/content/aqui/MyDrive/WebMining_Scraping_DE04/AULA2/pontuacao/202001290POR.html',\n",
              " '/content/aqui/MyDrive/WebMining_Scraping_DE04/AULA2/pontuacao/202001290SAC.html',\n",
              " '/content/aqui/MyDrive/WebMining_Scraping_DE04/AULA2/pontuacao/202001300CLE.html',\n",
              " '/content/aqui/MyDrive/WebMining_Scraping_DE04/AULA2/pontuacao/202001300WAS.html',\n",
              " '/content/aqui/MyDrive/WebMining_Scraping_DE04/AULA2/pontuacao/202001300ATL.html',\n",
              " '/content/aqui/MyDrive/WebMining_Scraping_DE04/AULA2/pontuacao/202001300BOS.html',\n",
              " '/content/aqui/MyDrive/WebMining_Scraping_DE04/AULA2/pontuacao/202001300DEN.html',\n",
              " '/content/aqui/MyDrive/WebMining_Scraping_DE04/AULA2/pontuacao/202001300LAC.html',\n",
              " '/content/aqui/MyDrive/WebMining_Scraping_DE04/AULA2/pontuacao/202001310DET.html',\n",
              " '/content/aqui/MyDrive/WebMining_Scraping_DE04/AULA2/pontuacao/202001310BRK.html',\n",
              " '/content/aqui/MyDrive/WebMining_Scraping_DE04/AULA2/pontuacao/202001310HOU.html',\n",
              " '/content/aqui/MyDrive/WebMining_Scraping_DE04/AULA2/pontuacao/202001310NOP.html',\n",
              " '/content/aqui/MyDrive/WebMining_Scraping_DE04/AULA2/pontuacao/202001310MIL.html',\n",
              " '/content/aqui/MyDrive/WebMining_Scraping_DE04/AULA2/pontuacao/202001310PHO.html',\n",
              " '/content/aqui/MyDrive/WebMining_Scraping_DE04/AULA2/pontuacao/202001310LAL.html',\n",
              " '/content/aqui/MyDrive/WebMining_Scraping_DE04/AULA2/pontuacao/202002010LAC.html',\n",
              " '/content/aqui/MyDrive/WebMining_Scraping_DE04/AULA2/pontuacao/202002010IND.html',\n",
              " '/content/aqui/MyDrive/WebMining_Scraping_DE04/AULA2/pontuacao/202002010ORL.html',\n",
              " '/content/aqui/MyDrive/WebMining_Scraping_DE04/AULA2/pontuacao/202002010CLE.html',\n",
              " '/content/aqui/MyDrive/WebMining_Scraping_DE04/AULA2/pontuacao/202002010WAS.html',\n",
              " '/content/aqui/MyDrive/WebMining_Scraping_DE04/AULA2/pontuacao/202002010BOS.html',\n",
              " '/content/aqui/MyDrive/WebMining_Scraping_DE04/AULA2/pontuacao/202002010DAL.html',\n",
              " '/content/aqui/MyDrive/WebMining_Scraping_DE04/AULA2/pontuacao/202002010SAS.html',\n",
              " '/content/aqui/MyDrive/WebMining_Scraping_DE04/AULA2/pontuacao/202002010SAC.html',\n",
              " '/content/aqui/MyDrive/WebMining_Scraping_DE04/AULA2/pontuacao/202002010POR.html',\n",
              " '/content/aqui/MyDrive/WebMining_Scraping_DE04/AULA2/pontuacao/202002020DET.html',\n",
              " '/content/aqui/MyDrive/WebMining_Scraping_DE04/AULA2/pontuacao/202002020HOU.html',\n",
              " '/content/aqui/MyDrive/WebMining_Scraping_DE04/AULA2/pontuacao/202002020MIL.html',\n",
              " '/content/aqui/MyDrive/WebMining_Scraping_DE04/AULA2/pontuacao/202002020TOR.html',\n",
              " '/content/aqui/MyDrive/WebMining_Scraping_DE04/AULA2/pontuacao/202002030CHO.html',\n",
              " '/content/aqui/MyDrive/WebMining_Scraping_DE04/AULA2/pontuacao/202002030CLE.html',\n",
              " '/content/aqui/MyDrive/WebMining_Scraping_DE04/AULA2/pontuacao/202002030IND.html',\n",
              " '/content/aqui/MyDrive/WebMining_Scraping_DE04/AULA2/pontuacao/202002030WAS.html',\n",
              " '/content/aqui/MyDrive/WebMining_Scraping_DE04/AULA2/pontuacao/202002030ATL.html',\n",
              " '/content/aqui/MyDrive/WebMining_Scraping_DE04/AULA2/pontuacao/202002030BRK.html',\n",
              " '/content/aqui/MyDrive/WebMining_Scraping_DE04/AULA2/pontuacao/202002030MIA.html',\n",
              " '/content/aqui/MyDrive/WebMining_Scraping_DE04/AULA2/pontuacao/202002030MEM.html',\n",
              " '/content/aqui/MyDrive/WebMining_Scraping_DE04/AULA2/pontuacao/202002030SAC.html',\n",
              " '/content/aqui/MyDrive/WebMining_Scraping_DE04/AULA2/pontuacao/202002030LAC.html',\n",
              " '/content/aqui/MyDrive/WebMining_Scraping_DE04/AULA2/pontuacao/202002040NOP.html',\n",
              " '/content/aqui/MyDrive/WebMining_Scraping_DE04/AULA2/pontuacao/202002040HOU.html',\n",
              " '/content/aqui/MyDrive/WebMining_Scraping_DE04/AULA2/pontuacao/202002040DEN.html',\n",
              " '/content/aqui/MyDrive/WebMining_Scraping_DE04/AULA2/pontuacao/202002040LAL.html',\n",
              " '/content/aqui/MyDrive/WebMining_Scraping_DE04/AULA2/pontuacao/202002050DET.html',\n",
              " '/content/aqui/MyDrive/WebMining_Scraping_DE04/AULA2/pontuacao/202002050BOS.html',\n",
              " '/content/aqui/MyDrive/WebMining_Scraping_DE04/AULA2/pontuacao/202002050BRK.html',\n",
              " '/content/aqui/MyDrive/WebMining_Scraping_DE04/AULA2/pontuacao/202002050TOR.html',\n",
              " '/content/aqui/MyDrive/WebMining_Scraping_DE04/AULA2/pontuacao/202002050MIN.html',\n",
              " '/content/aqui/MyDrive/WebMining_Scraping_DE04/AULA2/pontuacao/202002050OKC.html',\n",
              " '/content/aqui/MyDrive/WebMining_Scraping_DE04/AULA2/pontuacao/202002050DAL.html',\n",
              " '/content/aqui/MyDrive/WebMining_Scraping_DE04/AULA2/pontuacao/202002050UTA.html',\n",
              " '/content/aqui/MyDrive/WebMining_Scraping_DE04/AULA2/pontuacao/202002050LAC.html',\n",
              " '/content/aqui/MyDrive/WebMining_Scraping_DE04/AULA2/pontuacao/202002060NYK.html',\n",
              " '/content/aqui/MyDrive/WebMining_Scraping_DE04/AULA2/pontuacao/202002060CHI.html',\n",
              " '/content/aqui/MyDrive/WebMining_Scraping_DE04/AULA2/pontuacao/202002060MIL.html',\n",
              " '/content/aqui/MyDrive/WebMining_Scraping_DE04/AULA2/pontuacao/202002060POR.html',\n",
              " '/content/aqui/MyDrive/WebMining_Scraping_DE04/AULA2/pontuacao/202002060LAL.html',\n",
              " '/content/aqui/MyDrive/WebMining_Scraping_DE04/AULA2/pontuacao/202002070PHI.html',\n",
              " '/content/aqui/MyDrive/WebMining_Scraping_DE04/AULA2/pontuacao/202002070WAS.html',\n",
              " '/content/aqui/MyDrive/WebMining_Scraping_DE04/AULA2/pontuacao/202002070BOS.html',\n",
              " '/content/aqui/MyDrive/WebMining_Scraping_DE04/AULA2/pontuacao/202002070IND.html',\n",
              " '/content/aqui/MyDrive/WebMining_Scraping_DE04/AULA2/pontuacao/202002070OKC.html',\n",
              " '/content/aqui/MyDrive/WebMining_Scraping_DE04/AULA2/pontuacao/202002070PHO.html',\n",
              " '/content/aqui/MyDrive/WebMining_Scraping_DE04/AULA2/pontuacao/202002070SAC.html',\n",
              " '/content/aqui/MyDrive/WebMining_Scraping_DE04/AULA2/pontuacao/202002070UTA.html',\n",
              " '/content/aqui/MyDrive/WebMining_Scraping_DE04/AULA2/pontuacao/202002080ORL.html',\n",
              " '/content/aqui/MyDrive/WebMining_Scraping_DE04/AULA2/pontuacao/202002080CHO.html',\n",
              " '/content/aqui/MyDrive/WebMining_Scraping_DE04/AULA2/pontuacao/202002080DET.html',\n",
              " '/content/aqui/MyDrive/WebMining_Scraping_DE04/AULA2/pontuacao/202002080IND.html',\n",
              " '/content/aqui/MyDrive/WebMining_Scraping_DE04/AULA2/pontuacao/202002080TOR.html',\n",
              " '/content/aqui/MyDrive/WebMining_Scraping_DE04/AULA2/pontuacao/202002080MIN.html',\n",
              " '/content/aqui/MyDrive/WebMining_Scraping_DE04/AULA2/pontuacao/202002080GSW.html',\n",
              " '/content/aqui/MyDrive/WebMining_Scraping_DE04/AULA2/pontuacao/202002080PHO.html',\n",
              " '/content/aqui/MyDrive/WebMining_Scraping_DE04/AULA2/pontuacao/202002080SAC.html',\n",
              " '/content/aqui/MyDrive/WebMining_Scraping_DE04/AULA2/pontuacao/202002090OKC.html',\n",
              " '/content/aqui/MyDrive/WebMining_Scraping_DE04/AULA2/pontuacao/202002090ATL.html',\n",
              " '/content/aqui/MyDrive/WebMining_Scraping_DE04/AULA2/pontuacao/202002090PHI.html',\n",
              " '/content/aqui/MyDrive/WebMining_Scraping_DE04/AULA2/pontuacao/202002090WAS.html',\n",
              " '/content/aqui/MyDrive/WebMining_Scraping_DE04/AULA2/pontuacao/202002090HOU.html',\n",
              " '/content/aqui/MyDrive/WebMining_Scraping_DE04/AULA2/pontuacao/202002090CLE.html',\n",
              " '/content/aqui/MyDrive/WebMining_Scraping_DE04/AULA2/pontuacao/202002090POR.html',\n",
              " '/content/aqui/MyDrive/WebMining_Scraping_DE04/AULA2/pontuacao/202002100DET.html',\n",
              " '/content/aqui/MyDrive/WebMining_Scraping_DE04/AULA2/pontuacao/202002100IND.html',\n",
              " '/content/aqui/MyDrive/WebMining_Scraping_DE04/AULA2/pontuacao/202002100ORL.html',\n",
              " '/content/aqui/MyDrive/WebMining_Scraping_DE04/AULA2/pontuacao/202002100TOR.html',\n",
              " '/content/aqui/MyDrive/WebMining_Scraping_DE04/AULA2/pontuacao/202002100MIL.html',\n",
              " '/content/aqui/MyDrive/WebMining_Scraping_DE04/AULA2/pontuacao/202002100DAL.html',\n",
              " '/content/aqui/MyDrive/WebMining_Scraping_DE04/AULA2/pontuacao/202002100DEN.html',\n",
              " '/content/aqui/MyDrive/WebMining_Scraping_DE04/AULA2/pontuacao/202002100GSW.html',\n",
              " '/content/aqui/MyDrive/WebMining_Scraping_DE04/AULA2/pontuacao/202002100LAL.html',\n",
              " '/content/aqui/MyDrive/WebMining_Scraping_DE04/AULA2/pontuacao/202002110PHI.html',\n",
              " '/content/aqui/MyDrive/WebMining_Scraping_DE04/AULA2/pontuacao/202002110WAS.html',\n",
              " '/content/aqui/MyDrive/WebMining_Scraping_DE04/AULA2/pontuacao/202002110NOP.html',\n",
              " '/content/aqui/MyDrive/WebMining_Scraping_DE04/AULA2/pontuacao/202002110OKC.html',\n",
              " '/content/aqui/MyDrive/WebMining_Scraping_DE04/AULA2/pontuacao/202002110HOU.html',\n",
              " '/content/aqui/MyDrive/WebMining_Scraping_DE04/AULA2/pontuacao/202002120CLE.html',\n",
              " '/content/aqui/MyDrive/WebMining_Scraping_DE04/AULA2/pontuacao/202002120ORL.html',\n",
              " '/content/aqui/MyDrive/WebMining_Scraping_DE04/AULA2/pontuacao/202002120BRK.html',\n",
              " '/content/aqui/MyDrive/WebMining_Scraping_DE04/AULA2/pontuacao/202002120IND.html',\n",
              " '/content/aqui/MyDrive/WebMining_Scraping_DE04/AULA2/pontuacao/202002120NYK.html',\n",
              " '/content/aqui/MyDrive/WebMining_Scraping_DE04/AULA2/pontuacao/202002120MEM.html',\n",
              " '/content/aqui/MyDrive/WebMining_Scraping_DE04/AULA2/pontuacao/202002120MIN.html',\n",
              " '/content/aqui/MyDrive/WebMining_Scraping_DE04/AULA2/pontuacao/202002120DAL.html',\n",
              " '/content/aqui/MyDrive/WebMining_Scraping_DE04/AULA2/pontuacao/202002120PHO.html',\n",
              " '/content/aqui/MyDrive/WebMining_Scraping_DE04/AULA2/pontuacao/202002120UTA.html',\n",
              " '/content/aqui/MyDrive/WebMining_Scraping_DE04/AULA2/pontuacao/202002120DEN.html',\n",
              " '/content/aqui/MyDrive/WebMining_Scraping_DE04/AULA2/pontuacao/202002130BOS.html',\n",
              " '/content/aqui/MyDrive/WebMining_Scraping_DE04/AULA2/pontuacao/202002130NOP.html',\n",
              " '/content/aqui/MyDrive/WebMining_Scraping_DE04/AULA2/pontuacao/202002200DET.html',\n",
              " '/content/aqui/MyDrive/WebMining_Scraping_DE04/AULA2/pontuacao/202002200ATL.html',\n",
              " '/content/aqui/MyDrive/WebMining_Scraping_DE04/AULA2/pontuacao/202002200CHI.html',\n",
              " '/content/aqui/MyDrive/WebMining_Scraping_DE04/AULA2/pontuacao/202002200PHI.html',\n",
              " '/content/aqui/MyDrive/WebMining_Scraping_DE04/AULA2/pontuacao/202002200SAC.html',\n",
              " '/content/aqui/MyDrive/WebMining_Scraping_DE04/AULA2/pontuacao/202002200GSW.html',\n",
              " '/content/aqui/MyDrive/WebMining_Scraping_DE04/AULA2/pontuacao/202002210ORL.html',\n",
              " '/content/aqui/MyDrive/WebMining_Scraping_DE04/AULA2/pontuacao/202002210WAS.html',\n",
              " '/content/aqui/MyDrive/WebMining_Scraping_DE04/AULA2/pontuacao/202002210NYK.html',\n",
              " '/content/aqui/MyDrive/WebMining_Scraping_DE04/AULA2/pontuacao/202002210TOR.html',\n",
              " '/content/aqui/MyDrive/WebMining_Scraping_DE04/AULA2/pontuacao/202002210MIN.html',\n",
              " '/content/aqui/MyDrive/WebMining_Scraping_DE04/AULA2/pontuacao/202002210OKC.html',\n",
              " '/content/aqui/MyDrive/WebMining_Scraping_DE04/AULA2/pontuacao/202002210UTA.html',\n",
              " '/content/aqui/MyDrive/WebMining_Scraping_DE04/AULA2/pontuacao/202002210LAL.html',\n",
              " '/content/aqui/MyDrive/WebMining_Scraping_DE04/AULA2/pontuacao/202002210POR.html',\n",
              " '/content/aqui/MyDrive/WebMining_Scraping_DE04/AULA2/pontuacao/202002220LAC.html',\n",
              " '/content/aqui/MyDrive/WebMining_Scraping_DE04/AULA2/pontuacao/202002220CHO.html',\n",
              " '/content/aqui/MyDrive/WebMining_Scraping_DE04/AULA2/pontuacao/202002220ATL.html',\n",
              " '/content/aqui/MyDrive/WebMining_Scraping_DE04/AULA2/pontuacao/202002220CHI.html',\n",
              " '/content/aqui/MyDrive/WebMining_Scraping_DE04/AULA2/pontuacao/202002220MIA.html',\n",
              " '/content/aqui/MyDrive/WebMining_Scraping_DE04/AULA2/pontuacao/202002220MIL.html',\n",
              " '/content/aqui/MyDrive/WebMining_Scraping_DE04/AULA2/pontuacao/202002220UTA.html',\n",
              " '/content/aqui/MyDrive/WebMining_Scraping_DE04/AULA2/pontuacao/202002230LAL.html',\n",
              " '/content/aqui/MyDrive/WebMining_Scraping_DE04/AULA2/pontuacao/202002230DEN.html',\n",
              " '/content/aqui/MyDrive/WebMining_Scraping_DE04/AULA2/pontuacao/202002230TOR.html',\n",
              " '/content/aqui/MyDrive/WebMining_Scraping_DE04/AULA2/pontuacao/202002230CHI.html',\n",
              " '/content/aqui/MyDrive/WebMining_Scraping_DE04/AULA2/pontuacao/202002230OKC.html',\n",
              " '/content/aqui/MyDrive/WebMining_Scraping_DE04/AULA2/pontuacao/202002230GSW.html',\n",
              " '/content/aqui/MyDrive/WebMining_Scraping_DE04/AULA2/pontuacao/202002230POR.html',\n",
              " '/content/aqui/MyDrive/WebMining_Scraping_DE04/AULA2/pontuacao/202002240CLE.html',\n",
              " '/content/aqui/MyDrive/WebMining_Scraping_DE04/AULA2/pontuacao/202002240PHI.html',\n",
              " '/content/aqui/MyDrive/WebMining_Scraping_DE04/AULA2/pontuacao/202002240WAS.html',\n",
              " '/content/aqui/MyDrive/WebMining_Scraping_DE04/AULA2/pontuacao/202002240BRK.html',\n",
              " '/content/aqui/MyDrive/WebMining_Scraping_DE04/AULA2/pontuacao/202002240HOU.html',\n",
              " '/content/aqui/MyDrive/WebMining_Scraping_DE04/AULA2/pontuacao/202002240DAL.html',\n",
              " '/content/aqui/MyDrive/WebMining_Scraping_DE04/AULA2/pontuacao/202002240UTA.html',\n",
              " '/content/aqui/MyDrive/WebMining_Scraping_DE04/AULA2/pontuacao/202002240LAC.html',\n",
              " '/content/aqui/MyDrive/WebMining_Scraping_DE04/AULA2/pontuacao/202002250IND.html',\n",
              " '/content/aqui/MyDrive/WebMining_Scraping_DE04/AULA2/pontuacao/202002250TOR.html',\n",
              " '/content/aqui/MyDrive/WebMining_Scraping_DE04/AULA2/pontuacao/202002250CHI.html',\n",
              " '/content/aqui/MyDrive/WebMining_Scraping_DE04/AULA2/pontuacao/202002250DEN.html',\n",
              " '/content/aqui/MyDrive/WebMining_Scraping_DE04/AULA2/pontuacao/202002250LAL.html',\n",
              " '/content/aqui/MyDrive/WebMining_Scraping_DE04/AULA2/pontuacao/202002250POR.html',\n",
              " '/content/aqui/MyDrive/WebMining_Scraping_DE04/AULA2/pontuacao/202002250GSW.html',\n",
              " '/content/aqui/MyDrive/WebMining_Scraping_DE04/AULA2/pontuacao/202002260CHO.html',\n",
              " '/content/aqui/MyDrive/WebMining_Scraping_DE04/AULA2/pontuacao/202002260CLE.html',\n",
              " '/content/aqui/MyDrive/WebMining_Scraping_DE04/AULA2/pontuacao/202002260WAS.html',\n",
              " '/content/aqui/MyDrive/WebMining_Scraping_DE04/AULA2/pontuacao/202002260ATL.html',\n",
              " '/content/aqui/MyDrive/WebMining_Scraping_DE04/AULA2/pontuacao/202002260MIA.html',\n",
              " '/content/aqui/MyDrive/WebMining_Scraping_DE04/AULA2/pontuacao/202002260HOU.html',\n",
              " '/content/aqui/MyDrive/WebMining_Scraping_DE04/AULA2/pontuacao/202002260SAS.html',\n",
              " '/content/aqui/MyDrive/WebMining_Scraping_DE04/AULA2/pontuacao/202002260PHO.html',\n",
              " '/content/aqui/MyDrive/WebMining_Scraping_DE04/AULA2/pontuacao/202002260UTA.html',\n",
              " '/content/aqui/MyDrive/WebMining_Scraping_DE04/AULA2/pontuacao/202002270PHI.html',\n",
              " '/content/aqui/MyDrive/WebMining_Scraping_DE04/AULA2/pontuacao/202002270IND.html',\n",
              " '/content/aqui/MyDrive/WebMining_Scraping_DE04/AULA2/pontuacao/202002270OKC.html',\n",
              " '/content/aqui/MyDrive/WebMining_Scraping_DE04/AULA2/pontuacao/202002270GSW.html',\n",
              " '/content/aqui/MyDrive/WebMining_Scraping_DE04/AULA2/pontuacao/202002280ORL.html',\n",
              " '/content/aqui/MyDrive/WebMining_Scraping_DE04/AULA2/pontuacao/202002280ATL.html',\n",
              " '/content/aqui/MyDrive/WebMining_Scraping_DE04/AULA2/pontuacao/202002280TOR.html',\n",
              " '/content/aqui/MyDrive/WebMining_Scraping_DE04/AULA2/pontuacao/202002280MEM.html',\n",
              " '/content/aqui/MyDrive/WebMining_Scraping_DE04/AULA2/pontuacao/202002280MIA.html',\n",
              " '/content/aqui/MyDrive/WebMining_Scraping_DE04/AULA2/pontuacao/202002280MIL.html',\n",
              " '/content/aqui/MyDrive/WebMining_Scraping_DE04/AULA2/pontuacao/202002280NOP.html',\n",
              " '/content/aqui/MyDrive/WebMining_Scraping_DE04/AULA2/pontuacao/202002280PHO.html',\n",
              " '/content/aqui/MyDrive/WebMining_Scraping_DE04/AULA2/pontuacao/202002280UTA.html',\n",
              " '/content/aqui/MyDrive/WebMining_Scraping_DE04/AULA2/pontuacao/202002280LAC.html',\n",
              " '/content/aqui/MyDrive/WebMining_Scraping_DE04/AULA2/pontuacao/202002290NYK.html',\n",
              " '/content/aqui/MyDrive/WebMining_Scraping_DE04/AULA2/pontuacao/202002290ATL.html',\n",
              " '/content/aqui/MyDrive/WebMining_Scraping_DE04/AULA2/pontuacao/202002290MIA.html',\n",
              " '/content/aqui/MyDrive/WebMining_Scraping_DE04/AULA2/pontuacao/202002290CLE.html',\n",
              " '/content/aqui/MyDrive/WebMining_Scraping_DE04/AULA2/pontuacao/202002290MEM.html',\n",
              " '/content/aqui/MyDrive/WebMining_Scraping_DE04/AULA2/pontuacao/202002290BOS.html',\n",
              " '/content/aqui/MyDrive/WebMining_Scraping_DE04/AULA2/pontuacao/202002290SAS.html',\n",
              " '/content/aqui/MyDrive/WebMining_Scraping_DE04/AULA2/pontuacao/202002290PHO.html',\n",
              " '/content/aqui/MyDrive/WebMining_Scraping_DE04/AULA2/pontuacao/202003010CHO.html',\n",
              " '/content/aqui/MyDrive/WebMining_Scraping_DE04/AULA2/pontuacao/202003010LAC.html',\n",
              " '/content/aqui/MyDrive/WebMining_Scraping_DE04/AULA2/pontuacao/202003010MIN.html',\n",
              " '/content/aqui/MyDrive/WebMining_Scraping_DE04/AULA2/pontuacao/202003010DEN.html',\n",
              " '/content/aqui/MyDrive/WebMining_Scraping_DE04/AULA2/pontuacao/202003010SAC.html',\n",
              " '/content/aqui/MyDrive/WebMining_Scraping_DE04/AULA2/pontuacao/202003010NOP.html',\n",
              " '/content/aqui/MyDrive/WebMining_Scraping_DE04/AULA2/pontuacao/202003010GSW.html',\n",
              " '/content/aqui/MyDrive/WebMining_Scraping_DE04/AULA2/pontuacao/202003020CLE.html',\n",
              " '/content/aqui/MyDrive/WebMining_Scraping_DE04/AULA2/pontuacao/202003020NYK.html',\n",
              " '/content/aqui/MyDrive/WebMining_Scraping_DE04/AULA2/pontuacao/202003020ORL.html',\n",
              " '/content/aqui/MyDrive/WebMining_Scraping_DE04/AULA2/pontuacao/202003020ATL.html',\n",
              " '/content/aqui/MyDrive/WebMining_Scraping_DE04/AULA2/pontuacao/202003020MIA.html',\n",
              " '/content/aqui/MyDrive/WebMining_Scraping_DE04/AULA2/pontuacao/202003020CHI.html',\n",
              " '/content/aqui/MyDrive/WebMining_Scraping_DE04/AULA2/pontuacao/202003020SAS.html',\n",
              " '/content/aqui/MyDrive/WebMining_Scraping_DE04/AULA2/pontuacao/202003030CHO.html',\n",
              " '/content/aqui/MyDrive/WebMining_Scraping_DE04/AULA2/pontuacao/202003030BOS.html',\n",
              " '/content/aqui/MyDrive/WebMining_Scraping_DE04/AULA2/pontuacao/202003030NOP.html',\n",
              " '/content/aqui/MyDrive/WebMining_Scraping_DE04/AULA2/pontuacao/202003030OKC.html',\n",
              " '/content/aqui/MyDrive/WebMining_Scraping_DE04/AULA2/pontuacao/202003030DEN.html',\n",
              " '/content/aqui/MyDrive/WebMining_Scraping_DE04/AULA2/pontuacao/202003030PHO.html',\n",
              " '/content/aqui/MyDrive/WebMining_Scraping_DE04/AULA2/pontuacao/202003030LAL.html',\n",
              " '/content/aqui/MyDrive/WebMining_Scraping_DE04/AULA2/pontuacao/202003030SAC.html',\n",
              " '/content/aqui/MyDrive/WebMining_Scraping_DE04/AULA2/pontuacao/202003040CLE.html',\n",
              " '/content/aqui/MyDrive/WebMining_Scraping_DE04/AULA2/pontuacao/202003040DET.html',\n",
              " '/content/aqui/MyDrive/WebMining_Scraping_DE04/AULA2/pontuacao/202003040MIL.html',\n",
              " '/content/aqui/MyDrive/WebMining_Scraping_DE04/AULA2/pontuacao/202003040BRK.html',\n",
              " '/content/aqui/MyDrive/WebMining_Scraping_DE04/AULA2/pontuacao/202003040NYK.html',\n",
              " '/content/aqui/MyDrive/WebMining_Scraping_DE04/AULA2/pontuacao/202003040MIA.html',\n",
              " '/content/aqui/MyDrive/WebMining_Scraping_DE04/AULA2/pontuacao/202003040MIN.html',\n",
              " '/content/aqui/MyDrive/WebMining_Scraping_DE04/AULA2/pontuacao/202003040DAL.html',\n",
              " '/content/aqui/MyDrive/WebMining_Scraping_DE04/AULA2/pontuacao/202003040POR.html',\n",
              " '/content/aqui/MyDrive/WebMining_Scraping_DE04/AULA2/pontuacao/202003050CHO.html',\n",
              " '/content/aqui/MyDrive/WebMining_Scraping_DE04/AULA2/pontuacao/202003050HOU.html',\n",
              " '/content/aqui/MyDrive/WebMining_Scraping_DE04/AULA2/pontuacao/202003050SAC.html',\n",
              " '/content/aqui/MyDrive/WebMining_Scraping_DE04/AULA2/pontuacao/202003050GSW.html',\n",
              " '/content/aqui/MyDrive/WebMining_Scraping_DE04/AULA2/pontuacao/202003060WAS.html',\n",
              " '/content/aqui/MyDrive/WebMining_Scraping_DE04/AULA2/pontuacao/202003060BRK.html',\n",
              " '/content/aqui/MyDrive/WebMining_Scraping_DE04/AULA2/pontuacao/202003060NYK.html',\n",
              " '/content/aqui/MyDrive/WebMining_Scraping_DE04/AULA2/pontuacao/202003060CHI.html',\n",
              " '/content/aqui/MyDrive/WebMining_Scraping_DE04/AULA2/pontuacao/202003060MIN.html',\n",
              " '/content/aqui/MyDrive/WebMining_Scraping_DE04/AULA2/pontuacao/202003060NOP.html',\n",
              " '/content/aqui/MyDrive/WebMining_Scraping_DE04/AULA2/pontuacao/202003060BOS.html',\n",
              " '/content/aqui/MyDrive/WebMining_Scraping_DE04/AULA2/pontuacao/202003060DAL.html',\n",
              " '/content/aqui/MyDrive/WebMining_Scraping_DE04/AULA2/pontuacao/202003060PHO.html',\n",
              " '/content/aqui/MyDrive/WebMining_Scraping_DE04/AULA2/pontuacao/202003060LAL.html',\n",
              " '/content/aqui/MyDrive/WebMining_Scraping_DE04/AULA2/pontuacao/202003070CHO.html',\n",
              " '/content/aqui/MyDrive/WebMining_Scraping_DE04/AULA2/pontuacao/202003070DET.html',\n",
              " '/content/aqui/MyDrive/WebMining_Scraping_DE04/AULA2/pontuacao/202003070CLE.html',\n",
              " '/content/aqui/MyDrive/WebMining_Scraping_DE04/AULA2/pontuacao/202003070MEM.html',\n",
              " '/content/aqui/MyDrive/WebMining_Scraping_DE04/AULA2/pontuacao/202003070GSW.html',\n",
              " '/content/aqui/MyDrive/WebMining_Scraping_DE04/AULA2/pontuacao/202003070POR.html',\n",
              " '/content/aqui/MyDrive/WebMining_Scraping_DE04/AULA2/pontuacao/202003080BRK.html',\n",
              " '/content/aqui/MyDrive/WebMining_Scraping_DE04/AULA2/pontuacao/202003080MIN.html',\n",
              " '/content/aqui/MyDrive/WebMining_Scraping_DE04/AULA2/pontuacao/202003080LAC.html',\n",
              " '/content/aqui/MyDrive/WebMining_Scraping_DE04/AULA2/pontuacao/202003080BOS.html',\n",
              " '/content/aqui/MyDrive/WebMining_Scraping_DE04/AULA2/pontuacao/202003080PHO.html',\n",
              " '/content/aqui/MyDrive/WebMining_Scraping_DE04/AULA2/pontuacao/202003080WAS.html',\n",
              " '/content/aqui/MyDrive/WebMining_Scraping_DE04/AULA2/pontuacao/202003080DAL.html',\n",
              " '/content/aqui/MyDrive/WebMining_Scraping_DE04/AULA2/pontuacao/202003080HOU.html',\n",
              " '/content/aqui/MyDrive/WebMining_Scraping_DE04/AULA2/pontuacao/202003080NYK.html',\n",
              " '/content/aqui/MyDrive/WebMining_Scraping_DE04/AULA2/pontuacao/202003080CLE.html',\n",
              " '/content/aqui/MyDrive/WebMining_Scraping_DE04/AULA2/pontuacao/202003080SAC.html',\n",
              " '/content/aqui/MyDrive/WebMining_Scraping_DE04/AULA2/pontuacao/202003090ATL.html',\n",
              " '/content/aqui/MyDrive/WebMining_Scraping_DE04/AULA2/pontuacao/202003090DEN.html',\n",
              " '/content/aqui/MyDrive/WebMining_Scraping_DE04/AULA2/pontuacao/202003090UTA.html',\n",
              " '/content/aqui/MyDrive/WebMining_Scraping_DE04/AULA2/pontuacao/202003100WAS.html',\n",
              " '/content/aqui/MyDrive/WebMining_Scraping_DE04/AULA2/pontuacao/202003100IND.html',\n",
              " '/content/aqui/MyDrive/WebMining_Scraping_DE04/AULA2/pontuacao/202003100HOU.html',\n",
              " '/content/aqui/MyDrive/WebMining_Scraping_DE04/AULA2/pontuacao/202003100SAS.html',\n",
              " '/content/aqui/MyDrive/WebMining_Scraping_DE04/AULA2/pontuacao/202003100MEM.html',\n",
              " '/content/aqui/MyDrive/WebMining_Scraping_DE04/AULA2/pontuacao/202003100CHI.html',\n",
              " '/content/aqui/MyDrive/WebMining_Scraping_DE04/AULA2/pontuacao/202003100POR.html',\n",
              " '/content/aqui/MyDrive/WebMining_Scraping_DE04/AULA2/pontuacao/202003100LAL.html',\n",
              " '/content/aqui/MyDrive/WebMining_Scraping_DE04/AULA2/pontuacao/202003100GSW.html',\n",
              " '/content/aqui/MyDrive/WebMining_Scraping_DE04/AULA2/pontuacao/202003110PHI.html',\n",
              " '/content/aqui/MyDrive/WebMining_Scraping_DE04/AULA2/pontuacao/202003110ATL.html',\n",
              " '/content/aqui/MyDrive/WebMining_Scraping_DE04/AULA2/pontuacao/202003110MIA.html',\n",
              " '/content/aqui/MyDrive/WebMining_Scraping_DE04/AULA2/pontuacao/202003110DAL.html',\n",
              " '/content/aqui/MyDrive/WebMining_Scraping_DE04/AULA2/pontuacao/202007300NOP.html',\n",
              " '/content/aqui/MyDrive/WebMining_Scraping_DE04/AULA2/pontuacao/202007300LAL.html',\n",
              " '/content/aqui/MyDrive/WebMining_Scraping_DE04/AULA2/pontuacao/202007310BRK.html',\n",
              " '/content/aqui/MyDrive/WebMining_Scraping_DE04/AULA2/pontuacao/202007310POR.html',\n",
              " '/content/aqui/MyDrive/WebMining_Scraping_DE04/AULA2/pontuacao/202007310WAS.html',\n",
              " '/content/aqui/MyDrive/WebMining_Scraping_DE04/AULA2/pontuacao/202007310MIL.html',\n",
              " '/content/aqui/MyDrive/WebMining_Scraping_DE04/AULA2/pontuacao/202007310SAS.html',\n",
              " '/content/aqui/MyDrive/WebMining_Scraping_DE04/AULA2/pontuacao/202007310DAL.html',\n",
              " '/content/aqui/MyDrive/WebMining_Scraping_DE04/AULA2/pontuacao/202008010DEN.html',\n",
              " '/content/aqui/MyDrive/WebMining_Scraping_DE04/AULA2/pontuacao/202008010OKC.html',\n",
              " '/content/aqui/MyDrive/WebMining_Scraping_DE04/AULA2/pontuacao/202008010LAC.html',\n",
              " '/content/aqui/MyDrive/WebMining_Scraping_DE04/AULA2/pontuacao/202008010IND.html',\n",
              " '/content/aqui/MyDrive/WebMining_Scraping_DE04/AULA2/pontuacao/202008010TOR.html',\n",
              " '/content/aqui/MyDrive/WebMining_Scraping_DE04/AULA2/pontuacao/202008020BRK.html',\n",
              " '/content/aqui/MyDrive/WebMining_Scraping_DE04/AULA2/pontuacao/202008020BOS.html',\n",
              " '/content/aqui/MyDrive/WebMining_Scraping_DE04/AULA2/pontuacao/202008020MEM.html',\n",
              " '/content/aqui/MyDrive/WebMining_Scraping_DE04/AULA2/pontuacao/202008020ORL.html',\n",
              " '/content/aqui/MyDrive/WebMining_Scraping_DE04/AULA2/pontuacao/202008020HOU.html',\n",
              " '/content/aqui/MyDrive/WebMining_Scraping_DE04/AULA2/pontuacao/202008020PHO.html',\n",
              " '/content/aqui/MyDrive/WebMining_Scraping_DE04/AULA2/pontuacao/202008030MIA.html',\n",
              " '/content/aqui/MyDrive/WebMining_Scraping_DE04/AULA2/pontuacao/202008030OKC.html',\n",
              " '/content/aqui/MyDrive/WebMining_Scraping_DE04/AULA2/pontuacao/202008030WAS.html',\n",
              " '/content/aqui/MyDrive/WebMining_Scraping_DE04/AULA2/pontuacao/202008030NOP.html',\n",
              " '/content/aqui/MyDrive/WebMining_Scraping_DE04/AULA2/pontuacao/202008030PHI.html',\n",
              " '/content/aqui/MyDrive/WebMining_Scraping_DE04/AULA2/pontuacao/202008030UTA.html',\n",
              " '/content/aqui/MyDrive/WebMining_Scraping_DE04/AULA2/pontuacao/202008040MIL.html',\n",
              " '/content/aqui/MyDrive/WebMining_Scraping_DE04/AULA2/pontuacao/202008040SAC.html',\n",
              " '/content/aqui/MyDrive/WebMining_Scraping_DE04/AULA2/pontuacao/202008040LAC.html',\n",
              " '/content/aqui/MyDrive/WebMining_Scraping_DE04/AULA2/pontuacao/202008040IND.html',\n",
              " '/content/aqui/MyDrive/WebMining_Scraping_DE04/AULA2/pontuacao/202008040MIA.html',\n",
              " '/content/aqui/MyDrive/WebMining_Scraping_DE04/AULA2/pontuacao/202008040POR.html',\n",
              " '/content/aqui/MyDrive/WebMining_Scraping_DE04/AULA2/pontuacao/202008050UTA.html',\n",
              " '/content/aqui/MyDrive/WebMining_Scraping_DE04/AULA2/pontuacao/202008050SAS.html',\n",
              " '/content/aqui/MyDrive/WebMining_Scraping_DE04/AULA2/pontuacao/202008050WAS.html',\n",
              " '/content/aqui/MyDrive/WebMining_Scraping_DE04/AULA2/pontuacao/202008050LAL.html',\n",
              " '/content/aqui/MyDrive/WebMining_Scraping_DE04/AULA2/pontuacao/202008050ORL.html',\n",
              " '/content/aqui/MyDrive/WebMining_Scraping_DE04/AULA2/pontuacao/202008050BOS.html',\n",
              " '/content/aqui/MyDrive/WebMining_Scraping_DE04/AULA2/pontuacao/202008060SAC.html',\n",
              " '/content/aqui/MyDrive/WebMining_Scraping_DE04/AULA2/pontuacao/202008060MIL.html',\n",
              " '/content/aqui/MyDrive/WebMining_Scraping_DE04/AULA2/pontuacao/202008060PHO.html',\n",
              " '/content/aqui/MyDrive/WebMining_Scraping_DE04/AULA2/pontuacao/202008060DAL.html',\n",
              " '/content/aqui/MyDrive/WebMining_Scraping_DE04/AULA2/pontuacao/202008060DEN.html',\n",
              " '/content/aqui/MyDrive/WebMining_Scraping_DE04/AULA2/pontuacao/202008060HOU.html',\n",
              " '/content/aqui/MyDrive/WebMining_Scraping_DE04/AULA2/pontuacao/202008070SAS.html',\n",
              " '/content/aqui/MyDrive/WebMining_Scraping_DE04/AULA2/pontuacao/202008070MEM.html',\n",
              " '/content/aqui/MyDrive/WebMining_Scraping_DE04/AULA2/pontuacao/202008070BRK.html',\n",
              " '/content/aqui/MyDrive/WebMining_Scraping_DE04/AULA2/pontuacao/202008070PHI.html',\n",
              " '/content/aqui/MyDrive/WebMining_Scraping_DE04/AULA2/pontuacao/202008070NOP.html',\n",
              " '/content/aqui/MyDrive/WebMining_Scraping_DE04/AULA2/pontuacao/202008070TOR.html',\n",
              " '/content/aqui/MyDrive/WebMining_Scraping_DE04/AULA2/pontuacao/202008080POR.html',\n",
              " '/content/aqui/MyDrive/WebMining_Scraping_DE04/AULA2/pontuacao/202008080DEN.html',\n",
              " '/content/aqui/MyDrive/WebMining_Scraping_DE04/AULA2/pontuacao/202008080IND.html',\n",
              " '/content/aqui/MyDrive/WebMining_Scraping_DE04/AULA2/pontuacao/202008080MIA.html',\n",
              " '/content/aqui/MyDrive/WebMining_Scraping_DE04/AULA2/pontuacao/202008080DAL.html',\n",
              " '/content/aqui/MyDrive/WebMining_Scraping_DE04/AULA2/pontuacao/202008090OKC.html',\n",
              " '/content/aqui/MyDrive/WebMining_Scraping_DE04/AULA2/pontuacao/202008090TOR.html',\n",
              " '/content/aqui/MyDrive/WebMining_Scraping_DE04/AULA2/pontuacao/202008090NOP.html',\n",
              " '/content/aqui/MyDrive/WebMining_Scraping_DE04/AULA2/pontuacao/202008090BOS.html',\n",
              " '/content/aqui/MyDrive/WebMining_Scraping_DE04/AULA2/pontuacao/202008090POR.html',\n",
              " '/content/aqui/MyDrive/WebMining_Scraping_DE04/AULA2/pontuacao/202008090SAC.html',\n",
              " '/content/aqui/MyDrive/WebMining_Scraping_DE04/AULA2/pontuacao/202008090LAC.html',\n",
              " '/content/aqui/MyDrive/WebMining_Scraping_DE04/AULA2/pontuacao/202008100PHO.html',\n",
              " '/content/aqui/MyDrive/WebMining_Scraping_DE04/AULA2/pontuacao/202008100UTA.html',\n",
              " '/content/aqui/MyDrive/WebMining_Scraping_DE04/AULA2/pontuacao/202008100MIL.html',\n",
              " '/content/aqui/MyDrive/WebMining_Scraping_DE04/AULA2/pontuacao/202008100MIA.html',\n",
              " '/content/aqui/MyDrive/WebMining_Scraping_DE04/AULA2/pontuacao/202008100LAL.html',\n",
              " '/content/aqui/MyDrive/WebMining_Scraping_DE04/AULA2/pontuacao/202008110ORL.html',\n",
              " '/content/aqui/MyDrive/WebMining_Scraping_DE04/AULA2/pontuacao/202008110SAS.html',\n",
              " '/content/aqui/MyDrive/WebMining_Scraping_DE04/AULA2/pontuacao/202008110PHI.html',\n",
              " '/content/aqui/MyDrive/WebMining_Scraping_DE04/AULA2/pontuacao/202008110MEM.html',\n",
              " '/content/aqui/MyDrive/WebMining_Scraping_DE04/AULA2/pontuacao/202008110DAL.html',\n",
              " '/content/aqui/MyDrive/WebMining_Scraping_DE04/AULA2/pontuacao/202008110SAC.html',\n",
              " '/content/aqui/MyDrive/WebMining_Scraping_DE04/AULA2/pontuacao/202008110WAS.html',\n",
              " '/content/aqui/MyDrive/WebMining_Scraping_DE04/AULA2/pontuacao/202008120HOU.html',\n",
              " '/content/aqui/MyDrive/WebMining_Scraping_DE04/AULA2/pontuacao/202008120PHI.html',\n",
              " '/content/aqui/MyDrive/WebMining_Scraping_DE04/AULA2/pontuacao/202008120OKC.html',\n",
              " '/content/aqui/MyDrive/WebMining_Scraping_DE04/AULA2/pontuacao/202008120DEN.html',\n",
              " '/content/aqui/MyDrive/WebMining_Scraping_DE04/AULA2/pontuacao/202008130BOS.html',\n",
              " '/content/aqui/MyDrive/WebMining_Scraping_DE04/AULA2/pontuacao/202008130LAL.html',\n",
              " '/content/aqui/MyDrive/WebMining_Scraping_DE04/AULA2/pontuacao/202008130MEM.html',\n",
              " '/content/aqui/MyDrive/WebMining_Scraping_DE04/AULA2/pontuacao/202008130PHO.html',\n",
              " '/content/aqui/MyDrive/WebMining_Scraping_DE04/AULA2/pontuacao/202008130UTA.html',\n",
              " '/content/aqui/MyDrive/WebMining_Scraping_DE04/AULA2/pontuacao/202008130BRK.html',\n",
              " '/content/aqui/MyDrive/WebMining_Scraping_DE04/AULA2/pontuacao/202008130ORL.html',\n",
              " '/content/aqui/MyDrive/WebMining_Scraping_DE04/AULA2/pontuacao/202008140TOR.html',\n",
              " '/content/aqui/MyDrive/WebMining_Scraping_DE04/AULA2/pontuacao/202008140IND.html',\n",
              " '/content/aqui/MyDrive/WebMining_Scraping_DE04/AULA2/pontuacao/202008140LAC.html',\n",
              " '/content/aqui/MyDrive/WebMining_Scraping_DE04/AULA2/pontuacao/202008140HOU.html',\n",
              " '/content/aqui/MyDrive/WebMining_Scraping_DE04/AULA2/pontuacao/202008150POR.html',\n",
              " '/content/aqui/MyDrive/WebMining_Scraping_DE04/AULA2/pontuacao/202008170DEN.html',\n",
              " '/content/aqui/MyDrive/WebMining_Scraping_DE04/AULA2/pontuacao/202008170TOR.html',\n",
              " '/content/aqui/MyDrive/WebMining_Scraping_DE04/AULA2/pontuacao/202008170BOS.html',\n",
              " '/content/aqui/MyDrive/WebMining_Scraping_DE04/AULA2/pontuacao/202008170LAC.html',\n",
              " '/content/aqui/MyDrive/WebMining_Scraping_DE04/AULA2/pontuacao/202008180MIL.html',\n",
              " '/content/aqui/MyDrive/WebMining_Scraping_DE04/AULA2/pontuacao/202008180IND.html',\n",
              " '/content/aqui/MyDrive/WebMining_Scraping_DE04/AULA2/pontuacao/202008180HOU.html',\n",
              " '/content/aqui/MyDrive/WebMining_Scraping_DE04/AULA2/pontuacao/202008180LAL.html',\n",
              " '/content/aqui/MyDrive/WebMining_Scraping_DE04/AULA2/pontuacao/202008190TOR.html',\n",
              " '/content/aqui/MyDrive/WebMining_Scraping_DE04/AULA2/pontuacao/202008190DEN.html',\n",
              " '/content/aqui/MyDrive/WebMining_Scraping_DE04/AULA2/pontuacao/202008190BOS.html',\n",
              " '/content/aqui/MyDrive/WebMining_Scraping_DE04/AULA2/pontuacao/202008190LAC.html',\n",
              " '/content/aqui/MyDrive/WebMining_Scraping_DE04/AULA2/pontuacao/202008200IND.html',\n",
              " '/content/aqui/MyDrive/WebMining_Scraping_DE04/AULA2/pontuacao/202008200HOU.html',\n",
              " '/content/aqui/MyDrive/WebMining_Scraping_DE04/AULA2/pontuacao/202008200MIL.html',\n",
              " '/content/aqui/MyDrive/WebMining_Scraping_DE04/AULA2/pontuacao/202008200LAL.html',\n",
              " '/content/aqui/MyDrive/WebMining_Scraping_DE04/AULA2/pontuacao/202008210BRK.html',\n",
              " '/content/aqui/MyDrive/WebMining_Scraping_DE04/AULA2/pontuacao/202008210UTA.html',\n",
              " '/content/aqui/MyDrive/WebMining_Scraping_DE04/AULA2/pontuacao/202008210PHI.html',\n",
              " '/content/aqui/MyDrive/WebMining_Scraping_DE04/AULA2/pontuacao/202008210DAL.html',\n",
              " '/content/aqui/MyDrive/WebMining_Scraping_DE04/AULA2/pontuacao/202008220ORL.html',\n",
              " '/content/aqui/MyDrive/WebMining_Scraping_DE04/AULA2/pontuacao/202008220MIA.html',\n",
              " '/content/aqui/MyDrive/WebMining_Scraping_DE04/AULA2/pontuacao/202008220OKC.html',\n",
              " '/content/aqui/MyDrive/WebMining_Scraping_DE04/AULA2/pontuacao/202008220POR.html',\n",
              " '/content/aqui/MyDrive/WebMining_Scraping_DE04/AULA2/pontuacao/202008230PHI.html',\n",
              " '/content/aqui/MyDrive/WebMining_Scraping_DE04/AULA2/pontuacao/202008230DAL.html',\n",
              " '/content/aqui/MyDrive/WebMining_Scraping_DE04/AULA2/pontuacao/202008230BRK.html',\n",
              " '/content/aqui/MyDrive/WebMining_Scraping_DE04/AULA2/pontuacao/202008230UTA.html',\n",
              " '/content/aqui/MyDrive/WebMining_Scraping_DE04/AULA2/pontuacao/202008240ORL.html',\n",
              " '/content/aqui/MyDrive/WebMining_Scraping_DE04/AULA2/pontuacao/202008240OKC.html',\n",
              " '/content/aqui/MyDrive/WebMining_Scraping_DE04/AULA2/pontuacao/202008240MIA.html',\n",
              " '/content/aqui/MyDrive/WebMining_Scraping_DE04/AULA2/pontuacao/202008240POR.html',\n",
              " '/content/aqui/MyDrive/WebMining_Scraping_DE04/AULA2/pontuacao/202008250DEN.html',\n",
              " '/content/aqui/MyDrive/WebMining_Scraping_DE04/AULA2/pontuacao/202008250LAC.html',\n",
              " '/content/aqui/MyDrive/WebMining_Scraping_DE04/AULA2/pontuacao/202008290MIL.html',\n",
              " '/content/aqui/MyDrive/WebMining_Scraping_DE04/AULA2/pontuacao/202008290HOU.html',\n",
              " '/content/aqui/MyDrive/WebMining_Scraping_DE04/AULA2/pontuacao/202008290LAL.html',\n",
              " '/content/aqui/MyDrive/WebMining_Scraping_DE04/AULA2/pontuacao/202008300TOR.html',\n",
              " '/content/aqui/MyDrive/WebMining_Scraping_DE04/AULA2/pontuacao/202008300DAL.html',\n",
              " '/content/aqui/MyDrive/WebMining_Scraping_DE04/AULA2/pontuacao/202008300UTA.html',\n",
              " '/content/aqui/MyDrive/WebMining_Scraping_DE04/AULA2/pontuacao/202008310MIL.html',\n",
              " '/content/aqui/MyDrive/WebMining_Scraping_DE04/AULA2/pontuacao/202008310OKC.html',\n",
              " '/content/aqui/MyDrive/WebMining_Scraping_DE04/AULA2/pontuacao/202009010TOR.html',\n",
              " '/content/aqui/MyDrive/WebMining_Scraping_DE04/AULA2/pontuacao/202009010DEN.html',\n",
              " '/content/aqui/MyDrive/WebMining_Scraping_DE04/AULA2/pontuacao/202009020MIL.html',\n",
              " '/content/aqui/MyDrive/WebMining_Scraping_DE04/AULA2/pontuacao/202009020HOU.html',\n",
              " '/content/aqui/MyDrive/WebMining_Scraping_DE04/AULA2/pontuacao/202009030BOS.html',\n",
              " '/content/aqui/MyDrive/WebMining_Scraping_DE04/AULA2/pontuacao/202009030LAC.html',\n",
              " '/content/aqui/MyDrive/WebMining_Scraping_DE04/AULA2/pontuacao/202009040MIA.html',\n",
              " '/content/aqui/MyDrive/WebMining_Scraping_DE04/AULA2/pontuacao/202009040LAL.html',\n",
              " '/content/aqui/MyDrive/WebMining_Scraping_DE04/AULA2/pontuacao/202009050BOS.html',\n",
              " '/content/aqui/MyDrive/WebMining_Scraping_DE04/AULA2/pontuacao/202009050LAC.html',\n",
              " '/content/aqui/MyDrive/WebMining_Scraping_DE04/AULA2/pontuacao/202009060MIA.html',\n",
              " '/content/aqui/MyDrive/WebMining_Scraping_DE04/AULA2/pontuacao/202009060LAL.html',\n",
              " '/content/aqui/MyDrive/WebMining_Scraping_DE04/AULA2/pontuacao/202009070TOR.html',\n",
              " '/content/aqui/MyDrive/WebMining_Scraping_DE04/AULA2/pontuacao/202009070DEN.html',\n",
              " '/content/aqui/MyDrive/WebMining_Scraping_DE04/AULA2/pontuacao/202009080MIL.html',\n",
              " '/content/aqui/MyDrive/WebMining_Scraping_DE04/AULA2/pontuacao/202009080HOU.html',\n",
              " '/content/aqui/MyDrive/WebMining_Scraping_DE04/AULA2/pontuacao/202009090BOS.html',\n",
              " '/content/aqui/MyDrive/WebMining_Scraping_DE04/AULA2/pontuacao/202009090DEN.html',\n",
              " '/content/aqui/MyDrive/WebMining_Scraping_DE04/AULA2/pontuacao/202009100HOU.html',\n",
              " '/content/aqui/MyDrive/WebMining_Scraping_DE04/AULA2/pontuacao/202009110LAC.html',\n",
              " '/content/aqui/MyDrive/WebMining_Scraping_DE04/AULA2/pontuacao/202009110TOR.html',\n",
              " '/content/aqui/MyDrive/WebMining_Scraping_DE04/AULA2/pontuacao/202009120LAL.html',\n",
              " '/content/aqui/MyDrive/WebMining_Scraping_DE04/AULA2/pontuacao/202009130DEN.html',\n",
              " '/content/aqui/MyDrive/WebMining_Scraping_DE04/AULA2/pontuacao/202009150BOS.html',\n",
              " '/content/aqui/MyDrive/WebMining_Scraping_DE04/AULA2/pontuacao/202009150LAC.html',\n",
              " '/content/aqui/MyDrive/WebMining_Scraping_DE04/AULA2/pontuacao/202009170BOS.html',\n",
              " '/content/aqui/MyDrive/WebMining_Scraping_DE04/AULA2/pontuacao/202009180LAL.html',\n",
              " '/content/aqui/MyDrive/WebMining_Scraping_DE04/AULA2/pontuacao/202009190MIA.html',\n",
              " '/content/aqui/MyDrive/WebMining_Scraping_DE04/AULA2/pontuacao/202009200LAL.html',\n",
              " '/content/aqui/MyDrive/WebMining_Scraping_DE04/AULA2/pontuacao/202009220DEN.html',\n",
              " '/content/aqui/MyDrive/WebMining_Scraping_DE04/AULA2/pontuacao/202009230MIA.html',\n",
              " '/content/aqui/MyDrive/WebMining_Scraping_DE04/AULA2/pontuacao/202009240DEN.html',\n",
              " '/content/aqui/MyDrive/WebMining_Scraping_DE04/AULA2/pontuacao/202009250BOS.html',\n",
              " '/content/aqui/MyDrive/WebMining_Scraping_DE04/AULA2/pontuacao/202009260LAL.html',\n",
              " '/content/aqui/MyDrive/WebMining_Scraping_DE04/AULA2/pontuacao/202009270MIA.html',\n",
              " '/content/aqui/MyDrive/WebMining_Scraping_DE04/AULA2/pontuacao/202009300LAL.html',\n",
              " '/content/aqui/MyDrive/WebMining_Scraping_DE04/AULA2/pontuacao/202010020LAL.html',\n",
              " '/content/aqui/MyDrive/WebMining_Scraping_DE04/AULA2/pontuacao/202010040MIA.html',\n",
              " '/content/aqui/MyDrive/WebMining_Scraping_DE04/AULA2/pontuacao/202010060MIA.html',\n",
              " '/content/aqui/MyDrive/WebMining_Scraping_DE04/AULA2/pontuacao/202010090LAL.html',\n",
              " '/content/aqui/MyDrive/WebMining_Scraping_DE04/AULA2/pontuacao/202010110MIA.html',\n",
              " '/content/aqui/MyDrive/WebMining_Scraping_DE04/AULA2/pontuacao/202012220BRK.html',\n",
              " '/content/aqui/MyDrive/WebMining_Scraping_DE04/AULA2/pontuacao/202012220LAL.html',\n",
              " '/content/aqui/MyDrive/WebMining_Scraping_DE04/AULA2/pontuacao/202012230CLE.html',\n",
              " '/content/aqui/MyDrive/WebMining_Scraping_DE04/AULA2/pontuacao/202012230IND.html',\n",
              " '/content/aqui/MyDrive/WebMining_Scraping_DE04/AULA2/pontuacao/202012230ORL.html',\n",
              " '/content/aqui/MyDrive/WebMining_Scraping_DE04/AULA2/pontuacao/202012230PHI.html',\n",
              " '/content/aqui/MyDrive/WebMining_Scraping_DE04/AULA2/pontuacao/202012230TOR.html',\n",
              " '/content/aqui/MyDrive/WebMining_Scraping_DE04/AULA2/pontuacao/202012230BOS.html',\n",
              " '/content/aqui/MyDrive/WebMining_Scraping_DE04/AULA2/pontuacao/202012230CHI.html',\n",
              " '/content/aqui/MyDrive/WebMining_Scraping_DE04/AULA2/pontuacao/202012230MEM.html',\n",
              " '/content/aqui/MyDrive/WebMining_Scraping_DE04/AULA2/pontuacao/202012230MIN.html',\n",
              " '/content/aqui/MyDrive/WebMining_Scraping_DE04/AULA2/pontuacao/202012230DEN.html',\n",
              " '/content/aqui/MyDrive/WebMining_Scraping_DE04/AULA2/pontuacao/202012230POR.html',\n",
              " '/content/aqui/MyDrive/WebMining_Scraping_DE04/AULA2/pontuacao/202012230PHO.html',\n",
              " '/content/aqui/MyDrive/WebMining_Scraping_DE04/AULA2/pontuacao/202012250MIA.html',\n",
              " '/content/aqui/MyDrive/WebMining_Scraping_DE04/AULA2/pontuacao/202012250MIL.html',\n",
              " '/content/aqui/MyDrive/WebMining_Scraping_DE04/AULA2/pontuacao/202012250BOS.html',\n",
              " '/content/aqui/MyDrive/WebMining_Scraping_DE04/AULA2/pontuacao/202012250LAL.html',\n",
              " '/content/aqui/MyDrive/WebMining_Scraping_DE04/AULA2/pontuacao/202012250DEN.html',\n",
              " '/content/aqui/MyDrive/WebMining_Scraping_DE04/AULA2/pontuacao/202012260MEM.html',\n",
              " '/content/aqui/MyDrive/WebMining_Scraping_DE04/AULA2/pontuacao/202012260CHO.html',\n",
              " '/content/aqui/MyDrive/WebMining_Scraping_DE04/AULA2/pontuacao/202012260DET.html',\n",
              " '/content/aqui/MyDrive/WebMining_Scraping_DE04/AULA2/pontuacao/202012260WAS.html',\n",
              " '/content/aqui/MyDrive/WebMining_Scraping_DE04/AULA2/pontuacao/202012260NYK.html',\n",
              " '/content/aqui/MyDrive/WebMining_Scraping_DE04/AULA2/pontuacao/202012260CHI.html',\n",
              " '/content/aqui/MyDrive/WebMining_Scraping_DE04/AULA2/pontuacao/202012260SAS.html',\n",
              " '/content/aqui/MyDrive/WebMining_Scraping_DE04/AULA2/pontuacao/202012260UTA.html',\n",
              " '/content/aqui/MyDrive/WebMining_Scraping_DE04/AULA2/pontuacao/202012260POR.html',\n",
              " '/content/aqui/MyDrive/WebMining_Scraping_DE04/AULA2/pontuacao/202012260SAC.html',\n",
              " '/content/aqui/MyDrive/WebMining_Scraping_DE04/AULA2/pontuacao/202012270LAC.html',\n",
              " '/content/aqui/MyDrive/WebMining_Scraping_DE04/AULA2/pontuacao/202012270NOP.html',\n",
              " '/content/aqui/MyDrive/WebMining_Scraping_DE04/AULA2/pontuacao/202012270WAS.html',\n",
              " '/content/aqui/MyDrive/WebMining_Scraping_DE04/AULA2/pontuacao/202012270CHO.html',\n",
              " '/content/aqui/MyDrive/WebMining_Scraping_DE04/AULA2/pontuacao/202012270CLE.html',\n",
              " '/content/aqui/MyDrive/WebMining_Scraping_DE04/AULA2/pontuacao/202012270NYK.html',\n",
              " '/content/aqui/MyDrive/WebMining_Scraping_DE04/AULA2/pontuacao/202012270IND.html',\n",
              " '/content/aqui/MyDrive/WebMining_Scraping_DE04/AULA2/pontuacao/202012270CHI.html',\n",
              " '/content/aqui/MyDrive/WebMining_Scraping_DE04/AULA2/pontuacao/202012270SAC.html',\n",
              " '/content/aqui/MyDrive/WebMining_Scraping_DE04/AULA2/pontuacao/202012270LAL.html',\n",
              " '/content/aqui/MyDrive/WebMining_Scraping_DE04/AULA2/pontuacao/202012280BRK.html',\n",
              " '/content/aqui/MyDrive/WebMining_Scraping_DE04/AULA2/pontuacao/202012280ATL.html',\n",
              " '/content/aqui/MyDrive/WebMining_Scraping_DE04/AULA2/pontuacao/202012280OKC.html',\n",
              " '/content/aqui/MyDrive/WebMining_Scraping_DE04/AULA2/pontuacao/202012280DEN.html',\n",
              " '/content/aqui/MyDrive/WebMining_Scraping_DE04/AULA2/pontuacao/202012280LAL.html',\n",
              " '/content/aqui/MyDrive/WebMining_Scraping_DE04/AULA2/pontuacao/202012290CLE.html',\n",
              " '/content/aqui/MyDrive/WebMining_Scraping_DE04/AULA2/pontuacao/202012290DET.html',\n",
              " '/content/aqui/MyDrive/WebMining_Scraping_DE04/AULA2/pontuacao/202012290IND.html',\n",
              " '/content/aqui/MyDrive/WebMining_Scraping_DE04/AULA2/pontuacao/202012290WAS.html',\n",
              " '/content/aqui/MyDrive/WebMining_Scraping_DE04/AULA2/pontuacao/202012290PHI.html',\n",
              " '/content/aqui/MyDrive/WebMining_Scraping_DE04/AULA2/pontuacao/202012290MIA.html',\n",
              " '/content/aqui/MyDrive/WebMining_Scraping_DE04/AULA2/pontuacao/202012290OKC.html',\n",
              " '/content/aqui/MyDrive/WebMining_Scraping_DE04/AULA2/pontuacao/202012290PHO.html',\n",
              " '/content/aqui/MyDrive/WebMining_Scraping_DE04/AULA2/pontuacao/202012290SAC.html',\n",
              " '/content/aqui/MyDrive/WebMining_Scraping_DE04/AULA2/pontuacao/202012290LAC.html',\n",
              " '/content/aqui/MyDrive/WebMining_Scraping_DE04/AULA2/pontuacao/202012300MIA.html',\n",
              " '/content/aqui/MyDrive/WebMining_Scraping_DE04/AULA2/pontuacao/202012300BRK.html',\n",
              " '/content/aqui/MyDrive/WebMining_Scraping_DE04/AULA2/pontuacao/202012300BOS.html',\n",
              " '/content/aqui/MyDrive/WebMining_Scraping_DE04/AULA2/pontuacao/202012300DAL.html',\n",
              " '/content/aqui/MyDrive/WebMining_Scraping_DE04/AULA2/pontuacao/202012300SAS.html',\n",
              " '/content/aqui/MyDrive/WebMining_Scraping_DE04/AULA2/pontuacao/202012300LAC.html',\n",
              " '/content/aqui/MyDrive/WebMining_Scraping_DE04/AULA2/pontuacao/202012310IND.html',\n",
              " '/content/aqui/MyDrive/WebMining_Scraping_DE04/AULA2/pontuacao/202012310WAS.html',\n",
              " '/content/aqui/MyDrive/WebMining_Scraping_DE04/AULA2/pontuacao/202012310ORL.html',\n",
              " '/content/aqui/MyDrive/WebMining_Scraping_DE04/AULA2/pontuacao/202012310HOU.html',\n",
              " '/content/aqui/MyDrive/WebMining_Scraping_DE04/AULA2/pontuacao/202012310TOR.html',\n",
              " '/content/aqui/MyDrive/WebMining_Scraping_DE04/AULA2/pontuacao/202012310OKC.html',\n",
              " '/content/aqui/MyDrive/WebMining_Scraping_DE04/AULA2/pontuacao/202012310UTA.html',\n",
              " '/content/aqui/MyDrive/WebMining_Scraping_DE04/AULA2/pontuacao/202101010CHO.html',\n",
              " '/content/aqui/MyDrive/WebMining_Scraping_DE04/AULA2/pontuacao/202101010DAL.html',\n",
              " '/content/aqui/MyDrive/WebMining_Scraping_DE04/AULA2/pontuacao/202101010DET.html',\n",
              " '/content/aqui/MyDrive/WebMining_Scraping_DE04/AULA2/pontuacao/202101010BRK.html',\n",
              " '/content/aqui/MyDrive/WebMining_Scraping_DE04/AULA2/pontuacao/202101010MIL.html',\n",
              " '/content/aqui/MyDrive/WebMining_Scraping_DE04/AULA2/pontuacao/202101010MIN.html',\n",
              " '/content/aqui/MyDrive/WebMining_Scraping_DE04/AULA2/pontuacao/202101010SAS.html',\n",
              " '/content/aqui/MyDrive/WebMining_Scraping_DE04/AULA2/pontuacao/202101010DEN.html',\n",
              " '/content/aqui/MyDrive/WebMining_Scraping_DE04/AULA2/pontuacao/202101010UTA.html',\n",
              " '/content/aqui/MyDrive/WebMining_Scraping_DE04/AULA2/pontuacao/202101010GSW.html',\n",
              " '/content/aqui/MyDrive/WebMining_Scraping_DE04/AULA2/pontuacao/202101020HOU.html',\n",
              " '/content/aqui/MyDrive/WebMining_Scraping_DE04/AULA2/pontuacao/202101020IND.html',\n",
              " '/content/aqui/MyDrive/WebMining_Scraping_DE04/AULA2/pontuacao/202101020ORL.html',\n",
              " '/content/aqui/MyDrive/WebMining_Scraping_DE04/AULA2/pontuacao/202101020PHI.html',\n",
              " '/content/aqui/MyDrive/WebMining_Scraping_DE04/AULA2/pontuacao/202101020ATL.html',\n",
              " '/content/aqui/MyDrive/WebMining_Scraping_DE04/AULA2/pontuacao/202101020NOP.html',\n",
              " '/content/aqui/MyDrive/WebMining_Scraping_DE04/AULA2/pontuacao/202101030DET.html',\n",
              " '/content/aqui/MyDrive/WebMining_Scraping_DE04/AULA2/pontuacao/202101030BRK.html',\n",
              " '/content/aqui/MyDrive/WebMining_Scraping_DE04/AULA2/pontuacao/202101030MEM.html',\n",
              " '/content/aqui/MyDrive/WebMining_Scraping_DE04/AULA2/pontuacao/202101030MIN.html',\n",
              " '/content/aqui/MyDrive/WebMining_Scraping_DE04/AULA2/pontuacao/202101030SAS.html',\n",
              " '/content/aqui/MyDrive/WebMining_Scraping_DE04/AULA2/pontuacao/202101030CHI.html',\n",
              " '/content/aqui/MyDrive/WebMining_Scraping_DE04/AULA2/pontuacao/202101030PHO.html',\n",
              " '/content/aqui/MyDrive/WebMining_Scraping_DE04/AULA2/pontuacao/202101030GSW.html',\n",
              " '/content/aqui/MyDrive/WebMining_Scraping_DE04/AULA2/pontuacao/202101040ORL.html',\n",
              " '/content/aqui/MyDrive/WebMining_Scraping_DE04/AULA2/pontuacao/202101040PHI.html',\n",
              " '/content/aqui/MyDrive/WebMining_Scraping_DE04/AULA2/pontuacao/202101040ATL.html',\n",
              " '/content/aqui/MyDrive/WebMining_Scraping_DE04/AULA2/pontuacao/202101040MIA.html',\n",
              " '/content/aqui/MyDrive/WebMining_Scraping_DE04/AULA2/pontuacao/202101040TOR.html',\n",
              " '/content/aqui/MyDrive/WebMining_Scraping_DE04/AULA2/pontuacao/202101040HOU.html',\n",
              " '/content/aqui/MyDrive/WebMining_Scraping_DE04/AULA2/pontuacao/202101040MIL.html',\n",
              " '/content/aqui/MyDrive/WebMining_Scraping_DE04/AULA2/pontuacao/202101040NOP.html',\n",
              " '/content/aqui/MyDrive/WebMining_Scraping_DE04/AULA2/pontuacao/202101040GSW.html',\n",
              " '/content/aqui/MyDrive/WebMining_Scraping_DE04/AULA2/pontuacao/202101050BRK.html',\n",
              " '/content/aqui/MyDrive/WebMining_Scraping_DE04/AULA2/pontuacao/202101050MEM.html',\n",
              " '/content/aqui/MyDrive/WebMining_Scraping_DE04/AULA2/pontuacao/202101050DEN.html',\n",
              " '/content/aqui/MyDrive/WebMining_Scraping_DE04/AULA2/pontuacao/202101050LAC.html',\n",
              " '/content/aqui/MyDrive/WebMining_Scraping_DE04/AULA2/pontuacao/202101050POR.html',\n",
              " '/content/aqui/MyDrive/WebMining_Scraping_DE04/AULA2/pontuacao/202101060IND.html',\n",
              " '/content/aqui/MyDrive/WebMining_Scraping_DE04/AULA2/pontuacao/202101060ORL.html',\n",
              " '/content/aqui/MyDrive/WebMining_Scraping_DE04/AULA2/pontuacao/202101060PHI.html',\n",
              " '/content/aqui/MyDrive/WebMining_Scraping_DE04/AULA2/pontuacao/202101060ATL.html',\n",
              " '/content/aqui/MyDrive/WebMining_Scraping_DE04/AULA2/pontuacao/202101060MIA.html',\n",
              " '/content/aqui/MyDrive/WebMining_Scraping_DE04/AULA2/pontuacao/202101060NYK.html',\n",
              " '/content/aqui/MyDrive/WebMining_Scraping_DE04/AULA2/pontuacao/202101060MIL.html',\n",
              " '/content/aqui/MyDrive/WebMining_Scraping_DE04/AULA2/pontuacao/202101060NOP.html',\n",
              " '/content/aqui/MyDrive/WebMining_Scraping_DE04/AULA2/pontuacao/202101060PHO.html',\n",
              " '/content/aqui/MyDrive/WebMining_Scraping_DE04/AULA2/pontuacao/202101060GSW.html',\n",
              " '/content/aqui/MyDrive/WebMining_Scraping_DE04/AULA2/pontuacao/202101060SAC.html',\n",
              " '/content/aqui/MyDrive/WebMining_Scraping_DE04/AULA2/pontuacao/202101070BRK.html',\n",
              " '/content/aqui/MyDrive/WebMining_Scraping_DE04/AULA2/pontuacao/202101070MEM.html',\n",
              " '/content/aqui/MyDrive/WebMining_Scraping_DE04/AULA2/pontuacao/202101070DEN.html',\n",
              " '/content/aqui/MyDrive/WebMining_Scraping_DE04/AULA2/pontuacao/202101070LAL.html',\n",
              " '/content/aqui/MyDrive/WebMining_Scraping_DE04/AULA2/pontuacao/202101070POR.html',\n",
              " '/content/aqui/MyDrive/WebMining_Scraping_DE04/AULA2/pontuacao/202101080DET.html',\n",
              " '/content/aqui/MyDrive/WebMining_Scraping_DE04/AULA2/pontuacao/202101080BOS.html',\n",
              " '/content/aqui/MyDrive/WebMining_Scraping_DE04/AULA2/pontuacao/202101080NOP.html',\n",
              " '/content/aqui/MyDrive/WebMining_Scraping_DE04/AULA2/pontuacao/202101080NYK.html',\n",
              " '/content/aqui/MyDrive/WebMining_Scraping_DE04/AULA2/pontuacao/202101080HOU.html',\n",
              " '/content/aqui/MyDrive/WebMining_Scraping_DE04/AULA2/pontuacao/202101080MEM.html',\n",
              " '/content/aqui/MyDrive/WebMining_Scraping_DE04/AULA2/pontuacao/202101080MIL.html',\n",
              " '/content/aqui/MyDrive/WebMining_Scraping_DE04/AULA2/pontuacao/202101080GSW.html',\n",
              " '/content/aqui/MyDrive/WebMining_Scraping_DE04/AULA2/pontuacao/202101080LAL.html',\n",
              " '/content/aqui/MyDrive/WebMining_Scraping_DE04/AULA2/pontuacao/202101080SAC.html',\n",
              " '/content/aqui/MyDrive/WebMining_Scraping_DE04/AULA2/pontuacao/202101090PHI.html',\n",
              " '/content/aqui/MyDrive/WebMining_Scraping_DE04/AULA2/pontuacao/202101090CHO.html',\n",
              " '/content/aqui/MyDrive/WebMining_Scraping_DE04/AULA2/pontuacao/202101090IND.html',\n",
              " '/content/aqui/MyDrive/WebMining_Scraping_DE04/AULA2/pontuacao/202101090WAS.html',\n",
              " '/content/aqui/MyDrive/WebMining_Scraping_DE04/AULA2/pontuacao/202101090MIL.html',\n",
              " '/content/aqui/MyDrive/WebMining_Scraping_DE04/AULA2/pontuacao/202101090MIN.html',\n",
              " '/content/aqui/MyDrive/WebMining_Scraping_DE04/AULA2/pontuacao/202101090DAL.html',\n",
              " '/content/aqui/MyDrive/WebMining_Scraping_DE04/AULA2/pontuacao/202101090SAC.html',\n",
              " '/content/aqui/MyDrive/WebMining_Scraping_DE04/AULA2/pontuacao/202101100DET.html',\n",
              " '/content/aqui/MyDrive/WebMining_Scraping_DE04/AULA2/pontuacao/202101100LAC.html',\n",
              " '/content/aqui/MyDrive/WebMining_Scraping_DE04/AULA2/pontuacao/202101100BRK.html',\n",
              " '/content/aqui/MyDrive/WebMining_Scraping_DE04/AULA2/pontuacao/202101100NYK.html',\n",
              " '/content/aqui/MyDrive/WebMining_Scraping_DE04/AULA2/pontuacao/202101100HOU.html',\n",
              " '/content/aqui/MyDrive/WebMining_Scraping_DE04/AULA2/pontuacao/202101100MIN.html',\n",
              " '/content/aqui/MyDrive/WebMining_Scraping_DE04/AULA2/pontuacao/202101100GSW.html',\n",
              " '/content/aqui/MyDrive/WebMining_Scraping_DE04/AULA2/pontuacao/202101110CHO.html',\n",
              " '/content/aqui/MyDrive/WebMining_Scraping_DE04/AULA2/pontuacao/202101110CLE.html',\n",
              " '/content/aqui/MyDrive/WebMining_Scraping_DE04/AULA2/pontuacao/202101110ORL.html',\n",
              " '/content/aqui/MyDrive/WebMining_Scraping_DE04/AULA2/pontuacao/202101110WAS.html',\n",
              " '/content/aqui/MyDrive/WebMining_Scraping_DE04/AULA2/pontuacao/202101110ATL.html',\n",
              " '/content/aqui/MyDrive/WebMining_Scraping_DE04/AULA2/pontuacao/202101110POR.html',\n",
              " '/content/aqui/MyDrive/WebMining_Scraping_DE04/AULA2/pontuacao/202101110SAC.html',\n",
              " '/content/aqui/MyDrive/WebMining_Scraping_DE04/AULA2/pontuacao/202101120PHI.html',\n",
              " '/content/aqui/MyDrive/WebMining_Scraping_DE04/AULA2/pontuacao/202101120BRK.html',\n",
              " '/content/aqui/MyDrive/WebMining_Scraping_DE04/AULA2/pontuacao/202101120CLE.html',\n",
              " '/content/aqui/MyDrive/WebMining_Scraping_DE04/AULA2/pontuacao/202101120HOU.html',\n",
              " '/content/aqui/MyDrive/WebMining_Scraping_DE04/AULA2/pontuacao/202101120OKC.html',\n",
              " '/content/aqui/MyDrive/WebMining_Scraping_DE04/AULA2/pontuacao/202101120GSW.html',\n",
              " '/content/aqui/MyDrive/WebMining_Scraping_DE04/AULA2/pontuacao/202101130CHO.html',\n",
              " '/content/aqui/MyDrive/WebMining_Scraping_DE04/AULA2/pontuacao/202101130DET.html',\n",
              " '/content/aqui/MyDrive/WebMining_Scraping_DE04/AULA2/pontuacao/202101130NYK.html',\n",
              " '/content/aqui/MyDrive/WebMining_Scraping_DE04/AULA2/pontuacao/202101130MIN.html',\n",
              " '/content/aqui/MyDrive/WebMining_Scraping_DE04/AULA2/pontuacao/202101130OKC.html',\n",
              " '/content/aqui/MyDrive/WebMining_Scraping_DE04/AULA2/pontuacao/202101130LAC.html',\n",
              " '/content/aqui/MyDrive/WebMining_Scraping_DE04/AULA2/pontuacao/202101130SAC.html',\n",
              " '/content/aqui/MyDrive/WebMining_Scraping_DE04/AULA2/pontuacao/202101140PHI.html',\n",
              " '/content/aqui/MyDrive/WebMining_Scraping_DE04/AULA2/pontuacao/202101140SAS.html',\n",
              " '/content/aqui/MyDrive/WebMining_Scraping_DE04/AULA2/pontuacao/202101140TOR.html',\n",
              " '/content/aqui/MyDrive/WebMining_Scraping_DE04/AULA2/pontuacao/202101140DEN.html',\n",
              " '/content/aqui/MyDrive/WebMining_Scraping_DE04/AULA2/pontuacao/202101140POR.html',\n",
              " '/content/aqui/MyDrive/WebMining_Scraping_DE04/AULA2/pontuacao/202101150BOS.html',\n",
              " '/content/aqui/MyDrive/WebMining_Scraping_DE04/AULA2/pontuacao/202101150CLE.html',\n",
              " '/content/aqui/MyDrive/WebMining_Scraping_DE04/AULA2/pontuacao/202101150MIL.html',\n",
              " '/content/aqui/MyDrive/WebMining_Scraping_DE04/AULA2/pontuacao/202101150OKC.html',\n",
              " '/content/aqui/MyDrive/WebMining_Scraping_DE04/AULA2/pontuacao/202101150UTA.html',\n",
              " '/content/aqui/MyDrive/WebMining_Scraping_DE04/AULA2/pontuacao/202101150LAL.html',\n",
              " '/content/aqui/MyDrive/WebMining_Scraping_DE04/AULA2/pontuacao/202101150SAC.html',\n",
              " '/content/aqui/MyDrive/WebMining_Scraping_DE04/AULA2/pontuacao/202101160SAS.html',\n",
              " '/content/aqui/MyDrive/WebMining_Scraping_DE04/AULA2/pontuacao/202101160BRK.html',\n",
              " '/content/aqui/MyDrive/WebMining_Scraping_DE04/AULA2/pontuacao/202101160TOR.html',\n",
              " '/content/aqui/MyDrive/WebMining_Scraping_DE04/AULA2/pontuacao/202101160MEM.html',\n",
              " '/content/aqui/MyDrive/WebMining_Scraping_DE04/AULA2/pontuacao/202101160MIA.html',\n",
              " '/content/aqui/MyDrive/WebMining_Scraping_DE04/AULA2/pontuacao/202101160POR.html',\n",
              " '/content/aqui/MyDrive/WebMining_Scraping_DE04/AULA2/pontuacao/202101170BOS.html',\n",
              " '/content/aqui/MyDrive/WebMining_Scraping_DE04/AULA2/pontuacao/202101170DAL.html',\n",
              " '/content/aqui/MyDrive/WebMining_Scraping_DE04/AULA2/pontuacao/202101170DEN.html',\n",
              " '/content/aqui/MyDrive/WebMining_Scraping_DE04/AULA2/pontuacao/202101170SAC.html',\n",
              " '/content/aqui/MyDrive/WebMining_Scraping_DE04/AULA2/pontuacao/202101170LAC.html',\n",
              " '/content/aqui/MyDrive/WebMining_Scraping_DE04/AULA2/pontuacao/202101180NYK.html',\n",
              " '/content/aqui/MyDrive/WebMining_Scraping_DE04/AULA2/pontuacao/202101180ATL.html',\n",
              " '/content/aqui/MyDrive/WebMining_Scraping_DE04/AULA2/pontuacao/202101180POR.html',\n",
              " '/content/aqui/MyDrive/WebMining_Scraping_DE04/AULA2/pontuacao/202101180MEM.html',\n",
              " '/content/aqui/MyDrive/WebMining_Scraping_DE04/AULA2/pontuacao/202101180BRK.html',\n",
              " '/content/aqui/MyDrive/WebMining_Scraping_DE04/AULA2/pontuacao/202101180TOR.html',\n",
              " '/content/aqui/MyDrive/WebMining_Scraping_DE04/AULA2/pontuacao/202101180CHI.html',\n",
              " '/content/aqui/MyDrive/WebMining_Scraping_DE04/AULA2/pontuacao/202101180MIA.html',\n",
              " '/content/aqui/MyDrive/WebMining_Scraping_DE04/AULA2/pontuacao/202101180LAL.html',\n",
              " '/content/aqui/MyDrive/WebMining_Scraping_DE04/AULA2/pontuacao/202101190DEN.html',\n",
              " '/content/aqui/MyDrive/WebMining_Scraping_DE04/AULA2/pontuacao/202101190UTA.html',\n",
              " '/content/aqui/MyDrive/WebMining_Scraping_DE04/AULA2/pontuacao/202101200CLE.html',\n",
              " '/content/aqui/MyDrive/WebMining_Scraping_DE04/AULA2/pontuacao/202101200IND.html',\n",
              " '/content/aqui/MyDrive/WebMining_Scraping_DE04/AULA2/pontuacao/202101200PHI.html',\n",
              " '/content/aqui/MyDrive/WebMining_Scraping_DE04/AULA2/pontuacao/202101200ATL.html',\n",
              " '/content/aqui/MyDrive/WebMining_Scraping_DE04/AULA2/pontuacao/202101200TOR.html',\n",
              " '/content/aqui/MyDrive/WebMining_Scraping_DE04/AULA2/pontuacao/202101200MIN.html',\n",
              " '/content/aqui/MyDrive/WebMining_Scraping_DE04/AULA2/pontuacao/202101200HOU.html',\n",
              " '/content/aqui/MyDrive/WebMining_Scraping_DE04/AULA2/pontuacao/202101200GSW.html',\n",
              " '/content/aqui/MyDrive/WebMining_Scraping_DE04/AULA2/pontuacao/202101200LAC.html',\n",
              " '/content/aqui/MyDrive/WebMining_Scraping_DE04/AULA2/pontuacao/202101210MIL.html',\n",
              " '/content/aqui/MyDrive/WebMining_Scraping_DE04/AULA2/pontuacao/202101210GSW.html',\n",
              " '/content/aqui/MyDrive/WebMining_Scraping_DE04/AULA2/pontuacao/202101210UTA.html',\n",
              " '/content/aqui/MyDrive/WebMining_Scraping_DE04/AULA2/pontuacao/202101220CHO.html',\n",
              " '/content/aqui/MyDrive/WebMining_Scraping_DE04/AULA2/pontuacao/202101220DET.html',\n",
              " '/content/aqui/MyDrive/WebMining_Scraping_DE04/AULA2/pontuacao/202101220IND.html',\n",
              " '/content/aqui/MyDrive/WebMining_Scraping_DE04/AULA2/pontuacao/202101220CLE.html',\n",
              " '/content/aqui/MyDrive/WebMining_Scraping_DE04/AULA2/pontuacao/202101220PHI.html',\n",
              " '/content/aqui/MyDrive/WebMining_Scraping_DE04/AULA2/pontuacao/202101220TOR.html',\n",
              " '/content/aqui/MyDrive/WebMining_Scraping_DE04/AULA2/pontuacao/202101220MIN.html',\n",
              " '/content/aqui/MyDrive/WebMining_Scraping_DE04/AULA2/pontuacao/202101220SAS.html',\n",
              " '/content/aqui/MyDrive/WebMining_Scraping_DE04/AULA2/pontuacao/202101220LAC.html',\n",
              " '/content/aqui/MyDrive/WebMining_Scraping_DE04/AULA2/pontuacao/202101220PHO.html',\n",
              " '/content/aqui/MyDrive/WebMining_Scraping_DE04/AULA2/pontuacao/202101220SAC.html',\n",
              " '/content/aqui/MyDrive/WebMining_Scraping_DE04/AULA2/pontuacao/202101230BRK.html',\n",
              " '/content/aqui/MyDrive/WebMining_Scraping_DE04/AULA2/pontuacao/202101230DET.html',\n",
              " '/content/aqui/MyDrive/WebMining_Scraping_DE04/AULA2/pontuacao/202101230MIN.html',\n",
              " '/content/aqui/MyDrive/WebMining_Scraping_DE04/AULA2/pontuacao/202101230CHI.html',\n",
              " '/content/aqui/MyDrive/WebMining_Scraping_DE04/AULA2/pontuacao/202101230DAL.html',\n",
              " '/content/aqui/MyDrive/WebMining_Scraping_DE04/AULA2/pontuacao/202101230PHO.html',\n",
              " '/content/aqui/MyDrive/WebMining_Scraping_DE04/AULA2/pontuacao/202101230UTA.html',\n",
              " '/content/aqui/MyDrive/WebMining_Scraping_DE04/AULA2/pontuacao/202101240IND.html',\n",
              " '/content/aqui/MyDrive/WebMining_Scraping_DE04/AULA2/pontuacao/202101240LAC.html',\n",
              " '/content/aqui/MyDrive/WebMining_Scraping_DE04/AULA2/pontuacao/202101240BOS.html',\n",
              " '/content/aqui/MyDrive/WebMining_Scraping_DE04/AULA2/pontuacao/202101240ORL.html',\n",
              " '/content/aqui/MyDrive/WebMining_Scraping_DE04/AULA2/pontuacao/202101240MIL.html',\n",
              " '/content/aqui/MyDrive/WebMining_Scraping_DE04/AULA2/pontuacao/202101240SAS.html',\n",
              " '/content/aqui/MyDrive/WebMining_Scraping_DE04/AULA2/pontuacao/202101240POR.html',\n",
              " '/content/aqui/MyDrive/WebMining_Scraping_DE04/AULA2/pontuacao/202101250DET.html',\n",
              " '/content/aqui/MyDrive/WebMining_Scraping_DE04/AULA2/pontuacao/202101250IND.html',\n",
              " '/content/aqui/MyDrive/WebMining_Scraping_DE04/AULA2/pontuacao/202101250ORL.html',\n",
              " '/content/aqui/MyDrive/WebMining_Scraping_DE04/AULA2/pontuacao/202101250BRK.html',\n",
              " '/content/aqui/MyDrive/WebMining_Scraping_DE04/AULA2/pontuacao/202101250CLE.html',\n",
              " '/content/aqui/MyDrive/WebMining_Scraping_DE04/AULA2/pontuacao/202101250DAL.html',\n",
              " '/content/aqui/MyDrive/WebMining_Scraping_DE04/AULA2/pontuacao/202101250CHI.html',\n",
              " '/content/aqui/MyDrive/WebMining_Scraping_DE04/AULA2/pontuacao/202101250GSW.html',\n",
              " '/content/aqui/MyDrive/WebMining_Scraping_DE04/AULA2/pontuacao/202101250POR.html',\n",
              " '/content/aqui/MyDrive/WebMining_Scraping_DE04/AULA2/pontuacao/202101260ATL.html',\n",
              " '/content/aqui/MyDrive/WebMining_Scraping_DE04/AULA2/pontuacao/202101260HOU.html',\n",
              " '/content/aqui/MyDrive/WebMining_Scraping_DE04/AULA2/pontuacao/202101260UTA.html',\n",
              " '/content/aqui/MyDrive/WebMining_Scraping_DE04/AULA2/pontuacao/202101270CHO.html',\n",
              " '/content/aqui/MyDrive/WebMining_Scraping_DE04/AULA2/pontuacao/202101270CLE.html',\n",
              " '/content/aqui/MyDrive/WebMining_Scraping_DE04/AULA2/pontuacao/202101270ORL.html',\n",
              " '/content/aqui/MyDrive/WebMining_Scraping_DE04/AULA2/pontuacao/202101270ATL.html',\n",
              " '/content/aqui/MyDrive/WebMining_Scraping_DE04/AULA2/pontuacao/202101270MIA.html',\n",
              " '/content/aqui/MyDrive/WebMining_Scraping_DE04/AULA2/pontuacao/202101270PHI.html',\n",
              " '/content/aqui/MyDrive/WebMining_Scraping_DE04/AULA2/pontuacao/202101270TOR.html',\n",
              " '/content/aqui/MyDrive/WebMining_Scraping_DE04/AULA2/pontuacao/202101270SAS.html',\n",
              " '/content/aqui/MyDrive/WebMining_Scraping_DE04/AULA2/pontuacao/202101270NOP.html',\n",
              " '/content/aqui/MyDrive/WebMining_Scraping_DE04/AULA2/pontuacao/202101270PHO.html',\n",
              " '/content/aqui/MyDrive/WebMining_Scraping_DE04/AULA2/pontuacao/202101270UTA.html',\n",
              " '/content/aqui/MyDrive/WebMining_Scraping_DE04/AULA2/pontuacao/202101270GSW.html',\n",
              " '/content/aqui/MyDrive/WebMining_Scraping_DE04/AULA2/pontuacao/202101280HOU.html',\n",
              " '/content/aqui/MyDrive/WebMining_Scraping_DE04/AULA2/pontuacao/202101280DET.html',\n",
              " '/content/aqui/MyDrive/WebMining_Scraping_DE04/AULA2/pontuacao/202101280MIA.html',\n",
              " '/content/aqui/MyDrive/WebMining_Scraping_DE04/AULA2/pontuacao/202101280PHO.html',\n",
              " '/content/aqui/MyDrive/WebMining_Scraping_DE04/AULA2/pontuacao/202101290CHO.html',\n",
              " '/content/aqui/MyDrive/WebMining_Scraping_DE04/AULA2/pontuacao/202101290WAS.html',\n",
              " '/content/aqui/MyDrive/WebMining_Scraping_DE04/AULA2/pontuacao/202101290NOP.html',\n",
              " '/content/aqui/MyDrive/WebMining_Scraping_DE04/AULA2/pontuacao/202101290NYK.html',\n",
              " '/content/aqui/MyDrive/WebMining_Scraping_DE04/AULA2/pontuacao/202101290TOR.html',\n",
              " '/content/aqui/MyDrive/WebMining_Scraping_DE04/AULA2/pontuacao/202101290MIN.html',\n",
              " '/content/aqui/MyDrive/WebMining_Scraping_DE04/AULA2/pontuacao/202101290OKC.html',\n",
              " '/content/aqui/MyDrive/WebMining_Scraping_DE04/AULA2/pontuacao/202101290ORL.html',\n",
              " '/content/aqui/MyDrive/WebMining_Scraping_DE04/AULA2/pontuacao/202101290SAS.html',\n",
              " '/content/aqui/MyDrive/WebMining_Scraping_DE04/AULA2/pontuacao/202101290UTA.html',\n",
              " '/content/aqui/MyDrive/WebMining_Scraping_DE04/AULA2/pontuacao/202101300CHI.html',\n",
              " '/content/aqui/MyDrive/WebMining_Scraping_DE04/AULA2/pontuacao/202101300CHO.html',\n",
              " '/content/aqui/MyDrive/WebMining_Scraping_DE04/AULA2/pontuacao/202101300MIA.html',\n",
              " '/content/aqui/MyDrive/WebMining_Scraping_DE04/AULA2/pontuacao/202101300NOP.html',\n",
              " '/content/aqui/MyDrive/WebMining_Scraping_DE04/AULA2/pontuacao/202101300BOS.html',\n",
              " '/content/aqui/MyDrive/WebMining_Scraping_DE04/AULA2/pontuacao/202101300SAS.html',\n",
              " '/content/aqui/MyDrive/WebMining_Scraping_DE04/AULA2/pontuacao/202101300DAL.html',\n",
              " '/content/aqui/MyDrive/WebMining_Scraping_DE04/AULA2/pontuacao/202101300GSW.html',\n",
              " '/content/aqui/MyDrive/WebMining_Scraping_DE04/AULA2/pontuacao/202101310NYK.html',\n",
              " '/content/aqui/MyDrive/WebMining_Scraping_DE04/AULA2/pontuacao/202101310DEN.html',\n",
              " '/content/aqui/MyDrive/WebMining_Scraping_DE04/AULA2/pontuacao/202101310IND.html',\n",
              " '/content/aqui/MyDrive/WebMining_Scraping_DE04/AULA2/pontuacao/202101310TOR.html',\n",
              " '/content/aqui/MyDrive/WebMining_Scraping_DE04/AULA2/pontuacao/202101310WAS.html',\n",
              " '/content/aqui/MyDrive/WebMining_Scraping_DE04/AULA2/pontuacao/202101310MIN.html',\n",
              " '/content/aqui/MyDrive/WebMining_Scraping_DE04/AULA2/pontuacao/202102010ATL.html',\n",
              " '/content/aqui/MyDrive/WebMining_Scraping_DE04/AULA2/pontuacao/202102010MIA.html',\n",
              " '/content/aqui/MyDrive/WebMining_Scraping_DE04/AULA2/pontuacao/202102010CHI.html',\n",
              " '/content/aqui/MyDrive/WebMining_Scraping_DE04/AULA2/pontuacao/202102010CLE.html',\n",
              " '/content/aqui/MyDrive/WebMining_Scraping_DE04/AULA2/pontuacao/202102010MIL.html',\n",
              " '/content/aqui/MyDrive/WebMining_Scraping_DE04/AULA2/pontuacao/202102010NOP.html',\n",
              " '/content/aqui/MyDrive/WebMining_Scraping_DE04/AULA2/pontuacao/202102010OKC.html',\n",
              " '/content/aqui/MyDrive/WebMining_Scraping_DE04/AULA2/pontuacao/202102010DAL.html',\n",
              " '/content/aqui/MyDrive/WebMining_Scraping_DE04/AULA2/pontuacao/202102010SAS.html',\n",
              " '/content/aqui/MyDrive/WebMining_Scraping_DE04/AULA2/pontuacao/202102020ORL.html',\n",
              " '/content/aqui/MyDrive/WebMining_Scraping_DE04/AULA2/pontuacao/202102020BRK.html',\n",
              " '/content/aqui/MyDrive/WebMining_Scraping_DE04/AULA2/pontuacao/202102020IND.html',\n",
              " '/content/aqui/MyDrive/WebMining_Scraping_DE04/AULA2/pontuacao/202102020WAS.html',\n",
              " '/content/aqui/MyDrive/WebMining_Scraping_DE04/AULA2/pontuacao/202102020GSW.html',\n",
              " '/content/aqui/MyDrive/WebMining_Scraping_DE04/AULA2/pontuacao/202102020UTA.html',\n",
              " '/content/aqui/MyDrive/WebMining_Scraping_DE04/AULA2/pontuacao/202102030CHO.html',\n",
              " '/content/aqui/MyDrive/WebMining_Scraping_DE04/AULA2/pontuacao/202102030MIL.html',\n",
              " '/content/aqui/MyDrive/WebMining_Scraping_DE04/AULA2/pontuacao/202102030ATL.html',\n",
              " '/content/aqui/MyDrive/WebMining_Scraping_DE04/AULA2/pontuacao/202102030CHI.html',\n",
              " '/content/aqui/MyDrive/WebMining_Scraping_DE04/AULA2/pontuacao/202102030CLE.html',\n",
              " '/content/aqui/MyDrive/WebMining_Scraping_DE04/AULA2/pontuacao/202102030MIA.html',\n",
              " '/content/aqui/MyDrive/WebMining_Scraping_DE04/AULA2/pontuacao/202102030OKC.html',\n",
              " '/content/aqui/MyDrive/WebMining_Scraping_DE04/AULA2/pontuacao/202102030SAS.html',\n",
              " '/content/aqui/MyDrive/WebMining_Scraping_DE04/AULA2/pontuacao/202102030NOP.html',\n",
              " '/content/aqui/MyDrive/WebMining_Scraping_DE04/AULA2/pontuacao/202102030SAC.html',\n",
              " '/content/aqui/MyDrive/WebMining_Scraping_DE04/AULA2/pontuacao/202102040ATL.html',\n",
              " '/content/aqui/MyDrive/WebMining_Scraping_DE04/AULA2/pontuacao/202102040DAL.html',\n",
              " '/content/aqui/MyDrive/WebMining_Scraping_DE04/AULA2/pontuacao/202102040PHI.html',\n",
              " '/content/aqui/MyDrive/WebMining_Scraping_DE04/AULA2/pontuacao/202102040MEM.html',\n",
              " '/content/aqui/MyDrive/WebMining_Scraping_DE04/AULA2/pontuacao/202102040LAL.html',\n",
              " '/content/aqui/MyDrive/WebMining_Scraping_DE04/AULA2/pontuacao/202102050IND.html',\n",
              " '/content/aqui/MyDrive/WebMining_Scraping_DE04/AULA2/pontuacao/202102050ORL.html',\n",
              " '/content/aqui/MyDrive/WebMining_Scraping_DE04/AULA2/pontuacao/202102050BRK.html',\n",
              " '/content/aqui/MyDrive/WebMining_Scraping_DE04/AULA2/pontuacao/202102050CLE.html',\n",
              " '/content/aqui/MyDrive/WebMining_Scraping_DE04/AULA2/pontuacao/202102050CHO.html',\n",
              " '/content/aqui/MyDrive/WebMining_Scraping_DE04/AULA2/pontuacao/202102050MIA.html',\n",
              " '/content/aqui/MyDrive/WebMining_Scraping_DE04/AULA2/pontuacao/202102050OKC.html',\n",
              " '/content/aqui/MyDrive/WebMining_Scraping_DE04/AULA2/pontuacao/202102050PHO.html',\n",
              " '/content/aqui/MyDrive/WebMining_Scraping_DE04/AULA2/pontuacao/202102050LAC.html',\n",
              " '/content/aqui/MyDrive/WebMining_Scraping_DE04/AULA2/pontuacao/202102060NYK.html',\n",
              " '/content/aqui/MyDrive/WebMining_Scraping_DE04/AULA2/pontuacao/202102060SAC.html',\n",
              " '/content/aqui/MyDrive/WebMining_Scraping_DE04/AULA2/pontuacao/202102060ORL.html',\n",
              " '/content/aqui/MyDrive/WebMining_Scraping_DE04/AULA2/pontuacao/202102060ATL.html',\n",
              " '/content/aqui/MyDrive/WebMining_Scraping_DE04/AULA2/pontuacao/202102060CLE.html',\n",
              " '/content/aqui/MyDrive/WebMining_Scraping_DE04/AULA2/pontuacao/202102060HOU.html',\n",
              " '/content/aqui/MyDrive/WebMining_Scraping_DE04/AULA2/pontuacao/202102060OKC.html',\n",
              " '/content/aqui/MyDrive/WebMining_Scraping_DE04/AULA2/pontuacao/202102060PHI.html',\n",
              " '/content/aqui/MyDrive/WebMining_Scraping_DE04/AULA2/pontuacao/202102060DAL.html',\n",
              " '/content/aqui/MyDrive/WebMining_Scraping_DE04/AULA2/pontuacao/202102060NOP.html',\n",
              " '/content/aqui/MyDrive/WebMining_Scraping_DE04/AULA2/pontuacao/202102060LAL.html',\n",
              " '/content/aqui/MyDrive/WebMining_Scraping_DE04/AULA2/pontuacao/202102070CHO.html',\n",
              " '/content/aqui/MyDrive/WebMining_Scraping_DE04/AULA2/pontuacao/202102070IND.html',\n",
              " '/content/aqui/MyDrive/WebMining_Scraping_DE04/AULA2/pontuacao/202102070NYK.html',\n",
              " '/content/aqui/MyDrive/WebMining_Scraping_DE04/AULA2/pontuacao/202102070PHO.html',\n",
              " '/content/aqui/MyDrive/WebMining_Scraping_DE04/AULA2/pontuacao/202102070LAC.html',\n",
              " '/content/aqui/MyDrive/WebMining_Scraping_DE04/AULA2/pontuacao/202102080CHO.html',\n",
              " '/content/aqui/MyDrive/WebMining_Scraping_DE04/AULA2/pontuacao/202102080CHI.html',\n",
              " '/content/aqui/MyDrive/WebMining_Scraping_DE04/AULA2/pontuacao/202102080MEM.html',\n",
              " '/content/aqui/MyDrive/WebMining_Scraping_DE04/AULA2/pontuacao/202102080DAL.html',\n",
              " '/content/aqui/MyDrive/WebMining_Scraping_DE04/AULA2/pontuacao/202102080SAS.html',\n",
              " '/content/aqui/MyDrive/WebMining_Scraping_DE04/AULA2/pontuacao/202102080PHO.html',\n",
              " '/content/aqui/MyDrive/WebMining_Scraping_DE04/AULA2/pontuacao/202102080DEN.html',\n",
              " '/content/aqui/MyDrive/WebMining_Scraping_DE04/AULA2/pontuacao/202102080LAL.html',\n",
              " '/content/aqui/MyDrive/WebMining_Scraping_DE04/AULA2/pontuacao/202102090DET.html',\n",
              " '/content/aqui/MyDrive/WebMining_Scraping_DE04/AULA2/pontuacao/202102090MIA.html',\n",
              " '/content/aqui/MyDrive/WebMining_Scraping_DE04/AULA2/pontuacao/202102090NOP.html',\n",
              " '/content/aqui/MyDrive/WebMining_Scraping_DE04/AULA2/pontuacao/202102090SAS.html',\n",
              " '/content/aqui/MyDrive/WebMining_Scraping_DE04/AULA2/pontuacao/202102090POR.html',\n",
              " '/content/aqui/MyDrive/WebMining_Scraping_DE04/AULA2/pontuacao/202102090SAC.html',\n",
              " '/content/aqui/MyDrive/WebMining_Scraping_DE04/AULA2/pontuacao/202102090UTA.html',\n",
              " '/content/aqui/MyDrive/WebMining_Scraping_DE04/AULA2/pontuacao/202102100WAS.html',\n",
              " '/content/aqui/MyDrive/WebMining_Scraping_DE04/AULA2/pontuacao/202102100DAL.html',\n",
              " '/content/aqui/MyDrive/WebMining_Scraping_DE04/AULA2/pontuacao/202102100BRK.html',\n",
              " '/content/aqui/MyDrive/WebMining_Scraping_DE04/AULA2/pontuacao/202102100MEM.html',\n",
              " '/content/aqui/MyDrive/WebMining_Scraping_DE04/AULA2/pontuacao/202102100MIN.html',\n",
              " '/content/aqui/MyDrive/WebMining_Scraping_DE04/AULA2/pontuacao/202102100CHI.html',\n",
              " '/content/aqui/MyDrive/WebMining_Scraping_DE04/AULA2/pontuacao/202102100DEN.html',\n",
              " '/content/aqui/MyDrive/WebMining_Scraping_DE04/AULA2/pontuacao/202102100LAL.html',\n",
              " '/content/aqui/MyDrive/WebMining_Scraping_DE04/AULA2/pontuacao/202102100PHO.html',\n",
              " '/content/aqui/MyDrive/WebMining_Scraping_DE04/AULA2/pontuacao/202102110BOS.html',\n",
              " '/content/aqui/MyDrive/WebMining_Scraping_DE04/AULA2/pontuacao/202102110HOU.html',\n",
              " '/content/aqui/MyDrive/WebMining_Scraping_DE04/AULA2/pontuacao/202102110DET.html',\n",
              " '/content/aqui/MyDrive/WebMining_Scraping_DE04/AULA2/pontuacao/202102110GSW.html',\n",
              " ...]"
            ]
          },
          "metadata": {},
          "execution_count": 33
        }
      ]
    },
    {
      "cell_type": "code",
      "source": [
        "def parse_html(box):\n",
        "  with open(box) as b:\n",
        "    html = b.read()\n",
        "\n",
        "  soup = BeautifulSoup(html)\n",
        "  [s.decompose() for s in soup.select('tr.over_header')]\n",
        "  [s.decompose() for s in soup.select('tr.thead')]\n",
        "\n",
        "  return soup"
      ],
      "metadata": {
        "id": "KFEzHbtP6Cml"
      },
      "execution_count": null,
      "outputs": []
    },
    {
      "cell_type": "code",
      "source": [
        "def read_linha_pontuacao(soup):\n",
        "  df_pont = pd.read_html(str(soup), attrs={'id':'line_score'})[0]\n",
        "  cols = list(df_pont.columns)\n",
        "  cols[0] = 'time'\n",
        "  cols[-1] = 'total'\n",
        "  df_pont.columns = cols\n",
        "  df_pont = df_pont[['time','total']]\n",
        "  return df_pont"
      ],
      "metadata": {
        "id": "hRa9hmPJF-eS"
      },
      "execution_count": null,
      "outputs": []
    },
    {
      "cell_type": "code",
      "source": [
        "def read_estatisticas(soup, team, estat):\n",
        "  df_estat = pd.read_html(str(soup), attrs={'id': f'box-{team}-game-{estat}'}, index_col=0)[0]\n",
        "  df_estat = df_estat.apply(pd.to_numeric, errors='coerce')\n",
        "\n",
        "  return df_estat"
      ],
      "metadata": {
        "id": "Zd-NyK8sMNWN"
      },
      "execution_count": null,
      "outputs": []
    },
    {
      "cell_type": "code",
      "source": [
        "def read_season_info(soup):\n",
        "  nav = soup.find('h1').text\n",
        "  season = nav.split(',')[-1].replace(' ','')\n",
        "  return season"
      ],
      "metadata": {
        "id": "vZ7MXHFfzEQo"
      },
      "execution_count": null,
      "outputs": []
    },
    {
      "cell_type": "code",
      "source": [
        "base_cols = None\n",
        "partidas = []\n",
        "\n",
        "# boxscore = boxscores[0]\n",
        "\n",
        "for boxscore in boxscores:\n",
        "  soup_resp = parse_html(boxscore)\n",
        "  linha_pontos = read_linha_pontuacao(soup_resp)\n",
        "  times = list(linha_pontos['time'])\n",
        "\n",
        "  sumarios = []\n",
        "  for time in times:\n",
        "    basic = read_estatisticas(soup_resp, time, 'basic')\n",
        "    advanced = read_estatisticas(soup_resp, time, 'advanced')\n",
        "\n",
        "    totais = pd.concat([basic.iloc[-1,:], advanced.iloc[-1,:]])\n",
        "    totais.index = totais.index.str.lower() + '_tot'\n",
        "\n",
        "    maximos = pd.concat([basic.iloc[:-1,:].max(), advanced.iloc[:-1,:].max()])\n",
        "    maximos.index = maximos.index.str.lower() + '_max'\n",
        "\n",
        "    sumario = pd.concat([totais, maximos])\n",
        "\n",
        "    if base_cols is None:\n",
        "      base_cols = list(sumario.index.drop_duplicates(keep='first'))\n",
        "      base_cols = [b for b in base_cols if 'bpm' not in b]\n",
        "\n",
        "    sumario = sumario[base_cols]\n",
        "\n",
        "    sumarios.append(sumario)\n",
        "\n",
        "  sumario = pd.concat(sumarios, axis=1).T\n",
        "\n",
        "  partida = pd.concat([sumario, linha_pontos], axis=1)\n",
        "\n",
        "  partida['home'] = [0, 1]\n",
        "  partida_opp = partida.iloc[::-1].reset_index(drop=True)\n",
        "  partida_opp.columns += '_opp'\n",
        "\n",
        "  partida_completa = pd.concat([partida, partida_opp], axis=1)\n",
        "\n",
        "  partida_completa['season'] = read_season_info(soup_resp)\n",
        "\n",
        "  partida_completa['data'] = os.path.basename(boxscore)[:8]\n",
        "  partida_completa['data'] = pd.to_datetime(partida_completa['data'], format='%Y%m%d')\n",
        "\n",
        "  partida_completa['ganhador'] = partida_completa['total'] > partida_completa['total_opp']\n",
        "\n",
        "  partidas.append(partida_completa)\n",
        "\n",
        "  if len(partidas) % 10 == 0:\n",
        "    print(f'{len(partidas)} / {len(boxscores)}')"
      ],
      "metadata": {
        "id": "fuRFdZfo7xHV",
        "colab": {
          "base_uri": "https://localhost:8080/",
          "height": 668
        },
        "outputId": "733f4b01-a1c0-49df-ecd5-762cc2a33ce2"
      },
      "execution_count": null,
      "outputs": [
        {
          "output_type": "stream",
          "name": "stderr",
          "text": [
            "ERROR:asyncio:Future exception was never retrieved\n",
            "future: <Future finished exception=TargetClosedError('Target page, context or browser has been closed')>\n",
            "playwright._impl._errors.TargetClosedError: Target page, context or browser has been closed\n"
          ]
        },
        {
          "output_type": "stream",
          "name": "stdout",
          "text": [
            "10 / 4828\n",
            "20 / 4828\n",
            "30 / 4828\n",
            "40 / 4828\n",
            "50 / 4828\n",
            "60 / 4828\n",
            "70 / 4828\n",
            "80 / 4828\n",
            "90 / 4828\n",
            "100 / 4828\n",
            "110 / 4828\n",
            "120 / 4828\n",
            "130 / 4828\n",
            "140 / 4828\n",
            "150 / 4828\n"
          ]
        },
        {
          "output_type": "error",
          "ename": "KeyboardInterrupt",
          "evalue": "",
          "traceback": [
            "\u001b[0;31m---------------------------------------------------------------------------\u001b[0m",
            "\u001b[0;31mKeyboardInterrupt\u001b[0m                         Traceback (most recent call last)",
            "\u001b[0;32m<ipython-input-40-17b0f1411e9e>\u001b[0m in \u001b[0;36m<cell line: 6>\u001b[0;34m()\u001b[0m\n\u001b[1;32m      6\u001b[0m \u001b[0;32mfor\u001b[0m \u001b[0mboxscore\u001b[0m \u001b[0;32min\u001b[0m \u001b[0mboxscores\u001b[0m\u001b[0;34m:\u001b[0m\u001b[0;34m\u001b[0m\u001b[0;34m\u001b[0m\u001b[0m\n\u001b[1;32m      7\u001b[0m   \u001b[0msoup_resp\u001b[0m \u001b[0;34m=\u001b[0m \u001b[0mparse_html\u001b[0m\u001b[0;34m(\u001b[0m\u001b[0mboxscore\u001b[0m\u001b[0;34m)\u001b[0m\u001b[0;34m\u001b[0m\u001b[0;34m\u001b[0m\u001b[0m\n\u001b[0;32m----> 8\u001b[0;31m   \u001b[0mlinha_pontos\u001b[0m \u001b[0;34m=\u001b[0m \u001b[0mread_linha_pontuacao\u001b[0m\u001b[0;34m(\u001b[0m\u001b[0msoup_resp\u001b[0m\u001b[0;34m)\u001b[0m\u001b[0;34m\u001b[0m\u001b[0;34m\u001b[0m\u001b[0m\n\u001b[0m\u001b[1;32m      9\u001b[0m   \u001b[0mtimes\u001b[0m \u001b[0;34m=\u001b[0m \u001b[0mlist\u001b[0m\u001b[0;34m(\u001b[0m\u001b[0mlinha_pontos\u001b[0m\u001b[0;34m[\u001b[0m\u001b[0;34m'time'\u001b[0m\u001b[0;34m]\u001b[0m\u001b[0;34m)\u001b[0m\u001b[0;34m\u001b[0m\u001b[0;34m\u001b[0m\u001b[0m\n\u001b[1;32m     10\u001b[0m \u001b[0;34m\u001b[0m\u001b[0m\n",
            "\u001b[0;32m<ipython-input-37-8c04b06a7674>\u001b[0m in \u001b[0;36mread_linha_pontuacao\u001b[0;34m(soup)\u001b[0m\n\u001b[1;32m      1\u001b[0m \u001b[0;32mdef\u001b[0m \u001b[0mread_linha_pontuacao\u001b[0m\u001b[0;34m(\u001b[0m\u001b[0msoup\u001b[0m\u001b[0;34m)\u001b[0m\u001b[0;34m:\u001b[0m\u001b[0;34m\u001b[0m\u001b[0;34m\u001b[0m\u001b[0m\n\u001b[0;32m----> 2\u001b[0;31m   \u001b[0mdf_pont\u001b[0m \u001b[0;34m=\u001b[0m \u001b[0mpd\u001b[0m\u001b[0;34m.\u001b[0m\u001b[0mread_html\u001b[0m\u001b[0;34m(\u001b[0m\u001b[0mstr\u001b[0m\u001b[0;34m(\u001b[0m\u001b[0msoup\u001b[0m\u001b[0;34m)\u001b[0m\u001b[0;34m,\u001b[0m \u001b[0mattrs\u001b[0m\u001b[0;34m=\u001b[0m\u001b[0;34m{\u001b[0m\u001b[0;34m'id'\u001b[0m\u001b[0;34m:\u001b[0m\u001b[0;34m'line_score'\u001b[0m\u001b[0;34m}\u001b[0m\u001b[0;34m)\u001b[0m\u001b[0;34m[\u001b[0m\u001b[0;36m0\u001b[0m\u001b[0;34m]\u001b[0m\u001b[0;34m\u001b[0m\u001b[0;34m\u001b[0m\u001b[0m\n\u001b[0m\u001b[1;32m      3\u001b[0m   \u001b[0mcols\u001b[0m \u001b[0;34m=\u001b[0m \u001b[0mlist\u001b[0m\u001b[0;34m(\u001b[0m\u001b[0mdf_pont\u001b[0m\u001b[0;34m.\u001b[0m\u001b[0mcolumns\u001b[0m\u001b[0;34m)\u001b[0m\u001b[0;34m\u001b[0m\u001b[0;34m\u001b[0m\u001b[0m\n\u001b[1;32m      4\u001b[0m   \u001b[0mcols\u001b[0m\u001b[0;34m[\u001b[0m\u001b[0;36m0\u001b[0m\u001b[0;34m]\u001b[0m \u001b[0;34m=\u001b[0m \u001b[0;34m'time'\u001b[0m\u001b[0;34m\u001b[0m\u001b[0;34m\u001b[0m\u001b[0m\n\u001b[1;32m      5\u001b[0m   \u001b[0mcols\u001b[0m\u001b[0;34m[\u001b[0m\u001b[0;34m-\u001b[0m\u001b[0;36m1\u001b[0m\u001b[0;34m]\u001b[0m \u001b[0;34m=\u001b[0m \u001b[0;34m'total'\u001b[0m\u001b[0;34m\u001b[0m\u001b[0;34m\u001b[0m\u001b[0m\n",
            "\u001b[0;32m/usr/local/lib/python3.10/dist-packages/bs4/element.py\u001b[0m in \u001b[0;36m__unicode__\u001b[0;34m(self)\u001b[0m\n\u001b[1;32m   1657\u001b[0m     \u001b[0;32mdef\u001b[0m \u001b[0m__unicode__\u001b[0m\u001b[0;34m(\u001b[0m\u001b[0mself\u001b[0m\u001b[0;34m)\u001b[0m\u001b[0;34m:\u001b[0m\u001b[0;34m\u001b[0m\u001b[0;34m\u001b[0m\u001b[0m\n\u001b[1;32m   1658\u001b[0m         \u001b[0;34m\"\"\"Renders this PageElement as a Unicode string.\"\"\"\u001b[0m\u001b[0;34m\u001b[0m\u001b[0;34m\u001b[0m\u001b[0m\n\u001b[0;32m-> 1659\u001b[0;31m         \u001b[0;32mreturn\u001b[0m \u001b[0mself\u001b[0m\u001b[0;34m.\u001b[0m\u001b[0mdecode\u001b[0m\u001b[0;34m(\u001b[0m\u001b[0;34m)\u001b[0m\u001b[0;34m\u001b[0m\u001b[0;34m\u001b[0m\u001b[0m\n\u001b[0m\u001b[1;32m   1660\u001b[0m \u001b[0;34m\u001b[0m\u001b[0m\n\u001b[1;32m   1661\u001b[0m     \u001b[0m__str__\u001b[0m \u001b[0;34m=\u001b[0m \u001b[0m__repr__\u001b[0m \u001b[0;34m=\u001b[0m \u001b[0m__unicode__\u001b[0m\u001b[0;34m\u001b[0m\u001b[0;34m\u001b[0m\u001b[0m\n",
            "\u001b[0;32m/usr/local/lib/python3.10/dist-packages/bs4/__init__.py\u001b[0m in \u001b[0;36mdecode\u001b[0;34m(self, pretty_print, eventual_encoding, formatter, iterator)\u001b[0m\n\u001b[1;32m    803\u001b[0m         \u001b[0;32melse\u001b[0m\u001b[0;34m:\u001b[0m\u001b[0;34m\u001b[0m\u001b[0;34m\u001b[0m\u001b[0m\n\u001b[1;32m    804\u001b[0m             \u001b[0mindent_level\u001b[0m \u001b[0;34m=\u001b[0m \u001b[0;36m0\u001b[0m\u001b[0;34m\u001b[0m\u001b[0;34m\u001b[0m\u001b[0m\n\u001b[0;32m--> 805\u001b[0;31m         return prefix + super(BeautifulSoup, self).decode(\n\u001b[0m\u001b[1;32m    806\u001b[0m             indent_level, eventual_encoding, formatter, iterator)\n\u001b[1;32m    807\u001b[0m \u001b[0;34m\u001b[0m\u001b[0m\n",
            "\u001b[0;32m/usr/local/lib/python3.10/dist-packages/bs4/element.py\u001b[0m in \u001b[0;36mdecode\u001b[0;34m(self, indent_level, eventual_encoding, formatter, iterator)\u001b[0m\n\u001b[1;32m   1711\u001b[0m         \u001b[0;32mfor\u001b[0m \u001b[0mevent\u001b[0m\u001b[0;34m,\u001b[0m \u001b[0melement\u001b[0m \u001b[0;32min\u001b[0m \u001b[0mself\u001b[0m\u001b[0;34m.\u001b[0m\u001b[0m_event_stream\u001b[0m\u001b[0;34m(\u001b[0m\u001b[0miterator\u001b[0m\u001b[0;34m)\u001b[0m\u001b[0;34m:\u001b[0m\u001b[0;34m\u001b[0m\u001b[0;34m\u001b[0m\u001b[0m\n\u001b[1;32m   1712\u001b[0m             \u001b[0;32mif\u001b[0m \u001b[0mevent\u001b[0m \u001b[0;32min\u001b[0m \u001b[0;34m(\u001b[0m\u001b[0mTag\u001b[0m\u001b[0;34m.\u001b[0m\u001b[0mSTART_ELEMENT_EVENT\u001b[0m\u001b[0;34m,\u001b[0m \u001b[0mTag\u001b[0m\u001b[0;34m.\u001b[0m\u001b[0mEMPTY_ELEMENT_EVENT\u001b[0m\u001b[0;34m)\u001b[0m\u001b[0;34m:\u001b[0m\u001b[0;34m\u001b[0m\u001b[0;34m\u001b[0m\u001b[0m\n\u001b[0;32m-> 1713\u001b[0;31m                 piece = element._format_tag(\n\u001b[0m\u001b[1;32m   1714\u001b[0m                     \u001b[0meventual_encoding\u001b[0m\u001b[0;34m,\u001b[0m \u001b[0mformatter\u001b[0m\u001b[0;34m,\u001b[0m \u001b[0mopening\u001b[0m\u001b[0;34m=\u001b[0m\u001b[0;32mTrue\u001b[0m\u001b[0;34m\u001b[0m\u001b[0;34m\u001b[0m\u001b[0m\n\u001b[1;32m   1715\u001b[0m                 )\n",
            "\u001b[0;32m/usr/local/lib/python3.10/dist-packages/bs4/element.py\u001b[0m in \u001b[0;36m_format_tag\u001b[0;34m(self, eventual_encoding, formatter, opening)\u001b[0m\n\u001b[1;32m   1866\u001b[0m         \u001b[0mattribute_string\u001b[0m \u001b[0;34m=\u001b[0m \u001b[0;34m''\u001b[0m\u001b[0;34m\u001b[0m\u001b[0;34m\u001b[0m\u001b[0m\n\u001b[1;32m   1867\u001b[0m         \u001b[0;32mif\u001b[0m \u001b[0mopening\u001b[0m\u001b[0;34m:\u001b[0m\u001b[0;34m\u001b[0m\u001b[0;34m\u001b[0m\u001b[0m\n\u001b[0;32m-> 1868\u001b[0;31m             \u001b[0mattributes\u001b[0m \u001b[0;34m=\u001b[0m \u001b[0mformatter\u001b[0m\u001b[0;34m.\u001b[0m\u001b[0mattributes\u001b[0m\u001b[0;34m(\u001b[0m\u001b[0mself\u001b[0m\u001b[0;34m)\u001b[0m\u001b[0;34m\u001b[0m\u001b[0;34m\u001b[0m\u001b[0m\n\u001b[0m\u001b[1;32m   1869\u001b[0m             \u001b[0mattrs\u001b[0m \u001b[0;34m=\u001b[0m \u001b[0;34m[\u001b[0m\u001b[0;34m]\u001b[0m\u001b[0;34m\u001b[0m\u001b[0;34m\u001b[0m\u001b[0m\n\u001b[1;32m   1870\u001b[0m             \u001b[0;32mfor\u001b[0m \u001b[0mkey\u001b[0m\u001b[0;34m,\u001b[0m \u001b[0mval\u001b[0m \u001b[0;32min\u001b[0m \u001b[0mattributes\u001b[0m\u001b[0;34m:\u001b[0m\u001b[0;34m\u001b[0m\u001b[0;34m\u001b[0m\u001b[0m\n",
            "\u001b[0;32m/usr/local/lib/python3.10/dist-packages/bs4/formatter.py\u001b[0m in \u001b[0;36mattributes\u001b[0;34m(self, tag)\u001b[0m\n\u001b[1;32m    141\u001b[0m         \u001b[0;32mif\u001b[0m \u001b[0mtag\u001b[0m\u001b[0;34m.\u001b[0m\u001b[0mattrs\u001b[0m \u001b[0;32mis\u001b[0m \u001b[0;32mNone\u001b[0m\u001b[0;34m:\u001b[0m\u001b[0;34m\u001b[0m\u001b[0;34m\u001b[0m\u001b[0m\n\u001b[1;32m    142\u001b[0m             \u001b[0;32mreturn\u001b[0m \u001b[0;34m[\u001b[0m\u001b[0;34m]\u001b[0m\u001b[0;34m\u001b[0m\u001b[0;34m\u001b[0m\u001b[0m\n\u001b[0;32m--> 143\u001b[0;31m         return sorted(\n\u001b[0m\u001b[1;32m    144\u001b[0m             \u001b[0;34m(\u001b[0m\u001b[0mk\u001b[0m\u001b[0;34m,\u001b[0m \u001b[0;34m(\u001b[0m\u001b[0;32mNone\u001b[0m \u001b[0;32mif\u001b[0m \u001b[0mself\u001b[0m\u001b[0;34m.\u001b[0m\u001b[0mempty_attributes_are_booleans\u001b[0m \u001b[0;32mand\u001b[0m \u001b[0mv\u001b[0m \u001b[0;34m==\u001b[0m \u001b[0;34m''\u001b[0m \u001b[0;32melse\u001b[0m \u001b[0mv\u001b[0m\u001b[0;34m)\u001b[0m\u001b[0;34m)\u001b[0m\u001b[0;34m\u001b[0m\u001b[0;34m\u001b[0m\u001b[0m\n\u001b[1;32m    145\u001b[0m             \u001b[0;32mfor\u001b[0m \u001b[0mk\u001b[0m\u001b[0;34m,\u001b[0m \u001b[0mv\u001b[0m \u001b[0;32min\u001b[0m \u001b[0mlist\u001b[0m\u001b[0;34m(\u001b[0m\u001b[0mtag\u001b[0m\u001b[0;34m.\u001b[0m\u001b[0mattrs\u001b[0m\u001b[0;34m.\u001b[0m\u001b[0mitems\u001b[0m\u001b[0;34m(\u001b[0m\u001b[0;34m)\u001b[0m\u001b[0;34m)\u001b[0m\u001b[0;34m\u001b[0m\u001b[0;34m\u001b[0m\u001b[0m\n",
            "\u001b[0;32m/usr/local/lib/python3.10/dist-packages/bs4/formatter.py\u001b[0m in \u001b[0;36m<genexpr>\u001b[0;34m(.0)\u001b[0m\n\u001b[1;32m    142\u001b[0m             \u001b[0;32mreturn\u001b[0m \u001b[0;34m[\u001b[0m\u001b[0;34m]\u001b[0m\u001b[0;34m\u001b[0m\u001b[0;34m\u001b[0m\u001b[0m\n\u001b[1;32m    143\u001b[0m         return sorted(\n\u001b[0;32m--> 144\u001b[0;31m             \u001b[0;34m(\u001b[0m\u001b[0mk\u001b[0m\u001b[0;34m,\u001b[0m \u001b[0;34m(\u001b[0m\u001b[0;32mNone\u001b[0m \u001b[0;32mif\u001b[0m \u001b[0mself\u001b[0m\u001b[0;34m.\u001b[0m\u001b[0mempty_attributes_are_booleans\u001b[0m \u001b[0;32mand\u001b[0m \u001b[0mv\u001b[0m \u001b[0;34m==\u001b[0m \u001b[0;34m''\u001b[0m \u001b[0;32melse\u001b[0m \u001b[0mv\u001b[0m\u001b[0;34m)\u001b[0m\u001b[0;34m)\u001b[0m\u001b[0;34m\u001b[0m\u001b[0;34m\u001b[0m\u001b[0m\n\u001b[0m\u001b[1;32m    145\u001b[0m             \u001b[0;32mfor\u001b[0m \u001b[0mk\u001b[0m\u001b[0;34m,\u001b[0m \u001b[0mv\u001b[0m \u001b[0;32min\u001b[0m \u001b[0mlist\u001b[0m\u001b[0;34m(\u001b[0m\u001b[0mtag\u001b[0m\u001b[0;34m.\u001b[0m\u001b[0mattrs\u001b[0m\u001b[0;34m.\u001b[0m\u001b[0mitems\u001b[0m\u001b[0;34m(\u001b[0m\u001b[0;34m)\u001b[0m\u001b[0;34m)\u001b[0m\u001b[0;34m\u001b[0m\u001b[0;34m\u001b[0m\u001b[0m\n\u001b[1;32m    146\u001b[0m         )\n",
            "\u001b[0;31mKeyboardInterrupt\u001b[0m: "
          ]
        }
      ]
    },
    {
      "cell_type": "code",
      "source": [
        "partidas_df = pd.concat(partidas, ignore_index=True)"
      ],
      "metadata": {
        "id": "hlqOpgZceaEg"
      },
      "execution_count": null,
      "outputs": []
    },
    {
      "cell_type": "code",
      "source": [
        "partidas_df"
      ],
      "metadata": {
        "id": "8b35kXd2L_Dm"
      },
      "execution_count": null,
      "outputs": []
    },
    {
      "cell_type": "code",
      "source": [
        "[p.shape[1] for p in partidas if p.shape[1] != 149]"
      ],
      "metadata": {
        "id": "sRAiG_jH8HMF"
      },
      "execution_count": null,
      "outputs": []
    },
    {
      "cell_type": "code",
      "source": [
        "partidas_df.to_csv(os.path.join(DATA_DIR, 'nba_estats.csv'))"
      ],
      "metadata": {
        "id": "4USV7KG08jyR"
      },
      "execution_count": null,
      "outputs": []
    }
  ]
}