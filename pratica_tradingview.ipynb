{
  "nbformat": 4,
  "nbformat_minor": 0,
  "metadata": {
    "colab": {
      "provenance": []
    },
    "kernelspec": {
      "name": "python3",
      "display_name": "Python 3"
    },
    "language_info": {
      "name": "python"
    }
  },
  "cells": [
    {
      "cell_type": "markdown",
      "source": [
        "PRÁTICA - TradingView"
      ],
      "metadata": {
        "id": "t4zvyUu6g-bu"
      }
    },
    {
      "cell_type": "code",
      "source": [
        "!pip install tradingview_ta"
      ],
      "metadata": {
        "id": "TdQTFTxjhKvY",
        "colab": {
          "base_uri": "https://localhost:8080/"
        },
        "outputId": "d0fbbe79-0261-458b-e2f9-df0dcb196c38"
      },
      "execution_count": null,
      "outputs": [
        {
          "output_type": "stream",
          "name": "stdout",
          "text": [
            "Collecting tradingview_ta\n",
            "  Downloading tradingview_ta-3.3.0-py3-none-any.whl (10 kB)\n",
            "Requirement already satisfied: requests in /usr/local/lib/python3.10/dist-packages (from tradingview_ta) (2.31.0)\n",
            "Requirement already satisfied: charset-normalizer<4,>=2 in /usr/local/lib/python3.10/dist-packages (from requests->tradingview_ta) (3.3.2)\n",
            "Requirement already satisfied: idna<4,>=2.5 in /usr/local/lib/python3.10/dist-packages (from requests->tradingview_ta) (3.7)\n",
            "Requirement already satisfied: urllib3<3,>=1.21.1 in /usr/local/lib/python3.10/dist-packages (from requests->tradingview_ta) (2.0.7)\n",
            "Requirement already satisfied: certifi>=2017.4.17 in /usr/local/lib/python3.10/dist-packages (from requests->tradingview_ta) (2024.6.2)\n",
            "Installing collected packages: tradingview_ta\n",
            "Successfully installed tradingview_ta-3.3.0\n"
          ]
        }
      ]
    },
    {
      "cell_type": "code",
      "source": [
        "from tradingview_ta import TA_Handler, Exchange, Interval"
      ],
      "metadata": {
        "id": "LF6I2HzphEHW"
      },
      "execution_count": null,
      "outputs": []
    },
    {
      "cell_type": "code",
      "execution_count": null,
      "metadata": {
        "id": "2SZSAZ3Pg6W_"
      },
      "outputs": [],
      "source": [
        "#https://tvdb.brianthe.dev/\n",
        "\n",
        "stock1 = TA_Handler(\n",
        "\tsymbol='BTCUSDT',\n",
        "\tscreener='crypto',\n",
        "\texchange='binance',\n",
        "\tinterval=Interval.INTERVAL_1_MINUTE\n",
        ")"
      ]
    },
    {
      "cell_type": "code",
      "source": [
        "stock1.get_analysis().summary"
      ],
      "metadata": {
        "id": "Z8oG0HRqlXie",
        "colab": {
          "base_uri": "https://localhost:8080/"
        },
        "outputId": "707df175-9de1-46c4-b480-cb27aabac82b"
      },
      "execution_count": null,
      "outputs": [
        {
          "output_type": "execute_result",
          "data": {
            "text/plain": [
              "{'RECOMMENDATION': 'NEUTRAL', 'BUY': 9, 'SELL': 8, 'NEUTRAL': 9}"
            ]
          },
          "metadata": {},
          "execution_count": 4
        }
      ]
    },
    {
      "cell_type": "code",
      "source": [
        "stock1.get_analysis().indicators['RSI']"
      ],
      "metadata": {
        "id": "AJpcCHn3lbWN",
        "colab": {
          "base_uri": "https://localhost:8080/"
        },
        "outputId": "7e58fe04-cf2f-4138-e527-a73824238ed6"
      },
      "execution_count": null,
      "outputs": [
        {
          "output_type": "execute_result",
          "data": {
            "text/plain": [
              "53.63290543607511"
            ]
          },
          "metadata": {},
          "execution_count": 5
        }
      ]
    },
    {
      "cell_type": "code",
      "source": [
        "stock1.get_analysis().indicators"
      ],
      "metadata": {
        "id": "4CS-B0OAlPWn",
        "colab": {
          "base_uri": "https://localhost:8080/"
        },
        "outputId": "c15d0886-4ea2-4212-9086-2cf2469711f9"
      },
      "execution_count": null,
      "outputs": [
        {
          "output_type": "execute_result",
          "data": {
            "text/plain": [
              "{'Recommend.Other': 0.2727272727272727,\n",
              " 'Recommend.All': 0.26969696969696966,\n",
              " 'Recommend.MA': 0.26666666666666666,\n",
              " 'RSI': 57.83564693599552,\n",
              " 'RSI[1]': 53.63290543607511,\n",
              " 'Stoch.K': 90.85113478098837,\n",
              " 'Stoch.D': 84.60039849984953,\n",
              " 'Stoch.K[1]': 84.20384022987076,\n",
              " 'Stoch.D[1]': 75.00032024189747,\n",
              " 'CCI20': 97.67084535260747,\n",
              " 'CCI20[1]': 39.03591220067224,\n",
              " 'ADX': 35.991855092957,\n",
              " 'ADX+DI': 38.53529105833123,\n",
              " 'ADX-DI': 29.20896498191943,\n",
              " 'ADX+DI[1]': 33.820115508125845,\n",
              " 'ADX-DI[1]': 31.45070182544923,\n",
              " 'AO': -28.78094117654109,\n",
              " 'AO[1]': -61.278911764784425,\n",
              " 'Mom': 142.97000000000116,\n",
              " 'Mom[1]': 60.98999999999796,\n",
              " 'MACD.macd': -20.450030046122265,\n",
              " 'MACD.signal': -39.747806429771494,\n",
              " 'Rec.Stoch.RSI': 0,\n",
              " 'Stoch.RSI.K': 93.72482365235487,\n",
              " 'Rec.WR': 0,\n",
              " 'W.R': 0,\n",
              " 'Rec.BBPower': 0,\n",
              " 'BBPower': 124.75320414662565,\n",
              " 'Rec.UO': 1,\n",
              " 'UO': 71.82697169369897,\n",
              " 'close': 64846.97,\n",
              " 'EMA5': 64793.82592906153,\n",
              " 'SMA5': 64798.95000000021,\n",
              " 'EMA10': 64768.766360352434,\n",
              " 'SMA10': 64732.532999999916,\n",
              " 'EMA20': 64775.137531447705,\n",
              " 'SMA20': 64756.13250000003,\n",
              " 'EMA30': 64795.484302807265,\n",
              " 'SMA30': 64802.021000000044,\n",
              " 'EMA50': 64833.11342690645,\n",
              " 'SMA50': 64849.726199999845,\n",
              " 'EMA100': 64895.58236202461,\n",
              " 'SMA100': 64919.99519999981,\n",
              " 'EMA200': 64954.41590288404,\n",
              " 'SMA200': 64997.43985000018,\n",
              " 'Rec.Ichimoku': 0,\n",
              " 'Ichimoku.BLine': 64781.815,\n",
              " 'Rec.VWMA': 1,\n",
              " 'VWMA': 64756.30181998494,\n",
              " 'Rec.HullMA9': 1,\n",
              " 'HullMA9': 64835.13170370369,\n",
              " 'Pivot.M.Classic.S3': 61456.44666666666,\n",
              " 'Pivot.M.Classic.S2': 63380.236666666664,\n",
              " 'Pivot.M.Classic.S1': 64125.11333333333,\n",
              " 'Pivot.M.Classic.Middle': 65304.026666666665,\n",
              " 'Pivot.M.Classic.R1': 66048.90333333332,\n",
              " 'Pivot.M.Classic.R2': 67227.81666666667,\n",
              " 'Pivot.M.Classic.R3': 69151.60666666666,\n",
              " 'Pivot.M.Fibonacci.S3': 63380.236666666664,\n",
              " 'Pivot.M.Fibonacci.S2': 64115.12444666666,\n",
              " 'Pivot.M.Fibonacci.S1': 64569.13888666667,\n",
              " 'Pivot.M.Fibonacci.Middle': 65304.026666666665,\n",
              " 'Pivot.M.Fibonacci.R1': 66038.91444666666,\n",
              " 'Pivot.M.Fibonacci.R2': 66492.92888666666,\n",
              " 'Pivot.M.Fibonacci.R3': 67227.81666666667,\n",
              " 'Pivot.M.Camarilla.S3': 64340.94775,\n",
              " 'Pivot.M.Camarilla.S2': 64517.29516666666,\n",
              " 'Pivot.M.Camarilla.S1': 64693.642583333334,\n",
              " 'Pivot.M.Camarilla.Middle': 65304.026666666665,\n",
              " 'Pivot.M.Camarilla.R1': 65046.33741666666,\n",
              " 'Pivot.M.Camarilla.R2': 65222.68483333333,\n",
              " 'Pivot.M.Camarilla.R3': 65399.03225,\n",
              " 'Pivot.M.Woodie.S3': 61984.305,\n",
              " 'Pivot.M.Woodie.S2': 63271.7275,\n",
              " 'Pivot.M.Woodie.S1': 63908.095,\n",
              " 'Pivot.M.Woodie.Middle': 65195.5175,\n",
              " 'Pivot.M.Woodie.R1': 65831.88500000001,\n",
              " 'Pivot.M.Woodie.R2': 67119.3075,\n",
              " 'Pivot.M.Woodie.R3': 67755.675,\n",
              " 'Pivot.M.Demark.S1': 63752.67499999999,\n",
              " 'Pivot.M.Demark.Middle': 65117.807499999995,\n",
              " 'Pivot.M.Demark.R1': 65676.465,\n",
              " 'open': 64811,\n",
              " 'P.SAR': 64651.910835276794,\n",
              " 'BB.lower': 64624.66962341215,\n",
              " 'BB.upper': 64887.59537658791,\n",
              " 'AO[2]': -91.32629411773087,\n",
              " 'volume': 10.5634,\n",
              " 'change': 0.05549983799046637,\n",
              " 'low': 64810.99,\n",
              " 'high': 64846.97}"
            ]
          },
          "metadata": {},
          "execution_count": 6
        }
      ]
    },
    {
      "cell_type": "markdown",
      "source": [
        "#ATIVO 2"
      ],
      "metadata": {
        "id": "5TS3IB4ES7Qh"
      }
    },
    {
      "cell_type": "code",
      "execution_count": null,
      "metadata": {
        "id": "CIm3VDBfSbWd"
      },
      "outputs": [],
      "source": [
        "stock2 = TA_Handler(\n",
        "\tsymbol='TSLA',\n",
        "\tscreener='america',\n",
        "\texchange='NASDAQ',\n",
        "\tinterval=Interval.INTERVAL_1_MINUTE\n",
        ")"
      ]
    },
    {
      "cell_type": "code",
      "source": [
        "stock2.get_analysis().summary"
      ],
      "metadata": {
        "colab": {
          "base_uri": "https://localhost:8080/"
        },
        "id": "jlkWDuo9MwcV",
        "outputId": "8ced1eb5-4999-4132-f287-3b1d6b87acd8"
      },
      "execution_count": null,
      "outputs": [
        {
          "output_type": "execute_result",
          "data": {
            "text/plain": [
              "{'RECOMMENDATION': 'BUY', 'BUY': 11, 'SELL': 6, 'NEUTRAL': 9}"
            ]
          },
          "metadata": {},
          "execution_count": 11
        }
      ]
    },
    {
      "cell_type": "code",
      "source": [
        "stock2.get_analysis().indicators"
      ],
      "metadata": {
        "colab": {
          "base_uri": "https://localhost:8080/"
        },
        "id": "sJ0kh65tM4l2",
        "outputId": "2932ee59-6274-4833-f120-a16a7e7a1203"
      },
      "execution_count": null,
      "outputs": [
        {
          "output_type": "execute_result",
          "data": {
            "text/plain": [
              "{'Recommend.Other': -0.09090909090909091,\n",
              " 'Recommend.All': 0.15454545454545454,\n",
              " 'Recommend.MA': 0.4,\n",
              " 'RSI': 54.4546832390897,\n",
              " 'RSI[1]': 53.12757265389059,\n",
              " 'Stoch.K': 29.99487179487323,\n",
              " 'Stoch.D': 31.681937321937685,\n",
              " 'Stoch.K[1]': 28.978461538461968,\n",
              " 'Stoch.D[1]': 35.578461538461205,\n",
              " 'CCI20': -10.415697560405071,\n",
              " 'CCI20[1]': -6.139968411750492,\n",
              " 'ADX': 22.547980601601704,\n",
              " 'ADX+DI': 21.674109419060112,\n",
              " 'ADX-DI': 17.625674178586316,\n",
              " 'ADX+DI[1]': 22.459945346949304,\n",
              " 'ADX-DI[1]': 18.86877026277924,\n",
              " 'AO': 0.22035529411778043,\n",
              " 'AO[1]': 0.28608205882366633,\n",
              " 'Mom': -0.15859999999997854,\n",
              " 'Mom[1]': -0.15499999999997272,\n",
              " 'MACD.macd': 0.11592761341063351,\n",
              " 'MACD.signal': 0.15658444649974462,\n",
              " 'Rec.Stoch.RSI': 0,\n",
              " 'Stoch.RSI.K': 12.661166246682852,\n",
              " 'Rec.WR': 0,\n",
              " 'W.R': -69.23076923076688,\n",
              " 'Rec.BBPower': 1,\n",
              " 'BBPower': -0.004209737064257979,\n",
              " 'Rec.UO': 0,\n",
              " 'UO': 39.47620545351288,\n",
              " 'close': 181.52,\n",
              " 'EMA5': 181.52847226088613,\n",
              " 'SMA5': 181.5085600000002,\n",
              " 'EMA10': 181.54834057772806,\n",
              " 'SMA10': 181.61527999999961,\n",
              " 'EMA20': 181.4808218081311,\n",
              " 'SMA20': 181.55017000000024,\n",
              " 'EMA30': 181.39283293870093,\n",
              " 'SMA30': 181.35806666666664,\n",
              " 'EMA50': 181.26881389758674,\n",
              " 'SMA50': 181.1606820000001,\n",
              " 'EMA100': 181.1519016857637,\n",
              " 'SMA100': 181.0909979999996,\n",
              " 'EMA200': 181.2957184132386,\n",
              " 'SMA200': 180.99794050000054,\n",
              " 'Rec.Ichimoku': 0,\n",
              " 'Ichimoku.BLine': 181.4025,\n",
              " 'Rec.VWMA': -1,\n",
              " 'VWMA': 181.5510658725231,\n",
              " 'Rec.HullMA9': 1,\n",
              " 'HullMA9': 181.45059851851852,\n",
              " 'Pivot.M.Classic.S3': 175.15700000000004,\n",
              " 'Pivot.M.Classic.S2': 179.98700000000002,\n",
              " 'Pivot.M.Classic.S1': 182.43400000000003,\n",
              " 'Pivot.M.Classic.Middle': 184.817,\n",
              " 'Pivot.M.Classic.R1': 187.264,\n",
              " 'Pivot.M.Classic.R2': 189.647,\n",
              " 'Pivot.M.Classic.R3': 194.47699999999998,\n",
              " 'Pivot.M.Fibonacci.S3': 179.98700000000002,\n",
              " 'Pivot.M.Fibonacci.S2': 181.83206,\n",
              " 'Pivot.M.Fibonacci.S1': 182.97194000000002,\n",
              " 'Pivot.M.Fibonacci.Middle': 184.817,\n",
              " 'Pivot.M.Fibonacci.R1': 186.66206,\n",
              " 'Pivot.M.Fibonacci.R2': 187.80194,\n",
              " 'Pivot.M.Fibonacci.R3': 189.647,\n",
              " 'Pivot.M.Camarilla.S3': 183.55275,\n",
              " 'Pivot.M.Camarilla.S2': 183.9955,\n",
              " 'Pivot.M.Camarilla.S1': 184.43825,\n",
              " 'Pivot.M.Camarilla.Middle': 184.817,\n",
              " 'Pivot.M.Camarilla.R1': 185.32375,\n",
              " 'Pivot.M.Camarilla.R2': 185.7665,\n",
              " 'Pivot.M.Camarilla.R3': 186.20925,\n",
              " 'Pivot.M.Woodie.S3': 177.43500000000006,\n",
              " 'Pivot.M.Woodie.S2': 179.90250000000003,\n",
              " 'Pivot.M.Woodie.S1': 182.26500000000004,\n",
              " 'Pivot.M.Woodie.Middle': 184.73250000000002,\n",
              " 'Pivot.M.Woodie.R1': 187.09500000000003,\n",
              " 'Pivot.M.Woodie.R2': 189.5625,\n",
              " 'Pivot.M.Woodie.R3': 191.925,\n",
              " 'Pivot.M.Demark.S1': 181.21050000000002,\n",
              " 'Pivot.M.Demark.Middle': 184.20525,\n",
              " 'Pivot.M.Demark.R1': 186.0405,\n",
              " 'open': 181.48,\n",
              " 'P.SAR': 181.8876466176,\n",
              " 'BB.lower': 181.23104720205274,\n",
              " 'BB.upper': 181.86929279794774,\n",
              " 'AO[2]': 0.35389088235308463,\n",
              " 'volume': 261568,\n",
              " 'change': 0.01928534038625594,\n",
              " 'low': 181.4401,\n",
              " 'high': 181.63}"
            ]
          },
          "metadata": {},
          "execution_count": 12
        }
      ]
    },
    {
      "cell_type": "markdown",
      "source": [
        "#ATIVO 3"
      ],
      "metadata": {
        "id": "EnkVnjxkS-J2"
      }
    },
    {
      "cell_type": "code",
      "execution_count": null,
      "metadata": {
        "id": "aXSTwnl3Sb8e"
      },
      "outputs": [],
      "source": [
        "stock3 = TA_Handler(\n",
        "\tsymbol='USDJPY',\n",
        "\tscreener='forex',\n",
        "\texchange=Exchange.FOREX,\n",
        "\tinterval=Interval.INTERVAL_1_MINUTE\n",
        ")"
      ]
    },
    {
      "cell_type": "code",
      "source": [
        "stock3.get_analysis().summary"
      ],
      "metadata": {
        "colab": {
          "base_uri": "https://localhost:8080/"
        },
        "id": "tlQQ6OGxNBnx",
        "outputId": "0fa0fd50-a628-4b2c-8d3d-b903526ae20a"
      },
      "execution_count": null,
      "outputs": [
        {
          "output_type": "execute_result",
          "data": {
            "text/plain": [
              "{'RECOMMENDATION': 'STRONG_BUY', 'BUY': 16, 'SELL': 1, 'NEUTRAL': 9}"
            ]
          },
          "metadata": {},
          "execution_count": 14
        }
      ]
    },
    {
      "cell_type": "code",
      "source": [
        "stock3.get_analysis().indicators"
      ],
      "metadata": {
        "colab": {
          "base_uri": "https://localhost:8080/"
        },
        "id": "GHMxvwijNITd",
        "outputId": "ae8b4b23-fb77-4d05-cb11-2c1fabd152bd"
      },
      "execution_count": null,
      "outputs": [
        {
          "output_type": "execute_result",
          "data": {
            "text/plain": [
              "{'Recommend.Other': 0.09090909090909091,\n",
              " 'Recommend.All': 0.5121212121212121,\n",
              " 'Recommend.MA': 0.9333333333333333,\n",
              " 'RSI': 56.812194082798165,\n",
              " 'RSI[1]': 49.87115382675804,\n",
              " 'Stoch.K': 32.861010926928,\n",
              " 'Stoch.D': 37.238191696618664,\n",
              " 'Stoch.K[1]': 32.96448468893599,\n",
              " 'Stoch.D[1]': 44.93892254204447,\n",
              " 'CCI20': 39.09465020120908,\n",
              " 'CCI20[1]': -10.402464277326253,\n",
              " 'ADX': 10.949471252161375,\n",
              " 'ADX+DI': 12.5522168207893,\n",
              " 'ADX-DI': 10.68747968039213,\n",
              " 'ADX+DI[1]': 11.36987243770521,\n",
              " 'ADX-DI[1]': 11.351612781862631,\n",
              " 'AO': 0.0128676470596929,\n",
              " 'AO[1]': 0.01456764705969249,\n",
              " 'Mom': -0.006000000000000227,\n",
              " 'Mom[1]': -0.022999999999996135,\n",
              " 'MACD.macd': 0.00670124758372026,\n",
              " 'MACD.signal': 0.008871625882884407,\n",
              " 'Rec.Stoch.RSI': 0,\n",
              " 'Stoch.RSI.K': 14.661232173038414,\n",
              " 'Rec.WR': 0,\n",
              " 'W.R': -51.21951219509321,\n",
              " 'Rec.BBPower': 1,\n",
              " 'BBPower': 0.0052433118358692354,\n",
              " 'Rec.UO': 0,\n",
              " 'UO': 53.65206633695634,\n",
              " 'close': 158.961,\n",
              " 'EMA5': 158.9539793960959,\n",
              " 'SMA5': 158.9527999999995,\n",
              " 'EMA10': 158.95402217456456,\n",
              " 'SMA10': 158.95399999999972,\n",
              " 'EMA20': 158.95030308924063,\n",
              " 'SMA20': 158.95460000000065,\n",
              " 'EMA30': 158.94467050065592,\n",
              " 'SMA30': 158.94683333333342,\n",
              " 'EMA50': 158.9347676638654,\n",
              " 'SMA50': 158.9290199999998,\n",
              " 'EMA100': 158.92155581075824,\n",
              " 'SMA100': 158.90993999999944,\n",
              " 'EMA200': 158.90857844760717,\n",
              " 'SMA200': 158.90742000000097,\n",
              " 'Rec.Ichimoku': 0,\n",
              " 'Ichimoku.BLine': 158.9355,\n",
              " 'Rec.VWMA': 1,\n",
              " 'VWMA': 158.95471440363193,\n",
              " 'Rec.HullMA9': 1,\n",
              " 'HullMA9': 158.95017777777778,\n",
              " 'Pivot.M.Classic.S3': 156.56199999999998,\n",
              " 'Pivot.M.Classic.S2': 157.57399999999998,\n",
              " 'Pivot.M.Classic.S1': 158.23399999999998,\n",
              " 'Pivot.M.Classic.Middle': 158.58599999999998,\n",
              " 'Pivot.M.Classic.R1': 159.24599999999998,\n",
              " 'Pivot.M.Classic.R2': 159.59799999999998,\n",
              " 'Pivot.M.Classic.R3': 160.60999999999999,\n",
              " 'Pivot.M.Fibonacci.S3': 157.57399999999998,\n",
              " 'Pivot.M.Fibonacci.S2': 157.96058399999998,\n",
              " 'Pivot.M.Fibonacci.S1': 158.19941599999999,\n",
              " 'Pivot.M.Fibonacci.Middle': 158.58599999999998,\n",
              " 'Pivot.M.Fibonacci.R1': 158.97258399999998,\n",
              " 'Pivot.M.Fibonacci.R2': 159.21141599999999,\n",
              " 'Pivot.M.Fibonacci.R3': 159.59799999999998,\n",
              " 'Pivot.M.Camarilla.S3': 158.6157,\n",
              " 'Pivot.M.Camarilla.S2': 158.70846666666668,\n",
              " 'Pivot.M.Camarilla.S1': 158.80123333333333,\n",
              " 'Pivot.M.Camarilla.Middle': 158.58599999999998,\n",
              " 'Pivot.M.Camarilla.R1': 158.98676666666668,\n",
              " 'Pivot.M.Camarilla.R2': 159.07953333333333,\n",
              " 'Pivot.M.Camarilla.R3': 159.1723,\n",
              " 'Pivot.M.Woodie.S3': 157.38299999999998,\n",
              " 'Pivot.M.Woodie.S2': 157.65449999999998,\n",
              " 'Pivot.M.Woodie.S1': 158.39499999999998,\n",
              " 'Pivot.M.Woodie.Middle': 158.66649999999998,\n",
              " 'Pivot.M.Woodie.R1': 159.40699999999998,\n",
              " 'Pivot.M.Woodie.R2': 159.67849999999999,\n",
              " 'Pivot.M.Woodie.R3': 160.41899999999998,\n",
              " 'Pivot.M.Demark.S1': 158.40999999999997,\n",
              " 'Pivot.M.Demark.Middle': 158.67399999999998,\n",
              " 'Pivot.M.Demark.R1': 159.42199999999997,\n",
              " 'open': 158.955,\n",
              " 'P.SAR': 158.94000479142076,\n",
              " 'BB.lower': 158.93309281192032,\n",
              " 'BB.upper': 158.976107188081,\n",
              " 'AO[2]': 0.017088235294977494,\n",
              " 'volume': 284,\n",
              " 'change': 0.010066375161231593,\n",
              " 'low': 158.948,\n",
              " 'high': 158.964}"
            ]
          },
          "metadata": {},
          "execution_count": 15
        }
      ]
    }
  ]
}